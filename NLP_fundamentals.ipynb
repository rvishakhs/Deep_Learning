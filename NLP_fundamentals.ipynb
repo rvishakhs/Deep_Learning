{
 "cells": [
  {
   "cell_type": "code",
   "execution_count": 1,
   "id": "7b4c3247",
   "metadata": {
    "_cell_guid": "b1076dfc-b9ad-4769-8c92-a6c4dae69d19",
    "_uuid": "8f2839f25d086af736a60e9eeb907d3b93b6e0e5",
    "execution": {
     "iopub.execute_input": "2025-02-12T15:07:42.122705Z",
     "iopub.status.busy": "2025-02-12T15:07:42.122415Z",
     "iopub.status.idle": "2025-02-12T15:07:42.925044Z",
     "shell.execute_reply": "2025-02-12T15:07:42.924087Z"
    },
    "papermill": {
     "duration": 0.815727,
     "end_time": "2025-02-12T15:07:42.926458",
     "exception": false,
     "start_time": "2025-02-12T15:07:42.110731",
     "status": "completed"
    },
    "tags": []
   },
   "outputs": [
    {
     "name": "stdout",
     "output_type": "stream",
     "text": [
      "/kaggle/input/universal-sentence-encoder/tensorflow2/universal-sentence-encoder/2/saved_model.pb\n",
      "/kaggle/input/universal-sentence-encoder/tensorflow2/universal-sentence-encoder/2/variables/variables.index\n",
      "/kaggle/input/universal-sentence-encoder/tensorflow2/universal-sentence-encoder/2/variables/variables.data-00000-of-00001\n",
      "/kaggle/input/universal-sentence-encoder/tensorflow2/cmlm-en-base/1/saved_model.pb\n",
      "/kaggle/input/universal-sentence-encoder/tensorflow2/cmlm-en-base/1/assets/vocab.txt\n",
      "/kaggle/input/universal-sentence-encoder/tensorflow2/cmlm-en-base/1/variables/variables.index\n",
      "/kaggle/input/universal-sentence-encoder/tensorflow2/cmlm-en-base/1/variables/variables.data-00000-of-00001\n"
     ]
    }
   ],
   "source": [
    "# This Python 3 environment comes with many helpful analytics libraries installed\n",
    "# It is defined by the kaggle/python Docker image: https://github.com/kaggle/docker-python\n",
    "# For example, here's several helpful packages to load\n",
    "\n",
    "import numpy as np # linear algebra\n",
    "import pandas as pd # data processing, CSV file I/O (e.g. pd.read_csv)\n",
    "\n",
    "# Input data files are available in the read-only \"../input/\" directory\n",
    "# For example, running this (by clicking run or pressing Shift+Enter) will list all files under the input directory\n",
    "\n",
    "import os\n",
    "for dirname, _, filenames in os.walk('/kaggle/input'):\n",
    "    for filename in filenames:\n",
    "        print(os.path.join(dirname, filename))\n",
    "\n",
    "# You can write up to 20GB to the current directory (/kaggle/working/) that gets preserved as output when you create a version using \"Save & Run All\" \n",
    "# You can also write temporary files to /kaggle/temp/, but they won't be saved outside of the current session"
   ]
  },
  {
   "cell_type": "code",
   "execution_count": 2,
   "id": "56519a32",
   "metadata": {
    "execution": {
     "iopub.execute_input": "2025-02-12T15:07:42.947392Z",
     "iopub.status.busy": "2025-02-12T15:07:42.947018Z",
     "iopub.status.idle": "2025-02-12T15:07:43.351690Z",
     "shell.execute_reply": "2025-02-12T15:07:43.350832Z"
    },
    "papermill": {
     "duration": 0.416727,
     "end_time": "2025-02-12T15:07:43.353310",
     "exception": false,
     "start_time": "2025-02-12T15:07:42.936583",
     "status": "completed"
    },
    "tags": []
   },
   "outputs": [
    {
     "name": "stdout",
     "output_type": "stream",
     "text": [
      "--2025-02-12 15:07:42--  https://raw.githubusercontent.com/rvishakhs/tensorflow-deep-learning/refs/heads/main/extras/helper_functions.py\r\n",
      "Resolving raw.githubusercontent.com (raw.githubusercontent.com)... 185.199.108.133, 185.199.109.133, 185.199.110.133, ...\r\n",
      "Connecting to raw.githubusercontent.com (raw.githubusercontent.com)|185.199.108.133|:443... connected.\r\n",
      "HTTP request sent, awaiting response... 200 OK\r\n",
      "Length: 10246 (10K) [text/plain]\r\n",
      "Saving to: ‘helper_functions.py’\r\n",
      "\r\n",
      "helper_functions.py 100%[===================>]  10.01K  --.-KB/s    in 0s      \r\n",
      "\r\n",
      "2025-02-12 15:07:43 (77.2 MB/s) - ‘helper_functions.py’ saved [10246/10246]\r\n",
      "\r\n"
     ]
    }
   ],
   "source": [
    "!wget https://raw.githubusercontent.com/rvishakhs/tensorflow-deep-learning/refs/heads/main/extras/helper_functions.py"
   ]
  },
  {
   "cell_type": "code",
   "execution_count": 3,
   "id": "fa38e78b",
   "metadata": {
    "execution": {
     "iopub.execute_input": "2025-02-12T15:07:43.374463Z",
     "iopub.status.busy": "2025-02-12T15:07:43.374191Z",
     "iopub.status.idle": "2025-02-12T15:07:56.892891Z",
     "shell.execute_reply": "2025-02-12T15:07:56.891965Z"
    },
    "papermill": {
     "duration": 13.53076,
     "end_time": "2025-02-12T15:07:56.894514",
     "exception": false,
     "start_time": "2025-02-12T15:07:43.363754",
     "status": "completed"
    },
    "tags": []
   },
   "outputs": [],
   "source": [
    "from helper_functions import unzip_data, create_tensorboard_callback, plot_loss_curves, walk_through_dir"
   ]
  },
  {
   "cell_type": "code",
   "execution_count": 4,
   "id": "86108bf8",
   "metadata": {
    "execution": {
     "iopub.execute_input": "2025-02-12T15:07:56.915565Z",
     "iopub.status.busy": "2025-02-12T15:07:56.915095Z",
     "iopub.status.idle": "2025-02-12T15:07:57.141276Z",
     "shell.execute_reply": "2025-02-12T15:07:57.140383Z"
    },
    "papermill": {
     "duration": 0.238285,
     "end_time": "2025-02-12T15:07:57.142931",
     "exception": false,
     "start_time": "2025-02-12T15:07:56.904646",
     "status": "completed"
    },
    "tags": []
   },
   "outputs": [
    {
     "name": "stdout",
     "output_type": "stream",
     "text": [
      "--2025-02-12 15:07:56--  https://storage.googleapis.com/ztm_tf_course/nlp_getting_started.zip\r\n",
      "Resolving storage.googleapis.com (storage.googleapis.com)... 74.125.142.207, 142.250.107.207, 108.177.98.207, ...\r\n",
      "Connecting to storage.googleapis.com (storage.googleapis.com)|74.125.142.207|:443... connected.\r\n",
      "HTTP request sent, awaiting response... 200 OK\r\n",
      "Length: 607343 (593K) [application/zip]\r\n",
      "Saving to: ‘nlp_getting_started.zip’\r\n",
      "\r\n",
      "nlp_getting_started 100%[===================>] 593.11K  --.-KB/s    in 0.006s  \r\n",
      "\r\n",
      "2025-02-12 15:07:57 (105 MB/s) - ‘nlp_getting_started.zip’ saved [607343/607343]\r\n",
      "\r\n"
     ]
    }
   ],
   "source": [
    "!wget https://storage.googleapis.com/ztm_tf_course/nlp_getting_started.zip"
   ]
  },
  {
   "cell_type": "code",
   "execution_count": 5,
   "id": "81a1913f",
   "metadata": {
    "execution": {
     "iopub.execute_input": "2025-02-12T15:07:57.164401Z",
     "iopub.status.busy": "2025-02-12T15:07:57.164141Z",
     "iopub.status.idle": "2025-02-12T15:07:57.180623Z",
     "shell.execute_reply": "2025-02-12T15:07:57.180013Z"
    },
    "papermill": {
     "duration": 0.028438,
     "end_time": "2025-02-12T15:07:57.181943",
     "exception": false,
     "start_time": "2025-02-12T15:07:57.153505",
     "status": "completed"
    },
    "tags": []
   },
   "outputs": [],
   "source": [
    "unzip_data('nlp_getting_started.zip')"
   ]
  },
  {
   "cell_type": "code",
   "execution_count": 6,
   "id": "c4153368",
   "metadata": {
    "execution": {
     "iopub.execute_input": "2025-02-12T15:07:57.202392Z",
     "iopub.status.busy": "2025-02-12T15:07:57.202146Z",
     "iopub.status.idle": "2025-02-12T15:07:57.205543Z",
     "shell.execute_reply": "2025-02-12T15:07:57.204705Z"
    },
    "papermill": {
     "duration": 0.014811,
     "end_time": "2025-02-12T15:07:57.206711",
     "exception": false,
     "start_time": "2025-02-12T15:07:57.191900",
     "status": "completed"
    },
    "tags": []
   },
   "outputs": [],
   "source": [
    "import pandas as pd\n",
    "import tensorflow as tf\n",
    "import numpy as np\n"
   ]
  },
  {
   "cell_type": "code",
   "execution_count": 7,
   "id": "676ab3ec",
   "metadata": {
    "execution": {
     "iopub.execute_input": "2025-02-12T15:07:57.226989Z",
     "iopub.status.busy": "2025-02-12T15:07:57.226727Z",
     "iopub.status.idle": "2025-02-12T15:07:57.278530Z",
     "shell.execute_reply": "2025-02-12T15:07:57.277654Z"
    },
    "papermill": {
     "duration": 0.063169,
     "end_time": "2025-02-12T15:07:57.279753",
     "exception": false,
     "start_time": "2025-02-12T15:07:57.216584",
     "status": "completed"
    },
    "tags": []
   },
   "outputs": [
    {
     "data": {
      "text/html": [
       "<div>\n",
       "<style scoped>\n",
       "    .dataframe tbody tr th:only-of-type {\n",
       "        vertical-align: middle;\n",
       "    }\n",
       "\n",
       "    .dataframe tbody tr th {\n",
       "        vertical-align: top;\n",
       "    }\n",
       "\n",
       "    .dataframe thead th {\n",
       "        text-align: right;\n",
       "    }\n",
       "</style>\n",
       "<table border=\"1\" class=\"dataframe\">\n",
       "  <thead>\n",
       "    <tr style=\"text-align: right;\">\n",
       "      <th></th>\n",
       "      <th>id</th>\n",
       "      <th>keyword</th>\n",
       "      <th>location</th>\n",
       "      <th>text</th>\n",
       "      <th>target</th>\n",
       "    </tr>\n",
       "  </thead>\n",
       "  <tbody>\n",
       "    <tr>\n",
       "      <th>0</th>\n",
       "      <td>1</td>\n",
       "      <td>NaN</td>\n",
       "      <td>NaN</td>\n",
       "      <td>Our Deeds are the Reason of this #earthquake M...</td>\n",
       "      <td>1</td>\n",
       "    </tr>\n",
       "    <tr>\n",
       "      <th>1</th>\n",
       "      <td>4</td>\n",
       "      <td>NaN</td>\n",
       "      <td>NaN</td>\n",
       "      <td>Forest fire near La Ronge Sask. Canada</td>\n",
       "      <td>1</td>\n",
       "    </tr>\n",
       "    <tr>\n",
       "      <th>2</th>\n",
       "      <td>5</td>\n",
       "      <td>NaN</td>\n",
       "      <td>NaN</td>\n",
       "      <td>All residents asked to 'shelter in place' are ...</td>\n",
       "      <td>1</td>\n",
       "    </tr>\n",
       "    <tr>\n",
       "      <th>3</th>\n",
       "      <td>6</td>\n",
       "      <td>NaN</td>\n",
       "      <td>NaN</td>\n",
       "      <td>13,000 people receive #wildfires evacuation or...</td>\n",
       "      <td>1</td>\n",
       "    </tr>\n",
       "    <tr>\n",
       "      <th>4</th>\n",
       "      <td>7</td>\n",
       "      <td>NaN</td>\n",
       "      <td>NaN</td>\n",
       "      <td>Just got sent this photo from Ruby #Alaska as ...</td>\n",
       "      <td>1</td>\n",
       "    </tr>\n",
       "  </tbody>\n",
       "</table>\n",
       "</div>"
      ],
      "text/plain": [
       "   id keyword location                                               text  \\\n",
       "0   1     NaN      NaN  Our Deeds are the Reason of this #earthquake M...   \n",
       "1   4     NaN      NaN             Forest fire near La Ronge Sask. Canada   \n",
       "2   5     NaN      NaN  All residents asked to 'shelter in place' are ...   \n",
       "3   6     NaN      NaN  13,000 people receive #wildfires evacuation or...   \n",
       "4   7     NaN      NaN  Just got sent this photo from Ruby #Alaska as ...   \n",
       "\n",
       "   target  \n",
       "0       1  \n",
       "1       1  \n",
       "2       1  \n",
       "3       1  \n",
       "4       1  "
      ]
     },
     "execution_count": 7,
     "metadata": {},
     "output_type": "execute_result"
    }
   ],
   "source": [
    "train_dataset = pd.read_csv('/kaggle/working/train.csv')\n",
    "train_dataset.head()"
   ]
  },
  {
   "cell_type": "code",
   "execution_count": 8,
   "id": "04e93df2",
   "metadata": {
    "execution": {
     "iopub.execute_input": "2025-02-12T15:07:57.301151Z",
     "iopub.status.busy": "2025-02-12T15:07:57.300901Z",
     "iopub.status.idle": "2025-02-12T15:07:57.320232Z",
     "shell.execute_reply": "2025-02-12T15:07:57.319415Z"
    },
    "papermill": {
     "duration": 0.031367,
     "end_time": "2025-02-12T15:07:57.321577",
     "exception": false,
     "start_time": "2025-02-12T15:07:57.290210",
     "status": "completed"
    },
    "tags": []
   },
   "outputs": [
    {
     "data": {
      "text/html": [
       "<div>\n",
       "<style scoped>\n",
       "    .dataframe tbody tr th:only-of-type {\n",
       "        vertical-align: middle;\n",
       "    }\n",
       "\n",
       "    .dataframe tbody tr th {\n",
       "        vertical-align: top;\n",
       "    }\n",
       "\n",
       "    .dataframe thead th {\n",
       "        text-align: right;\n",
       "    }\n",
       "</style>\n",
       "<table border=\"1\" class=\"dataframe\">\n",
       "  <thead>\n",
       "    <tr style=\"text-align: right;\">\n",
       "      <th></th>\n",
       "      <th>id</th>\n",
       "      <th>keyword</th>\n",
       "      <th>location</th>\n",
       "      <th>text</th>\n",
       "    </tr>\n",
       "  </thead>\n",
       "  <tbody>\n",
       "    <tr>\n",
       "      <th>0</th>\n",
       "      <td>0</td>\n",
       "      <td>NaN</td>\n",
       "      <td>NaN</td>\n",
       "      <td>Just happened a terrible car crash</td>\n",
       "    </tr>\n",
       "    <tr>\n",
       "      <th>1</th>\n",
       "      <td>2</td>\n",
       "      <td>NaN</td>\n",
       "      <td>NaN</td>\n",
       "      <td>Heard about #earthquake is different cities, s...</td>\n",
       "    </tr>\n",
       "    <tr>\n",
       "      <th>2</th>\n",
       "      <td>3</td>\n",
       "      <td>NaN</td>\n",
       "      <td>NaN</td>\n",
       "      <td>there is a forest fire at spot pond, geese are...</td>\n",
       "    </tr>\n",
       "    <tr>\n",
       "      <th>3</th>\n",
       "      <td>9</td>\n",
       "      <td>NaN</td>\n",
       "      <td>NaN</td>\n",
       "      <td>Apocalypse lighting. #Spokane #wildfires</td>\n",
       "    </tr>\n",
       "    <tr>\n",
       "      <th>4</th>\n",
       "      <td>11</td>\n",
       "      <td>NaN</td>\n",
       "      <td>NaN</td>\n",
       "      <td>Typhoon Soudelor kills 28 in China and Taiwan</td>\n",
       "    </tr>\n",
       "  </tbody>\n",
       "</table>\n",
       "</div>"
      ],
      "text/plain": [
       "   id keyword location                                               text\n",
       "0   0     NaN      NaN                 Just happened a terrible car crash\n",
       "1   2     NaN      NaN  Heard about #earthquake is different cities, s...\n",
       "2   3     NaN      NaN  there is a forest fire at spot pond, geese are...\n",
       "3   9     NaN      NaN           Apocalypse lighting. #Spokane #wildfires\n",
       "4  11     NaN      NaN      Typhoon Soudelor kills 28 in China and Taiwan"
      ]
     },
     "execution_count": 8,
     "metadata": {},
     "output_type": "execute_result"
    }
   ],
   "source": [
    "test_dataset = pd.read_csv('/kaggle/working/test.csv')\n",
    "test_dataset.head()"
   ]
  },
  {
   "cell_type": "code",
   "execution_count": 9,
   "id": "bfa9126e",
   "metadata": {
    "execution": {
     "iopub.execute_input": "2025-02-12T15:07:57.343300Z",
     "iopub.status.busy": "2025-02-12T15:07:57.343083Z",
     "iopub.status.idle": "2025-02-12T15:07:57.358005Z",
     "shell.execute_reply": "2025-02-12T15:07:57.357188Z"
    },
    "papermill": {
     "duration": 0.026809,
     "end_time": "2025-02-12T15:07:57.359327",
     "exception": false,
     "start_time": "2025-02-12T15:07:57.332518",
     "status": "completed"
    },
    "tags": []
   },
   "outputs": [
    {
     "data": {
      "text/html": [
       "<div>\n",
       "<style scoped>\n",
       "    .dataframe tbody tr th:only-of-type {\n",
       "        vertical-align: middle;\n",
       "    }\n",
       "\n",
       "    .dataframe tbody tr th {\n",
       "        vertical-align: top;\n",
       "    }\n",
       "\n",
       "    .dataframe thead th {\n",
       "        text-align: right;\n",
       "    }\n",
       "</style>\n",
       "<table border=\"1\" class=\"dataframe\">\n",
       "  <thead>\n",
       "    <tr style=\"text-align: right;\">\n",
       "      <th></th>\n",
       "      <th>id</th>\n",
       "      <th>keyword</th>\n",
       "      <th>location</th>\n",
       "      <th>text</th>\n",
       "      <th>target</th>\n",
       "    </tr>\n",
       "  </thead>\n",
       "  <tbody>\n",
       "    <tr>\n",
       "      <th>2644</th>\n",
       "      <td>3796</td>\n",
       "      <td>destruction</td>\n",
       "      <td>NaN</td>\n",
       "      <td>So you have a new weapon that can cause un-ima...</td>\n",
       "      <td>1</td>\n",
       "    </tr>\n",
       "    <tr>\n",
       "      <th>2227</th>\n",
       "      <td>3185</td>\n",
       "      <td>deluge</td>\n",
       "      <td>NaN</td>\n",
       "      <td>The f$&amp;amp;@ing things I do for #GISHWHES Just...</td>\n",
       "      <td>0</td>\n",
       "    </tr>\n",
       "    <tr>\n",
       "      <th>5448</th>\n",
       "      <td>7769</td>\n",
       "      <td>police</td>\n",
       "      <td>UK</td>\n",
       "      <td>DT @georgegalloway: RT @Galloway4Mayor: ÛÏThe...</td>\n",
       "      <td>1</td>\n",
       "    </tr>\n",
       "    <tr>\n",
       "      <th>132</th>\n",
       "      <td>191</td>\n",
       "      <td>aftershock</td>\n",
       "      <td>NaN</td>\n",
       "      <td>Aftershock back to school kick off was great. ...</td>\n",
       "      <td>0</td>\n",
       "    </tr>\n",
       "    <tr>\n",
       "      <th>6845</th>\n",
       "      <td>9810</td>\n",
       "      <td>trauma</td>\n",
       "      <td>Montgomery County, MD</td>\n",
       "      <td>in response to trauma Children of Addicts deve...</td>\n",
       "      <td>0</td>\n",
       "    </tr>\n",
       "  </tbody>\n",
       "</table>\n",
       "</div>"
      ],
      "text/plain": [
       "        id      keyword               location  \\\n",
       "2644  3796  destruction                    NaN   \n",
       "2227  3185       deluge                    NaN   \n",
       "5448  7769       police                     UK   \n",
       "132    191   aftershock                    NaN   \n",
       "6845  9810       trauma  Montgomery County, MD   \n",
       "\n",
       "                                                   text  target  \n",
       "2644  So you have a new weapon that can cause un-ima...       1  \n",
       "2227  The f$&amp;@ing things I do for #GISHWHES Just...       0  \n",
       "5448  DT @georgegalloway: RT @Galloway4Mayor: ÛÏThe...       1  \n",
       "132   Aftershock back to school kick off was great. ...       0  \n",
       "6845  in response to trauma Children of Addicts deve...       0  "
      ]
     },
     "execution_count": 9,
     "metadata": {},
     "output_type": "execute_result"
    }
   ],
   "source": [
    "# Shuffle the data \n",
    "train_dataset_shuffled = train_dataset.sample(frac=1, random_state=42)\n",
    "train_dataset_shuffled.head()"
   ]
  },
  {
   "cell_type": "code",
   "execution_count": 10,
   "id": "6d953882",
   "metadata": {
    "execution": {
     "iopub.execute_input": "2025-02-12T15:07:57.380652Z",
     "iopub.status.busy": "2025-02-12T15:07:57.380431Z",
     "iopub.status.idle": "2025-02-12T15:07:57.394338Z",
     "shell.execute_reply": "2025-02-12T15:07:57.393520Z"
    },
    "papermill": {
     "duration": 0.026081,
     "end_time": "2025-02-12T15:07:57.395627",
     "exception": false,
     "start_time": "2025-02-12T15:07:57.369546",
     "status": "completed"
    },
    "tags": []
   },
   "outputs": [
    {
     "data": {
      "text/plain": [
       "target\n",
       "0    4342\n",
       "1    3271\n",
       "Name: count, dtype: int64"
      ]
     },
     "execution_count": 10,
     "metadata": {},
     "output_type": "execute_result"
    }
   ],
   "source": [
    "train_dataset_shuffled.target.value_counts()"
   ]
  },
  {
   "cell_type": "code",
   "execution_count": 11,
   "id": "89f1eb9a",
   "metadata": {
    "execution": {
     "iopub.execute_input": "2025-02-12T15:07:57.417467Z",
     "iopub.status.busy": "2025-02-12T15:07:57.417250Z",
     "iopub.status.idle": "2025-02-12T15:07:57.429243Z",
     "shell.execute_reply": "2025-02-12T15:07:57.428254Z"
    },
    "papermill": {
     "duration": 0.023924,
     "end_time": "2025-02-12T15:07:57.430409",
     "exception": false,
     "start_time": "2025-02-12T15:07:57.406485",
     "status": "completed"
    },
    "tags": []
   },
   "outputs": [
    {
     "name": "stdout",
     "output_type": "stream",
     "text": [
      "Target: 1 (real disaster)\n",
      "Text:\n",
      "Debris found on Reunion Island comes from MH370: Malaysian PM http://t.co/f75qWyeeEC\n",
      "\n",
      "----\n",
      "\n",
      "Target: 0 (not real disaster)\n",
      "Text:\n",
      "It's raining outside I'm burning my favorite candle and there's hot cocoa to sip. Nap time = awesomesauce.\n",
      "\n",
      "----\n",
      "\n",
      "Target: 0 (not real disaster)\n",
      "Text:\n",
      "@58hif my trick is to think about nasty things\n",
      "\n",
      "----\n",
      "\n",
      "Target: 0 (not real disaster)\n",
      "Text:\n",
      "Hunger hits me and I can't function probably wouldn't last long in famine zones***thank God***\n",
      "\n",
      "----\n",
      "\n",
      "Target: 0 (not real disaster)\n",
      "Text:\n",
      "Look for my Policy Matters Ohio report on #CLE and Cuyahoga County blight and greening vacant lands soon!  https://t.co/if62SdXVp7\n",
      "\n",
      "----\n",
      "\n"
     ]
    }
   ],
   "source": [
    "# Display some random training samples \n",
    "import random\n",
    "random_index = random.randint(0, len(train_dataset_shuffled)-5)\n",
    "for row in train_dataset_shuffled[[\"text\", \"target\"]][random_index:random_index+5].itertuples():\n",
    "    _, text, target = row\n",
    "    print(f\"Target: {target}\", \"(real disaster)\" if target > 0 else \"(not real disaster)\")\n",
    "    print(f\"Text:\\n{text}\\n\")\n",
    "    print(\"----\\n\")"
   ]
  },
  {
   "cell_type": "code",
   "execution_count": 12,
   "id": "5dc8fb17",
   "metadata": {
    "execution": {
     "iopub.execute_input": "2025-02-12T15:07:57.452188Z",
     "iopub.status.busy": "2025-02-12T15:07:57.451965Z",
     "iopub.status.idle": "2025-02-12T15:07:57.470446Z",
     "shell.execute_reply": "2025-02-12T15:07:57.469835Z"
    },
    "papermill": {
     "duration": 0.03075,
     "end_time": "2025-02-12T15:07:57.471741",
     "exception": false,
     "start_time": "2025-02-12T15:07:57.440991",
     "status": "completed"
    },
    "tags": []
   },
   "outputs": [],
   "source": [
    "# Split data into training and Validation data \n",
    "from sklearn.model_selection import train_test_split\n",
    "train_sentences, val_sentences, train_labels, val_labels = train_test_split(train_dataset_shuffled['text'].to_numpy(),\n",
    "                                                                           train_dataset_shuffled['target'].to_numpy(),\n",
    "                                                                           test_size=0.1, \n",
    "                                                                           random_state=42)"
   ]
  },
  {
   "cell_type": "code",
   "execution_count": 13,
   "id": "003540de",
   "metadata": {
    "execution": {
     "iopub.execute_input": "2025-02-12T15:07:57.493516Z",
     "iopub.status.busy": "2025-02-12T15:07:57.493298Z",
     "iopub.status.idle": "2025-02-12T15:07:57.497804Z",
     "shell.execute_reply": "2025-02-12T15:07:57.497150Z"
    },
    "papermill": {
     "duration": 0.016683,
     "end_time": "2025-02-12T15:07:57.498979",
     "exception": false,
     "start_time": "2025-02-12T15:07:57.482296",
     "status": "completed"
    },
    "tags": []
   },
   "outputs": [
    {
     "data": {
      "text/plain": [
       "(6851, 762, 6851, 762)"
      ]
     },
     "execution_count": 13,
     "metadata": {},
     "output_type": "execute_result"
    }
   ],
   "source": [
    "# Check the lengths\n",
    "len(train_sentences), len(val_sentences), len(train_labels), len(val_labels)"
   ]
  },
  {
   "cell_type": "code",
   "execution_count": 14,
   "id": "1298d9ca",
   "metadata": {
    "execution": {
     "iopub.execute_input": "2025-02-12T15:07:57.520675Z",
     "iopub.status.busy": "2025-02-12T15:07:57.520452Z",
     "iopub.status.idle": "2025-02-12T15:07:57.525397Z",
     "shell.execute_reply": "2025-02-12T15:07:57.524583Z"
    },
    "papermill": {
     "duration": 0.017076,
     "end_time": "2025-02-12T15:07:57.526557",
     "exception": false,
     "start_time": "2025-02-12T15:07:57.509481",
     "status": "completed"
    },
    "tags": []
   },
   "outputs": [
    {
     "data": {
      "text/plain": [
       "(array(['@mogacola @zamtriossu i screamed after hitting tweet',\n",
       "        'Imagine getting flattened by Kurt Zouma',\n",
       "        '@Gurmeetramrahim #MSGDoing111WelfareWorks Green S welfare force ke appx 65000 members har time disaster victim ki help ke liye tyar hai....',\n",
       "        \"@shakjn @C7 @Magnums im shaking in fear he's gonna hack the planet\",\n",
       "        'Somehow find you and I collide http://t.co/Ee8RpOahPk',\n",
       "        '@EvaHanderek @MarleyKnysh great times until the bus driver held us hostage in the mall parking lot lmfao',\n",
       "        'destroy the free fandom honestly',\n",
       "        'Weapons stolen from National Guard Armory in New Albany still missing #Gunsense http://t.co/lKNU8902JE',\n",
       "        '@wfaaweather Pete when will the heat wave pass? Is it really going to be mid month? Frisco Boy Scouts have a canoe trip in Okla.',\n",
       "        'Patient-reported outcomes in long-term survivors of metastatic colorectal cancer - British Journal of Surgery http://t.co/5Yl4DC1Tqt'],\n",
       "       dtype=object),\n",
       " array([0, 0, 1, 0, 0, 1, 1, 0, 1, 1]))"
      ]
     },
     "execution_count": 14,
     "metadata": {},
     "output_type": "execute_result"
    }
   ],
   "source": [
    "# Display first 10 training sentences with coressponding labels \n",
    "train_sentences[:10], train_labels[:10]\n"
   ]
  },
  {
   "cell_type": "markdown",
   "id": "8e1e1f0f",
   "metadata": {
    "papermill": {
     "duration": 0.010296,
     "end_time": "2025-02-12T15:07:57.547441",
     "exception": false,
     "start_time": "2025-02-12T15:07:57.537145",
     "status": "completed"
    },
    "tags": []
   },
   "source": [
    "# Text Vectorization (Tokenization)\n"
   ]
  },
  {
   "cell_type": "code",
   "execution_count": 15,
   "id": "5a422647",
   "metadata": {
    "execution": {
     "iopub.execute_input": "2025-02-12T15:07:57.569561Z",
     "iopub.status.busy": "2025-02-12T15:07:57.569299Z",
     "iopub.status.idle": "2025-02-12T15:07:58.672889Z",
     "shell.execute_reply": "2025-02-12T15:07:58.672178Z"
    },
    "papermill": {
     "duration": 1.116418,
     "end_time": "2025-02-12T15:07:58.674348",
     "exception": false,
     "start_time": "2025-02-12T15:07:57.557930",
     "status": "completed"
    },
    "tags": []
   },
   "outputs": [],
   "source": [
    "import tensorflow as tf\n",
    "from tensorflow.keras.layers import TextVectorization\n",
    "\n",
    "text_vectorizer = TextVectorization(max_tokens=None, \n",
    "                                   split=\"whitespace\",\n",
    "                                   ngrams=None,\n",
    "                                   output_mode=\"int\",\n",
    "                                   standardize='lower_and_strip_punctuation',\n",
    "                                   output_sequence_length=None\n",
    "                                   )"
   ]
  },
  {
   "cell_type": "code",
   "execution_count": 16,
   "id": "bb25c6f3",
   "metadata": {
    "execution": {
     "iopub.execute_input": "2025-02-12T15:07:58.696991Z",
     "iopub.status.busy": "2025-02-12T15:07:58.696709Z",
     "iopub.status.idle": "2025-02-12T15:07:58.708196Z",
     "shell.execute_reply": "2025-02-12T15:07:58.707614Z"
    },
    "papermill": {
     "duration": 0.023886,
     "end_time": "2025-02-12T15:07:58.709387",
     "exception": false,
     "start_time": "2025-02-12T15:07:58.685501",
     "status": "completed"
    },
    "tags": []
   },
   "outputs": [
    {
     "data": {
      "text/plain": [
       "15"
      ]
     },
     "execution_count": 16,
     "metadata": {},
     "output_type": "execute_result"
    }
   ],
   "source": [
    "# Find average number of tokens (words) in training datasets \n",
    "round(sum([len(i.split()) for i in train_sentences]) / len(train_sentences))"
   ]
  },
  {
   "cell_type": "code",
   "execution_count": 17,
   "id": "a6a10597",
   "metadata": {
    "execution": {
     "iopub.execute_input": "2025-02-12T15:07:58.732796Z",
     "iopub.status.busy": "2025-02-12T15:07:58.732561Z",
     "iopub.status.idle": "2025-02-12T15:07:58.739521Z",
     "shell.execute_reply": "2025-02-12T15:07:58.738930Z"
    },
    "papermill": {
     "duration": 0.019313,
     "end_time": "2025-02-12T15:07:58.740616",
     "exception": false,
     "start_time": "2025-02-12T15:07:58.721303",
     "status": "completed"
    },
    "tags": []
   },
   "outputs": [],
   "source": [
    "# Setup Hyper parameters \n",
    "MAX_VOCAL_LENGTH = 10000 # max number of words to have in our vacabulary\n",
    "MAX_LENGTH = 15 \n",
    "\n",
    "text_vectorizer = TextVectorization(max_tokens=MAX_VOCAL_LENGTH,\n",
    "                                    output_mode=\"int\",\n",
    "                                    output_sequence_length=MAX_LENGTH)"
   ]
  },
  {
   "cell_type": "code",
   "execution_count": 18,
   "id": "86c4cd9d",
   "metadata": {
    "execution": {
     "iopub.execute_input": "2025-02-12T15:07:58.762624Z",
     "iopub.status.busy": "2025-02-12T15:07:58.762404Z",
     "iopub.status.idle": "2025-02-12T15:07:58.932614Z",
     "shell.execute_reply": "2025-02-12T15:07:58.931929Z"
    },
    "papermill": {
     "duration": 0.182839,
     "end_time": "2025-02-12T15:07:58.934260",
     "exception": false,
     "start_time": "2025-02-12T15:07:58.751421",
     "status": "completed"
    },
    "tags": []
   },
   "outputs": [],
   "source": [
    "# Let's fit the text vectorozer to the training text\n",
    "text_vectorizer.adapt(train_sentences)"
   ]
  },
  {
   "cell_type": "code",
   "execution_count": 19,
   "id": "436f6c2e",
   "metadata": {
    "execution": {
     "iopub.execute_input": "2025-02-12T15:07:58.957100Z",
     "iopub.status.busy": "2025-02-12T15:07:58.956799Z",
     "iopub.status.idle": "2025-02-12T15:08:00.374913Z",
     "shell.execute_reply": "2025-02-12T15:08:00.374037Z"
    },
    "papermill": {
     "duration": 1.430851,
     "end_time": "2025-02-12T15:08:00.376235",
     "exception": false,
     "start_time": "2025-02-12T15:07:58.945384",
     "status": "completed"
    },
    "tags": []
   },
   "outputs": [
    {
     "data": {
      "text/plain": [
       "<tf.Tensor: shape=(1, 15), dtype=int64, numpy=\n",
       "array([[  8, 110,   5, 193, 747,   7, 955,   0,   0,   0,   0,   0,   0,\n",
       "          0,   0]])>"
      ]
     },
     "execution_count": 19,
     "metadata": {},
     "output_type": "execute_result"
    }
   ],
   "source": [
    "# Creata a simple sentence and find out \n",
    "sample = \"I love to read book and drive\"\n",
    "text_vectorizer([sample])"
   ]
  },
  {
   "cell_type": "code",
   "execution_count": 20,
   "id": "174fd8b8",
   "metadata": {
    "execution": {
     "iopub.execute_input": "2025-02-12T15:08:00.399316Z",
     "iopub.status.busy": "2025-02-12T15:08:00.399075Z",
     "iopub.status.idle": "2025-02-12T15:08:00.413760Z",
     "shell.execute_reply": "2025-02-12T15:08:00.412956Z"
    },
    "papermill": {
     "duration": 0.027545,
     "end_time": "2025-02-12T15:08:00.414979",
     "exception": false,
     "start_time": "2025-02-12T15:08:00.387434",
     "status": "completed"
    },
    "tags": []
   },
   "outputs": [
    {
     "name": "stdout",
     "output_type": "stream",
     "text": [
      "orginal Text: \n",
      " HALSEY AND TROYE COLLAB WOULD BE BOMB\n",
      "Vectorized Version:  \n"
     ]
    },
    {
     "data": {
      "text/plain": [
       "<tf.Tensor: shape=(1, 15), dtype=int64, numpy=\n",
       "array([[   1,    7, 7344,    1,   78,   21,  108,    0,    0,    0,    0,\n",
       "           0,    0,    0,    0]])>"
      ]
     },
     "execution_count": 20,
     "metadata": {},
     "output_type": "execute_result"
    }
   ],
   "source": [
    "# Choose random sentences from the training \n",
    "random_text = random.choice(train_sentences)\n",
    "print(f\"orginal Text: \\n {random_text}\")\n",
    "print(\"Vectorized Version:  \")\n",
    "text_vectorizer([random_text])"
   ]
  },
  {
   "cell_type": "code",
   "execution_count": 21,
   "id": "79b019a1",
   "metadata": {
    "execution": {
     "iopub.execute_input": "2025-02-12T15:08:00.437702Z",
     "iopub.status.busy": "2025-02-12T15:08:00.437466Z",
     "iopub.status.idle": "2025-02-12T15:08:00.466439Z",
     "shell.execute_reply": "2025-02-12T15:08:00.465699Z"
    },
    "papermill": {
     "duration": 0.041746,
     "end_time": "2025-02-12T15:08:00.467706",
     "exception": false,
     "start_time": "2025-02-12T15:08:00.425960",
     "status": "completed"
    },
    "tags": []
   },
   "outputs": [
    {
     "name": "stdout",
     "output_type": "stream",
     "text": [
      "Number of words in vocab: 10000\n",
      "Top 5 most common words: ['', '[UNK]', 'the', 'a', 'in']\n",
      "Bottom 5 least common words: ['pages', 'paeds', 'pads', 'padres', 'paddytomlinson1']\n"
     ]
    }
   ],
   "source": [
    "# Get the unique words in the vocabulary\n",
    "words_in_vocab = text_vectorizer.get_vocabulary()\n",
    "top_5_words = words_in_vocab[:5] # most common tokens (notice the [UNK] token for \"unknown\" words)\n",
    "bottom_5_words = words_in_vocab[-5:] # least common tokens\n",
    "print(f\"Number of words in vocab: {len(words_in_vocab)}\")\n",
    "print(f\"Top 5 most common words: {top_5_words}\") \n",
    "print(f\"Bottom 5 least common words: {bottom_5_words}\")"
   ]
  },
  {
   "cell_type": "code",
   "execution_count": 22,
   "id": "22c68484",
   "metadata": {
    "execution": {
     "iopub.execute_input": "2025-02-12T15:08:00.490845Z",
     "iopub.status.busy": "2025-02-12T15:08:00.490618Z",
     "iopub.status.idle": "2025-02-12T15:08:00.496454Z",
     "shell.execute_reply": "2025-02-12T15:08:00.495593Z"
    },
    "papermill": {
     "duration": 0.018661,
     "end_time": "2025-02-12T15:08:00.497656",
     "exception": false,
     "start_time": "2025-02-12T15:08:00.478995",
     "status": "completed"
    },
    "tags": []
   },
   "outputs": [
    {
     "data": {
      "text/plain": [
       "<Embedding name=embedding, built=False>"
      ]
     },
     "execution_count": 22,
     "metadata": {},
     "output_type": "execute_result"
    }
   ],
   "source": [
    "# Embedding \n",
    "from tensorflow.keras import layers \n",
    "\n",
    "embedding = layers.Embedding(input_dim=MAX_VOCAL_LENGTH,\n",
    "                            output_dim=128,\n",
    "                            )\n",
    "\n",
    "embedding"
   ]
  },
  {
   "cell_type": "code",
   "execution_count": 23,
   "id": "b49423f5",
   "metadata": {
    "execution": {
     "iopub.execute_input": "2025-02-12T15:08:00.520177Z",
     "iopub.status.busy": "2025-02-12T15:08:00.519927Z",
     "iopub.status.idle": "2025-02-12T15:08:01.451844Z",
     "shell.execute_reply": "2025-02-12T15:08:01.450933Z"
    },
    "papermill": {
     "duration": 0.944826,
     "end_time": "2025-02-12T15:08:01.453438",
     "exception": false,
     "start_time": "2025-02-12T15:08:00.508612",
     "status": "completed"
    },
    "tags": []
   },
   "outputs": [
    {
     "name": "stdout",
     "output_type": "stream",
     "text": [
      "Orginal text: Mum's literally just picked up her new car today and flattened the battery already trying to sort out the Bluetooth ???? #Muppet      \n",
      " Embedded Version: \n"
     ]
    },
    {
     "data": {
      "text/plain": [
       "<tf.Tensor: shape=(1, 15, 128), dtype=float32, numpy=\n",
       "array([[[ 0.00699865,  0.03482871, -0.00909681, ..., -0.0052816 ,\n",
       "          0.04331485,  0.00670005],\n",
       "        [ 0.00335157,  0.0127886 , -0.03495526, ..., -0.01380805,\n",
       "          0.0449584 ,  0.04105116],\n",
       "        [ 0.02407131,  0.03939674,  0.00749598, ..., -0.01301996,\n",
       "         -0.01435693, -0.04415988],\n",
       "        ...,\n",
       "        [ 0.0480918 , -0.04183561,  0.01466392, ...,  0.04984197,\n",
       "         -0.02762347,  0.0081005 ],\n",
       "        [-0.0053537 ,  0.0422218 , -0.04558622, ..., -0.04312735,\n",
       "          0.0255428 , -0.03406294],\n",
       "        [ 0.01049076, -0.02890481, -0.04423739, ...,  0.0422636 ,\n",
       "          0.03312141, -0.01722682]]], dtype=float32)>"
      ]
     },
     "execution_count": 23,
     "metadata": {},
     "output_type": "execute_result"
    }
   ],
   "source": [
    "random_text = random.choice(train_sentences)\n",
    "print(f'Orginal text: {random_text}\\\n",
    "      \\n Embedded Version: ')\n",
    "\n",
    "# Embed the random sentences \n",
    "sample_embed = embedding(text_vectorizer([random_text]))\n",
    "sample_embed "
   ]
  },
  {
   "cell_type": "markdown",
   "id": "2a07bb38",
   "metadata": {
    "papermill": {
     "duration": 0.010815,
     "end_time": "2025-02-12T15:08:01.475637",
     "exception": false,
     "start_time": "2025-02-12T15:08:01.464822",
     "status": "completed"
    },
    "tags": []
   },
   "source": [
    "# Model building\n"
   ]
  },
  {
   "cell_type": "code",
   "execution_count": 24,
   "id": "6d393177",
   "metadata": {
    "execution": {
     "iopub.execute_input": "2025-02-12T15:08:01.498411Z",
     "iopub.status.busy": "2025-02-12T15:08:01.498139Z",
     "iopub.status.idle": "2025-02-12T15:08:01.694503Z",
     "shell.execute_reply": "2025-02-12T15:08:01.693660Z"
    },
    "papermill": {
     "duration": 0.209278,
     "end_time": "2025-02-12T15:08:01.695813",
     "exception": false,
     "start_time": "2025-02-12T15:08:01.486535",
     "status": "completed"
    },
    "tags": []
   },
   "outputs": [
    {
     "data": {
      "text/html": [
       "<style>#sk-container-id-1 {color: black;background-color: white;}#sk-container-id-1 pre{padding: 0;}#sk-container-id-1 div.sk-toggleable {background-color: white;}#sk-container-id-1 label.sk-toggleable__label {cursor: pointer;display: block;width: 100%;margin-bottom: 0;padding: 0.3em;box-sizing: border-box;text-align: center;}#sk-container-id-1 label.sk-toggleable__label-arrow:before {content: \"▸\";float: left;margin-right: 0.25em;color: #696969;}#sk-container-id-1 label.sk-toggleable__label-arrow:hover:before {color: black;}#sk-container-id-1 div.sk-estimator:hover label.sk-toggleable__label-arrow:before {color: black;}#sk-container-id-1 div.sk-toggleable__content {max-height: 0;max-width: 0;overflow: hidden;text-align: left;background-color: #f0f8ff;}#sk-container-id-1 div.sk-toggleable__content pre {margin: 0.2em;color: black;border-radius: 0.25em;background-color: #f0f8ff;}#sk-container-id-1 input.sk-toggleable__control:checked~div.sk-toggleable__content {max-height: 200px;max-width: 100%;overflow: auto;}#sk-container-id-1 input.sk-toggleable__control:checked~label.sk-toggleable__label-arrow:before {content: \"▾\";}#sk-container-id-1 div.sk-estimator input.sk-toggleable__control:checked~label.sk-toggleable__label {background-color: #d4ebff;}#sk-container-id-1 div.sk-label input.sk-toggleable__control:checked~label.sk-toggleable__label {background-color: #d4ebff;}#sk-container-id-1 input.sk-hidden--visually {border: 0;clip: rect(1px 1px 1px 1px);clip: rect(1px, 1px, 1px, 1px);height: 1px;margin: -1px;overflow: hidden;padding: 0;position: absolute;width: 1px;}#sk-container-id-1 div.sk-estimator {font-family: monospace;background-color: #f0f8ff;border: 1px dotted black;border-radius: 0.25em;box-sizing: border-box;margin-bottom: 0.5em;}#sk-container-id-1 div.sk-estimator:hover {background-color: #d4ebff;}#sk-container-id-1 div.sk-parallel-item::after {content: \"\";width: 100%;border-bottom: 1px solid gray;flex-grow: 1;}#sk-container-id-1 div.sk-label:hover label.sk-toggleable__label {background-color: #d4ebff;}#sk-container-id-1 div.sk-serial::before {content: \"\";position: absolute;border-left: 1px solid gray;box-sizing: border-box;top: 0;bottom: 0;left: 50%;z-index: 0;}#sk-container-id-1 div.sk-serial {display: flex;flex-direction: column;align-items: center;background-color: white;padding-right: 0.2em;padding-left: 0.2em;position: relative;}#sk-container-id-1 div.sk-item {position: relative;z-index: 1;}#sk-container-id-1 div.sk-parallel {display: flex;align-items: stretch;justify-content: center;background-color: white;position: relative;}#sk-container-id-1 div.sk-item::before, #sk-container-id-1 div.sk-parallel-item::before {content: \"\";position: absolute;border-left: 1px solid gray;box-sizing: border-box;top: 0;bottom: 0;left: 50%;z-index: -1;}#sk-container-id-1 div.sk-parallel-item {display: flex;flex-direction: column;z-index: 1;position: relative;background-color: white;}#sk-container-id-1 div.sk-parallel-item:first-child::after {align-self: flex-end;width: 50%;}#sk-container-id-1 div.sk-parallel-item:last-child::after {align-self: flex-start;width: 50%;}#sk-container-id-1 div.sk-parallel-item:only-child::after {width: 0;}#sk-container-id-1 div.sk-dashed-wrapped {border: 1px dashed gray;margin: 0 0.4em 0.5em 0.4em;box-sizing: border-box;padding-bottom: 0.4em;background-color: white;}#sk-container-id-1 div.sk-label label {font-family: monospace;font-weight: bold;display: inline-block;line-height: 1.2em;}#sk-container-id-1 div.sk-label-container {text-align: center;}#sk-container-id-1 div.sk-container {/* jupyter's `normalize.less` sets `[hidden] { display: none; }` but bootstrap.min.css set `[hidden] { display: none !important; }` so we also need the `!important` here to be able to override the default hidden behavior on the sphinx rendered scikit-learn.org. See: https://github.com/scikit-learn/scikit-learn/issues/21755 */display: inline-block !important;position: relative;}#sk-container-id-1 div.sk-text-repr-fallback {display: none;}</style><div id=\"sk-container-id-1\" class=\"sk-top-container\"><div class=\"sk-text-repr-fallback\"><pre>Pipeline(steps=[(&#x27;tfidf&#x27;, TfidfVectorizer()), (&#x27;clf&#x27;, MultinomialNB())])</pre><b>In a Jupyter environment, please rerun this cell to show the HTML representation or trust the notebook. <br />On GitHub, the HTML representation is unable to render, please try loading this page with nbviewer.org.</b></div><div class=\"sk-container\" hidden><div class=\"sk-item sk-dashed-wrapped\"><div class=\"sk-label-container\"><div class=\"sk-label sk-toggleable\"><input class=\"sk-toggleable__control sk-hidden--visually\" id=\"sk-estimator-id-1\" type=\"checkbox\" ><label for=\"sk-estimator-id-1\" class=\"sk-toggleable__label sk-toggleable__label-arrow\">Pipeline</label><div class=\"sk-toggleable__content\"><pre>Pipeline(steps=[(&#x27;tfidf&#x27;, TfidfVectorizer()), (&#x27;clf&#x27;, MultinomialNB())])</pre></div></div></div><div class=\"sk-serial\"><div class=\"sk-item\"><div class=\"sk-estimator sk-toggleable\"><input class=\"sk-toggleable__control sk-hidden--visually\" id=\"sk-estimator-id-2\" type=\"checkbox\" ><label for=\"sk-estimator-id-2\" class=\"sk-toggleable__label sk-toggleable__label-arrow\">TfidfVectorizer</label><div class=\"sk-toggleable__content\"><pre>TfidfVectorizer()</pre></div></div></div><div class=\"sk-item\"><div class=\"sk-estimator sk-toggleable\"><input class=\"sk-toggleable__control sk-hidden--visually\" id=\"sk-estimator-id-3\" type=\"checkbox\" ><label for=\"sk-estimator-id-3\" class=\"sk-toggleable__label sk-toggleable__label-arrow\">MultinomialNB</label><div class=\"sk-toggleable__content\"><pre>MultinomialNB()</pre></div></div></div></div></div></div></div>"
      ],
      "text/plain": [
       "Pipeline(steps=[('tfidf', TfidfVectorizer()), ('clf', MultinomialNB())])"
      ]
     },
     "execution_count": 24,
     "metadata": {},
     "output_type": "execute_result"
    }
   ],
   "source": [
    "# Create a base model with sklearn\n",
    "from sklearn.feature_extraction.text import TfidfVectorizer\n",
    "from sklearn.naive_bayes import MultinomialNB\n",
    "from sklearn.pipeline import Pipeline\n",
    "\n",
    "# Create tokenization and modeling pipeline\n",
    "model_0 = Pipeline([\n",
    "    (\"tfidf\",TfidfVectorizer()), # converts words to numbers using tfidf\n",
    "    (\"clf\", MultinomialNB()) # Model the text \n",
    "])\n",
    "\n",
    "model_0.fit(train_sentences, train_labels)"
   ]
  },
  {
   "cell_type": "code",
   "execution_count": 25,
   "id": "fa2d4e38",
   "metadata": {
    "execution": {
     "iopub.execute_input": "2025-02-12T15:08:01.719420Z",
     "iopub.status.busy": "2025-02-12T15:08:01.719192Z",
     "iopub.status.idle": "2025-02-12T15:08:01.724480Z",
     "shell.execute_reply": "2025-02-12T15:08:01.723655Z"
    },
    "papermill": {
     "duration": 0.018154,
     "end_time": "2025-02-12T15:08:01.725554",
     "exception": false,
     "start_time": "2025-02-12T15:08:01.707400",
     "status": "completed"
    },
    "tags": []
   },
   "outputs": [
    {
     "data": {
      "text/plain": [
       "(6851, 762, 6851, 762)"
      ]
     },
     "execution_count": 25,
     "metadata": {},
     "output_type": "execute_result"
    }
   ],
   "source": [
    "# Check the lengths\n",
    "len(train_sentences), len(val_sentences), len(train_labels), len(val_labels)"
   ]
  },
  {
   "cell_type": "code",
   "execution_count": 26,
   "id": "25f10da1",
   "metadata": {
    "execution": {
     "iopub.execute_input": "2025-02-12T15:08:01.748969Z",
     "iopub.status.busy": "2025-02-12T15:08:01.748703Z",
     "iopub.status.idle": "2025-02-12T15:08:01.765330Z",
     "shell.execute_reply": "2025-02-12T15:08:01.764628Z"
    },
    "papermill": {
     "duration": 0.029504,
     "end_time": "2025-02-12T15:08:01.766493",
     "exception": false,
     "start_time": "2025-02-12T15:08:01.736989",
     "status": "completed"
    },
    "tags": []
   },
   "outputs": [
    {
     "name": "stdout",
     "output_type": "stream",
     "text": [
      "Our baseline model acheives an accuracy of : 79.27 %\n"
     ]
    }
   ],
   "source": [
    "# Evalaute our baseline model\n",
    "baseline_score = model_0.score(val_sentences, val_labels)\n",
    "print(f\"Our baseline model acheives an accuracy of : {baseline_score * 100 :.2f} %\")"
   ]
  },
  {
   "cell_type": "code",
   "execution_count": 27,
   "id": "b50206de",
   "metadata": {
    "execution": {
     "iopub.execute_input": "2025-02-12T15:08:01.790300Z",
     "iopub.status.busy": "2025-02-12T15:08:01.790093Z",
     "iopub.status.idle": "2025-02-12T15:08:01.794337Z",
     "shell.execute_reply": "2025-02-12T15:08:01.793690Z"
    },
    "papermill": {
     "duration": 0.017469,
     "end_time": "2025-02-12T15:08:01.795549",
     "exception": false,
     "start_time": "2025-02-12T15:08:01.778080",
     "status": "completed"
    },
    "tags": []
   },
   "outputs": [],
   "source": [
    "from sklearn.metrics import accuracy_score, precision_recall_fscore_support\n",
    "\n",
    "# Create a function to evaluate accuracy, precision, recall and F1 score \n",
    "def calculate_results(y_true, y_pred):\n",
    "    \"\"\"\n",
    "    Calculates model accuracy, precision, recall, and f1score of a binary classification model.\n",
    "    \"\"\"\n",
    "\n",
    "    # Calculate model accuracy\n",
    "    model_accuracy = round(accuracy_score(y_true, y_pred) * 100, 2) \n",
    "\n",
    "    # Calculate model precision, recall and F1score using \"weighted\" average\n",
    "    model_precision, model_recall, model_f1, _ = precision_recall_fscore_support(y_true, y_pred, average='weighted')\n",
    "    model_results = {\"Accuracy Score \" : model_accuracy, \n",
    "                    \"Precision Score\" : model_precision,\n",
    "                    \"Recall Score\" : model_recall,\n",
    "                    \"F1 Score \" : model_f1}\n",
    "    return model_results"
   ]
  },
  {
   "cell_type": "code",
   "execution_count": 28,
   "id": "45fa0ef2",
   "metadata": {
    "execution": {
     "iopub.execute_input": "2025-02-12T15:08:01.819774Z",
     "iopub.status.busy": "2025-02-12T15:08:01.819560Z",
     "iopub.status.idle": "2025-02-12T15:08:01.836279Z",
     "shell.execute_reply": "2025-02-12T15:08:01.835615Z"
    },
    "papermill": {
     "duration": 0.030379,
     "end_time": "2025-02-12T15:08:01.837414",
     "exception": false,
     "start_time": "2025-02-12T15:08:01.807035",
     "status": "completed"
    },
    "tags": []
   },
   "outputs": [
    {
     "data": {
      "text/plain": [
       "array([1, 1, 1, 0, 0, 1, 1, 1, 1, 0, 0, 1, 0, 0, 0, 0, 0, 0, 0, 1])"
      ]
     },
     "execution_count": 28,
     "metadata": {},
     "output_type": "execute_result"
    }
   ],
   "source": [
    "baseline_predictions = model_0.predict(val_sentences)\n",
    "baseline_predictions[:20]"
   ]
  },
  {
   "cell_type": "code",
   "execution_count": 29,
   "id": "3b4782c9",
   "metadata": {
    "execution": {
     "iopub.execute_input": "2025-02-12T15:08:01.861206Z",
     "iopub.status.busy": "2025-02-12T15:08:01.860993Z",
     "iopub.status.idle": "2025-02-12T15:08:01.867770Z",
     "shell.execute_reply": "2025-02-12T15:08:01.866961Z"
    },
    "papermill": {
     "duration": 0.019902,
     "end_time": "2025-02-12T15:08:01.868995",
     "exception": false,
     "start_time": "2025-02-12T15:08:01.849093",
     "status": "completed"
    },
    "tags": []
   },
   "outputs": [
    {
     "data": {
      "text/plain": [
       "{'Accuracy Score ': 79.27,\n",
       " 'Precision Score': 0.8111390004213173,\n",
       " 'Recall Score': 0.7926509186351706,\n",
       " 'F1 Score ': 0.7862189758049549}"
      ]
     },
     "execution_count": 29,
     "metadata": {},
     "output_type": "execute_result"
    }
   ],
   "source": [
    "# Calling the evaluation function\n",
    "baseline_results = calculate_results(y_true=val_labels,\n",
    "                                     y_pred=baseline_predictions)\n",
    "baseline_results "
   ]
  },
  {
   "cell_type": "code",
   "execution_count": 30,
   "id": "bc74e8d7",
   "metadata": {
    "execution": {
     "iopub.execute_input": "2025-02-12T15:08:01.892981Z",
     "iopub.status.busy": "2025-02-12T15:08:01.892705Z",
     "iopub.status.idle": "2025-02-12T15:08:01.895545Z",
     "shell.execute_reply": "2025-02-12T15:08:01.894962Z"
    },
    "papermill": {
     "duration": 0.016083,
     "end_time": "2025-02-12T15:08:01.896726",
     "exception": false,
     "start_time": "2025-02-12T15:08:01.880643",
     "status": "completed"
    },
    "tags": []
   },
   "outputs": [],
   "source": [
    "from helper_functions import create_tensorboard_callback\n",
    "\n",
    "# Create a directory to save Tensorboard logs \n",
    "SAVE_DIR = \"model_logs\""
   ]
  },
  {
   "cell_type": "code",
   "execution_count": 31,
   "id": "20833943",
   "metadata": {
    "execution": {
     "iopub.execute_input": "2025-02-12T15:08:01.921840Z",
     "iopub.status.busy": "2025-02-12T15:08:01.921627Z",
     "iopub.status.idle": "2025-02-12T15:08:01.944123Z",
     "shell.execute_reply": "2025-02-12T15:08:01.943444Z"
    },
    "papermill": {
     "duration": 0.036924,
     "end_time": "2025-02-12T15:08:01.945381",
     "exception": false,
     "start_time": "2025-02-12T15:08:01.908457",
     "status": "completed"
    },
    "tags": []
   },
   "outputs": [],
   "source": [
    "# Build model with the functional API\n",
    "from tensorflow.keras import layers \n",
    "inputs = layers.Input(shape=(1,), dtype=tf.string) \n",
    "x = text_vectorizer(inputs)\n",
    "x = embedding(x)\n",
    "x = layers.GlobalAveragePooling1D()(x)\n",
    "outputs = layers.Dense(1, activation='sigmoid')(x)\n",
    "model_1 = tf.keras.Model(inputs, outputs, name='model_1_Dense')"
   ]
  },
  {
   "cell_type": "code",
   "execution_count": 32,
   "id": "228be730",
   "metadata": {
    "execution": {
     "iopub.execute_input": "2025-02-12T15:08:01.969580Z",
     "iopub.status.busy": "2025-02-12T15:08:01.969359Z",
     "iopub.status.idle": "2025-02-12T15:08:01.984545Z",
     "shell.execute_reply": "2025-02-12T15:08:01.983711Z"
    },
    "papermill": {
     "duration": 0.028464,
     "end_time": "2025-02-12T15:08:01.985709",
     "exception": false,
     "start_time": "2025-02-12T15:08:01.957245",
     "status": "completed"
    },
    "tags": []
   },
   "outputs": [
    {
     "data": {
      "text/html": [
       "<pre style=\"white-space:pre;overflow-x:auto;line-height:normal;font-family:Menlo,'DejaVu Sans Mono',consolas,'Courier New',monospace\"><span style=\"font-weight: bold\">Model: \"model_1_Dense\"</span>\n",
       "</pre>\n"
      ],
      "text/plain": [
       "\u001b[1mModel: \"model_1_Dense\"\u001b[0m\n"
      ]
     },
     "metadata": {},
     "output_type": "display_data"
    },
    {
     "data": {
      "text/html": [
       "<pre style=\"white-space:pre;overflow-x:auto;line-height:normal;font-family:Menlo,'DejaVu Sans Mono',consolas,'Courier New',monospace\">┏━━━━━━━━━━━━━━━━━━━━━━━━━━━━━━━━━━━━━━┳━━━━━━━━━━━━━━━━━━━━━━━━━━━━━┳━━━━━━━━━━━━━━━━━┓\n",
       "┃<span style=\"font-weight: bold\"> Layer (type)                         </span>┃<span style=\"font-weight: bold\"> Output Shape                </span>┃<span style=\"font-weight: bold\">         Param # </span>┃\n",
       "┡━━━━━━━━━━━━━━━━━━━━━━━━━━━━━━━━━━━━━━╇━━━━━━━━━━━━━━━━━━━━━━━━━━━━━╇━━━━━━━━━━━━━━━━━┩\n",
       "│ input_layer (<span style=\"color: #0087ff; text-decoration-color: #0087ff\">InputLayer</span>)             │ (<span style=\"color: #00d7ff; text-decoration-color: #00d7ff\">None</span>, <span style=\"color: #00af00; text-decoration-color: #00af00\">1</span>)                   │               <span style=\"color: #00af00; text-decoration-color: #00af00\">0</span> │\n",
       "├──────────────────────────────────────┼─────────────────────────────┼─────────────────┤\n",
       "│ text_vectorization_1                 │ (<span style=\"color: #00d7ff; text-decoration-color: #00d7ff\">None</span>, <span style=\"color: #00af00; text-decoration-color: #00af00\">15</span>)                  │               <span style=\"color: #00af00; text-decoration-color: #00af00\">0</span> │\n",
       "│ (<span style=\"color: #0087ff; text-decoration-color: #0087ff\">TextVectorization</span>)                  │                             │                 │\n",
       "├──────────────────────────────────────┼─────────────────────────────┼─────────────────┤\n",
       "│ embedding (<span style=\"color: #0087ff; text-decoration-color: #0087ff\">Embedding</span>)                │ (<span style=\"color: #00d7ff; text-decoration-color: #00d7ff\">None</span>, <span style=\"color: #00af00; text-decoration-color: #00af00\">15</span>, <span style=\"color: #00af00; text-decoration-color: #00af00\">128</span>)             │       <span style=\"color: #00af00; text-decoration-color: #00af00\">1,280,000</span> │\n",
       "├──────────────────────────────────────┼─────────────────────────────┼─────────────────┤\n",
       "│ global_average_pooling1d             │ (<span style=\"color: #00d7ff; text-decoration-color: #00d7ff\">None</span>, <span style=\"color: #00af00; text-decoration-color: #00af00\">128</span>)                 │               <span style=\"color: #00af00; text-decoration-color: #00af00\">0</span> │\n",
       "│ (<span style=\"color: #0087ff; text-decoration-color: #0087ff\">GlobalAveragePooling1D</span>)             │                             │                 │\n",
       "├──────────────────────────────────────┼─────────────────────────────┼─────────────────┤\n",
       "│ dense (<span style=\"color: #0087ff; text-decoration-color: #0087ff\">Dense</span>)                        │ (<span style=\"color: #00d7ff; text-decoration-color: #00d7ff\">None</span>, <span style=\"color: #00af00; text-decoration-color: #00af00\">1</span>)                   │             <span style=\"color: #00af00; text-decoration-color: #00af00\">129</span> │\n",
       "└──────────────────────────────────────┴─────────────────────────────┴─────────────────┘\n",
       "</pre>\n"
      ],
      "text/plain": [
       "┏━━━━━━━━━━━━━━━━━━━━━━━━━━━━━━━━━━━━━━┳━━━━━━━━━━━━━━━━━━━━━━━━━━━━━┳━━━━━━━━━━━━━━━━━┓\n",
       "┃\u001b[1m \u001b[0m\u001b[1mLayer (type)                        \u001b[0m\u001b[1m \u001b[0m┃\u001b[1m \u001b[0m\u001b[1mOutput Shape               \u001b[0m\u001b[1m \u001b[0m┃\u001b[1m \u001b[0m\u001b[1m        Param #\u001b[0m\u001b[1m \u001b[0m┃\n",
       "┡━━━━━━━━━━━━━━━━━━━━━━━━━━━━━━━━━━━━━━╇━━━━━━━━━━━━━━━━━━━━━━━━━━━━━╇━━━━━━━━━━━━━━━━━┩\n",
       "│ input_layer (\u001b[38;5;33mInputLayer\u001b[0m)             │ (\u001b[38;5;45mNone\u001b[0m, \u001b[38;5;34m1\u001b[0m)                   │               \u001b[38;5;34m0\u001b[0m │\n",
       "├──────────────────────────────────────┼─────────────────────────────┼─────────────────┤\n",
       "│ text_vectorization_1                 │ (\u001b[38;5;45mNone\u001b[0m, \u001b[38;5;34m15\u001b[0m)                  │               \u001b[38;5;34m0\u001b[0m │\n",
       "│ (\u001b[38;5;33mTextVectorization\u001b[0m)                  │                             │                 │\n",
       "├──────────────────────────────────────┼─────────────────────────────┼─────────────────┤\n",
       "│ embedding (\u001b[38;5;33mEmbedding\u001b[0m)                │ (\u001b[38;5;45mNone\u001b[0m, \u001b[38;5;34m15\u001b[0m, \u001b[38;5;34m128\u001b[0m)             │       \u001b[38;5;34m1,280,000\u001b[0m │\n",
       "├──────────────────────────────────────┼─────────────────────────────┼─────────────────┤\n",
       "│ global_average_pooling1d             │ (\u001b[38;5;45mNone\u001b[0m, \u001b[38;5;34m128\u001b[0m)                 │               \u001b[38;5;34m0\u001b[0m │\n",
       "│ (\u001b[38;5;33mGlobalAveragePooling1D\u001b[0m)             │                             │                 │\n",
       "├──────────────────────────────────────┼─────────────────────────────┼─────────────────┤\n",
       "│ dense (\u001b[38;5;33mDense\u001b[0m)                        │ (\u001b[38;5;45mNone\u001b[0m, \u001b[38;5;34m1\u001b[0m)                   │             \u001b[38;5;34m129\u001b[0m │\n",
       "└──────────────────────────────────────┴─────────────────────────────┴─────────────────┘\n"
      ]
     },
     "metadata": {},
     "output_type": "display_data"
    },
    {
     "data": {
      "text/html": [
       "<pre style=\"white-space:pre;overflow-x:auto;line-height:normal;font-family:Menlo,'DejaVu Sans Mono',consolas,'Courier New',monospace\"><span style=\"font-weight: bold\"> Total params: </span><span style=\"color: #00af00; text-decoration-color: #00af00\">1,280,129</span> (4.88 MB)\n",
       "</pre>\n"
      ],
      "text/plain": [
       "\u001b[1m Total params: \u001b[0m\u001b[38;5;34m1,280,129\u001b[0m (4.88 MB)\n"
      ]
     },
     "metadata": {},
     "output_type": "display_data"
    },
    {
     "data": {
      "text/html": [
       "<pre style=\"white-space:pre;overflow-x:auto;line-height:normal;font-family:Menlo,'DejaVu Sans Mono',consolas,'Courier New',monospace\"><span style=\"font-weight: bold\"> Trainable params: </span><span style=\"color: #00af00; text-decoration-color: #00af00\">1,280,129</span> (4.88 MB)\n",
       "</pre>\n"
      ],
      "text/plain": [
       "\u001b[1m Trainable params: \u001b[0m\u001b[38;5;34m1,280,129\u001b[0m (4.88 MB)\n"
      ]
     },
     "metadata": {},
     "output_type": "display_data"
    },
    {
     "data": {
      "text/html": [
       "<pre style=\"white-space:pre;overflow-x:auto;line-height:normal;font-family:Menlo,'DejaVu Sans Mono',consolas,'Courier New',monospace\"><span style=\"font-weight: bold\"> Non-trainable params: </span><span style=\"color: #00af00; text-decoration-color: #00af00\">0</span> (0.00 B)\n",
       "</pre>\n"
      ],
      "text/plain": [
       "\u001b[1m Non-trainable params: \u001b[0m\u001b[38;5;34m0\u001b[0m (0.00 B)\n"
      ]
     },
     "metadata": {},
     "output_type": "display_data"
    }
   ],
   "source": [
    "model_1.summary()"
   ]
  },
  {
   "cell_type": "code",
   "execution_count": 33,
   "id": "fcd8573a",
   "metadata": {
    "execution": {
     "iopub.execute_input": "2025-02-12T15:08:02.050539Z",
     "iopub.status.busy": "2025-02-12T15:08:02.050234Z",
     "iopub.status.idle": "2025-02-12T15:08:02.062169Z",
     "shell.execute_reply": "2025-02-12T15:08:02.061289Z"
    },
    "papermill": {
     "duration": 0.0655,
     "end_time": "2025-02-12T15:08:02.063411",
     "exception": false,
     "start_time": "2025-02-12T15:08:01.997911",
     "status": "completed"
    },
    "tags": []
   },
   "outputs": [],
   "source": [
    "# Compile model \n",
    "model_1.compile(loss='binary_crossentropy',\n",
    "               optimizer=tf.keras.optimizers.Adam(),\n",
    "               metrics=[\"accuracy\"])"
   ]
  },
  {
   "cell_type": "code",
   "execution_count": 34,
   "id": "bbac8d16",
   "metadata": {
    "execution": {
     "iopub.execute_input": "2025-02-12T15:08:02.088577Z",
     "iopub.status.busy": "2025-02-12T15:08:02.088311Z",
     "iopub.status.idle": "2025-02-12T15:08:09.803941Z",
     "shell.execute_reply": "2025-02-12T15:08:09.803135Z"
    },
    "papermill": {
     "duration": 7.729755,
     "end_time": "2025-02-12T15:08:09.805330",
     "exception": false,
     "start_time": "2025-02-12T15:08:02.075575",
     "status": "completed"
    },
    "tags": []
   },
   "outputs": [
    {
     "name": "stdout",
     "output_type": "stream",
     "text": [
      "Saving TensorBoard log files to: SAVE_DIR/Model_1_experiment/20250212-150802\n",
      "Epoch 1/5\n",
      "\u001b[1m215/215\u001b[0m \u001b[32m━━━━━━━━━━━━━━━━━━━━\u001b[0m\u001b[37m\u001b[0m \u001b[1m3s\u001b[0m 6ms/step - accuracy: 0.6540 - loss: 0.6491 - val_accuracy: 0.7493 - val_loss: 0.5356\n",
      "Epoch 2/5\n",
      "\u001b[1m215/215\u001b[0m \u001b[32m━━━━━━━━━━━━━━━━━━━━\u001b[0m\u001b[37m\u001b[0m \u001b[1m1s\u001b[0m 4ms/step - accuracy: 0.8081 - loss: 0.4615 - val_accuracy: 0.7887 - val_loss: 0.4736\n",
      "Epoch 3/5\n",
      "\u001b[1m215/215\u001b[0m \u001b[32m━━━━━━━━━━━━━━━━━━━━\u001b[0m\u001b[37m\u001b[0m \u001b[1m1s\u001b[0m 4ms/step - accuracy: 0.8614 - loss: 0.3563 - val_accuracy: 0.7913 - val_loss: 0.4592\n",
      "Epoch 4/5\n",
      "\u001b[1m215/215\u001b[0m \u001b[32m━━━━━━━━━━━━━━━━━━━━\u001b[0m\u001b[37m\u001b[0m \u001b[1m1s\u001b[0m 4ms/step - accuracy: 0.8913 - loss: 0.2897 - val_accuracy: 0.7861 - val_loss: 0.4700\n",
      "Epoch 5/5\n",
      "\u001b[1m215/215\u001b[0m \u001b[32m━━━━━━━━━━━━━━━━━━━━\u001b[0m\u001b[37m\u001b[0m \u001b[1m1s\u001b[0m 4ms/step - accuracy: 0.9106 - loss: 0.2445 - val_accuracy: 0.7861 - val_loss: 0.4907\n"
     ]
    }
   ],
   "source": [
    "# Fit the model \n",
    "model_1_history = model_1.fit(x=train_sentences,\n",
    "                             y=train_labels,\n",
    "                             epochs=5,\n",
    "                             validation_data=(val_sentences, val_labels),\n",
    "                             callbacks=[create_tensorboard_callback(dir_name='SAVE_DIR',\n",
    "                                                                   experiment_name=\"Model_1_experiment\")] )"
   ]
  },
  {
   "cell_type": "code",
   "execution_count": 35,
   "id": "1342014b",
   "metadata": {
    "execution": {
     "iopub.execute_input": "2025-02-12T15:08:09.839980Z",
     "iopub.status.busy": "2025-02-12T15:08:09.839718Z",
     "iopub.status.idle": "2025-02-12T15:08:14.836158Z",
     "shell.execute_reply": "2025-02-12T15:08:14.835016Z"
    },
    "papermill": {
     "duration": 5.015117,
     "end_time": "2025-02-12T15:08:14.837801",
     "exception": false,
     "start_time": "2025-02-12T15:08:09.822684",
     "status": "completed"
    },
    "tags": []
   },
   "outputs": [
    {
     "name": "stdout",
     "output_type": "stream",
     "text": [
      "Saving TensorBoard log files to: SAVE_DIR/Model_1_experiment/20250212-150809\n",
      "Epoch 1/5\n",
      "\u001b[1m215/215\u001b[0m \u001b[32m━━━━━━━━━━━━━━━━━━━━\u001b[0m\u001b[37m\u001b[0m \u001b[1m1s\u001b[0m 5ms/step - accuracy: 0.9277 - loss: 0.2015 - val_accuracy: 0.7835 - val_loss: 0.5002\n",
      "Epoch 2/5\n",
      "\u001b[1m215/215\u001b[0m \u001b[32m━━━━━━━━━━━━━━━━━━━━\u001b[0m\u001b[37m\u001b[0m \u001b[1m1s\u001b[0m 4ms/step - accuracy: 0.9409 - loss: 0.1686 - val_accuracy: 0.7795 - val_loss: 0.5279\n",
      "Epoch 3/5\n",
      "\u001b[1m215/215\u001b[0m \u001b[32m━━━━━━━━━━━━━━━━━━━━\u001b[0m\u001b[37m\u001b[0m \u001b[1m1s\u001b[0m 4ms/step - accuracy: 0.9478 - loss: 0.1533 - val_accuracy: 0.7835 - val_loss: 0.5510\n",
      "Epoch 4/5\n",
      "\u001b[1m215/215\u001b[0m \u001b[32m━━━━━━━━━━━━━━━━━━━━\u001b[0m\u001b[37m\u001b[0m \u001b[1m1s\u001b[0m 4ms/step - accuracy: 0.9555 - loss: 0.1307 - val_accuracy: 0.7703 - val_loss: 0.5852\n",
      "Epoch 5/5\n",
      "\u001b[1m215/215\u001b[0m \u001b[32m━━━━━━━━━━━━━━━━━━━━\u001b[0m\u001b[37m\u001b[0m \u001b[1m1s\u001b[0m 5ms/step - accuracy: 0.9670 - loss: 0.1071 - val_accuracy: 0.7795 - val_loss: 0.6060\n"
     ]
    }
   ],
   "source": [
    "# Fit the model \n",
    "model_1_history = model_1.fit(x=train_sentences,\n",
    "                             y=train_labels,\n",
    "                             epochs=5,\n",
    "                             validation_data=(val_sentences, val_labels),\n",
    "                             callbacks=[create_tensorboard_callback(dir_name='SAVE_DIR',\n",
    "                                                                   experiment_name=\"Model_1_experiment\")] )"
   ]
  },
  {
   "cell_type": "code",
   "execution_count": 36,
   "id": "c6bcbf74",
   "metadata": {
    "execution": {
     "iopub.execute_input": "2025-02-12T15:08:14.887893Z",
     "iopub.status.busy": "2025-02-12T15:08:14.887576Z",
     "iopub.status.idle": "2025-02-12T15:08:15.003022Z",
     "shell.execute_reply": "2025-02-12T15:08:15.002288Z"
    },
    "papermill": {
     "duration": 0.138774,
     "end_time": "2025-02-12T15:08:15.004267",
     "exception": false,
     "start_time": "2025-02-12T15:08:14.865493",
     "status": "completed"
    },
    "tags": []
   },
   "outputs": [
    {
     "name": "stdout",
     "output_type": "stream",
     "text": [
      "\u001b[1m24/24\u001b[0m \u001b[32m━━━━━━━━━━━━━━━━━━━━\u001b[0m\u001b[37m\u001b[0m \u001b[1m0s\u001b[0m 2ms/step - accuracy: 0.7587 - loss: 0.6571 \n"
     ]
    },
    {
     "data": {
      "text/plain": [
       "[0.6060349941253662, 0.7795275449752808]"
      ]
     },
     "execution_count": 36,
     "metadata": {},
     "output_type": "execute_result"
    }
   ],
   "source": [
    "model_1.evaluate(val_sentences, val_labels)"
   ]
  },
  {
   "cell_type": "code",
   "execution_count": 37,
   "id": "56b9bc0a",
   "metadata": {
    "execution": {
     "iopub.execute_input": "2025-02-12T15:08:15.047737Z",
     "iopub.status.busy": "2025-02-12T15:08:15.047473Z",
     "iopub.status.idle": "2025-02-12T15:08:15.386985Z",
     "shell.execute_reply": "2025-02-12T15:08:15.386163Z"
    },
    "papermill": {
     "duration": 0.36262,
     "end_time": "2025-02-12T15:08:15.388297",
     "exception": false,
     "start_time": "2025-02-12T15:08:15.025677",
     "status": "completed"
    },
    "tags": []
   },
   "outputs": [
    {
     "name": "stdout",
     "output_type": "stream",
     "text": [
      "\u001b[1m24/24\u001b[0m \u001b[32m━━━━━━━━━━━━━━━━━━━━\u001b[0m\u001b[37m\u001b[0m \u001b[1m0s\u001b[0m 6ms/step\n"
     ]
    },
    {
     "data": {
      "text/plain": [
       "array([[0.5547853 ],\n",
       "       [0.73883545],\n",
       "       [0.999637  ],\n",
       "       [0.072478  ],\n",
       "       [0.01216272],\n",
       "       [0.9832908 ],\n",
       "       [0.89383763],\n",
       "       [0.99961877],\n",
       "       [0.9985954 ],\n",
       "       [0.45799604]], dtype=float32)"
      ]
     },
     "execution_count": 37,
     "metadata": {},
     "output_type": "execute_result"
    }
   ],
   "source": [
    "model_1_pred_probs = model_1.predict(val_sentences)\n",
    "model_1_pred_probs[:10]"
   ]
  },
  {
   "cell_type": "code",
   "execution_count": 38,
   "id": "81a5fb08",
   "metadata": {
    "execution": {
     "iopub.execute_input": "2025-02-12T15:08:15.433385Z",
     "iopub.status.busy": "2025-02-12T15:08:15.433099Z",
     "iopub.status.idle": "2025-02-12T15:08:15.535719Z",
     "shell.execute_reply": "2025-02-12T15:08:15.534814Z"
    },
    "papermill": {
     "duration": 0.126606,
     "end_time": "2025-02-12T15:08:15.537125",
     "exception": false,
     "start_time": "2025-02-12T15:08:15.410519",
     "status": "completed"
    },
    "tags": []
   },
   "outputs": [
    {
     "data": {
      "text/plain": [
       "<tf.Tensor: shape=(20,), dtype=float32, numpy=\n",
       "array([1., 1., 1., 0., 0., 1., 1., 1., 1., 0., 0., 1., 0., 0., 0., 0., 0.,\n",
       "       0., 0., 1.], dtype=float32)>"
      ]
     },
     "execution_count": 38,
     "metadata": {},
     "output_type": "execute_result"
    }
   ],
   "source": [
    "# Converts model prediction probabilities to label format \n",
    "model_1_preds = tf.squeeze(tf.round(model_1_pred_probs))\n",
    "model_1_preds[:20]"
   ]
  },
  {
   "cell_type": "code",
   "execution_count": 39,
   "id": "7119e38b",
   "metadata": {
    "execution": {
     "iopub.execute_input": "2025-02-12T15:08:15.581174Z",
     "iopub.status.busy": "2025-02-12T15:08:15.580915Z",
     "iopub.status.idle": "2025-02-12T15:08:15.588135Z",
     "shell.execute_reply": "2025-02-12T15:08:15.587387Z"
    },
    "papermill": {
     "duration": 0.03039,
     "end_time": "2025-02-12T15:08:15.589610",
     "exception": false,
     "start_time": "2025-02-12T15:08:15.559220",
     "status": "completed"
    },
    "tags": []
   },
   "outputs": [
    {
     "data": {
      "text/plain": [
       "{'Accuracy Score ': 77.95,\n",
       " 'Precision Score': 0.7802422774076316,\n",
       " 'Recall Score': 0.7795275590551181,\n",
       " 'F1 Score ': 0.7781078501550943}"
      ]
     },
     "execution_count": 39,
     "metadata": {},
     "output_type": "execute_result"
    }
   ],
   "source": [
    "# Calculating actual results \n",
    "model_1_results = calculate_results(y_true=val_labels,\n",
    "                                   y_pred=model_1_preds)\n",
    "model_1_results"
   ]
  },
  {
   "cell_type": "code",
   "execution_count": 40,
   "id": "ab97ed05",
   "metadata": {
    "execution": {
     "iopub.execute_input": "2025-02-12T15:08:15.632443Z",
     "iopub.status.busy": "2025-02-12T15:08:15.632211Z",
     "iopub.status.idle": "2025-02-12T15:08:15.663693Z",
     "shell.execute_reply": "2025-02-12T15:08:15.662956Z"
    },
    "papermill": {
     "duration": 0.054462,
     "end_time": "2025-02-12T15:08:15.665064",
     "exception": false,
     "start_time": "2025-02-12T15:08:15.610602",
     "status": "completed"
    },
    "tags": []
   },
   "outputs": [
    {
     "data": {
      "text/plain": [
       "(10000, ['', '[UNK]', 'the', 'a', 'in', 'to', 'of', 'and', 'i', 'is'])"
      ]
     },
     "execution_count": 40,
     "metadata": {},
     "output_type": "execute_result"
    }
   ],
   "source": [
    "# Visaualize Learned Embedding \n",
    "# Get thevocab from the text vectorization layer \n",
    "words_in_vocab = text_vectorizer.get_vocabulary()\n",
    "len(words_in_vocab), words_in_vocab[:10]"
   ]
  },
  {
   "cell_type": "code",
   "execution_count": 41,
   "id": "85875b8c",
   "metadata": {
    "execution": {
     "iopub.execute_input": "2025-02-12T15:08:15.708785Z",
     "iopub.status.busy": "2025-02-12T15:08:15.708502Z",
     "iopub.status.idle": "2025-02-12T15:08:15.719825Z",
     "shell.execute_reply": "2025-02-12T15:08:15.719050Z"
    },
    "papermill": {
     "duration": 0.034644,
     "end_time": "2025-02-12T15:08:15.721201",
     "exception": false,
     "start_time": "2025-02-12T15:08:15.686557",
     "status": "completed"
    },
    "tags": []
   },
   "outputs": [
    {
     "name": "stdout",
     "output_type": "stream",
     "text": [
      "(10000, 128)\n"
     ]
    }
   ],
   "source": [
    "# Get the weights of our embedding layer \n",
    "embed_weights = model_1.get_layer(\"embedding\").get_weights()[0]\n",
    "print(embed_weights.shape)"
   ]
  },
  {
   "cell_type": "code",
   "execution_count": 42,
   "id": "f9074653",
   "metadata": {
    "execution": {
     "iopub.execute_input": "2025-02-12T15:08:15.765735Z",
     "iopub.status.busy": "2025-02-12T15:08:15.765441Z",
     "iopub.status.idle": "2025-02-12T15:08:16.494237Z",
     "shell.execute_reply": "2025-02-12T15:08:16.493516Z"
    },
    "papermill": {
     "duration": 0.753116,
     "end_time": "2025-02-12T15:08:16.495661",
     "exception": false,
     "start_time": "2025-02-12T15:08:15.742545",
     "status": "completed"
    },
    "tags": []
   },
   "outputs": [],
   "source": [
    "# Creating embedding files to display them on the tensorflow projector \n",
    "import io\n",
    "\n",
    "out_v = io.open('vectors.tsv', 'w', encoding='utf-8')\n",
    "out_m = io.open('metadata.tsv', 'w', encoding='utf-8')\n",
    "\n",
    "for index, word in enumerate(words_in_vocab):\n",
    "  if index == 0:\n",
    "    continue  # skip 0, it's padding.\n",
    "  vec = embed_weights[index]\n",
    "  out_v.write('\\t'.join([str(x) for x in vec]) + \"\\n\")\n",
    "  out_m.write(word + \"\\n\")\n",
    "out_v.close()\n",
    "out_m.close()\n"
   ]
  },
  {
   "cell_type": "code",
   "execution_count": 43,
   "id": "cd6d3cd2",
   "metadata": {
    "execution": {
     "iopub.execute_input": "2025-02-12T15:08:16.539723Z",
     "iopub.status.busy": "2025-02-12T15:08:16.539459Z",
     "iopub.status.idle": "2025-02-12T15:08:16.700958Z",
     "shell.execute_reply": "2025-02-12T15:08:16.700255Z"
    },
    "papermill": {
     "duration": 0.185114,
     "end_time": "2025-02-12T15:08:16.702432",
     "exception": false,
     "start_time": "2025-02-12T15:08:16.517318",
     "status": "completed"
    },
    "tags": []
   },
   "outputs": [],
   "source": [
    "# Create a LSTM Model\n",
    "from tensorflow.keras import layers \n",
    "inputs = layers.Input(shape=(1,), dtype=\"string\")\n",
    "x = text_vectorizer(inputs)\n",
    "x = embedding(x)\n",
    "x = layers.LSTM(64, return_sequences = True)(x)\n",
    "x = layers.LSTM(64)(x)\n",
    "outputs = layers.Dense(1, activation=\"sigmoid\")(x)\n",
    "model_2 = tf.keras.Model(inputs,outputs, name=\"Model_2_LSTM\")"
   ]
  },
  {
   "cell_type": "code",
   "execution_count": 44,
   "id": "604ff578",
   "metadata": {
    "execution": {
     "iopub.execute_input": "2025-02-12T15:08:16.746629Z",
     "iopub.status.busy": "2025-02-12T15:08:16.746360Z",
     "iopub.status.idle": "2025-02-12T15:08:16.761215Z",
     "shell.execute_reply": "2025-02-12T15:08:16.760375Z"
    },
    "papermill": {
     "duration": 0.037993,
     "end_time": "2025-02-12T15:08:16.762347",
     "exception": false,
     "start_time": "2025-02-12T15:08:16.724354",
     "status": "completed"
    },
    "tags": []
   },
   "outputs": [
    {
     "data": {
      "text/html": [
       "<pre style=\"white-space:pre;overflow-x:auto;line-height:normal;font-family:Menlo,'DejaVu Sans Mono',consolas,'Courier New',monospace\"><span style=\"font-weight: bold\">Model: \"Model_2_LSTM\"</span>\n",
       "</pre>\n"
      ],
      "text/plain": [
       "\u001b[1mModel: \"Model_2_LSTM\"\u001b[0m\n"
      ]
     },
     "metadata": {},
     "output_type": "display_data"
    },
    {
     "data": {
      "text/html": [
       "<pre style=\"white-space:pre;overflow-x:auto;line-height:normal;font-family:Menlo,'DejaVu Sans Mono',consolas,'Courier New',monospace\">┏━━━━━━━━━━━━━━━━━━━━━━━━━━━━━━━━━━━━━━┳━━━━━━━━━━━━━━━━━━━━━━━━━━━━━┳━━━━━━━━━━━━━━━━━┓\n",
       "┃<span style=\"font-weight: bold\"> Layer (type)                         </span>┃<span style=\"font-weight: bold\"> Output Shape                </span>┃<span style=\"font-weight: bold\">         Param # </span>┃\n",
       "┡━━━━━━━━━━━━━━━━━━━━━━━━━━━━━━━━━━━━━━╇━━━━━━━━━━━━━━━━━━━━━━━━━━━━━╇━━━━━━━━━━━━━━━━━┩\n",
       "│ input_layer_1 (<span style=\"color: #0087ff; text-decoration-color: #0087ff\">InputLayer</span>)           │ (<span style=\"color: #00d7ff; text-decoration-color: #00d7ff\">None</span>, <span style=\"color: #00af00; text-decoration-color: #00af00\">1</span>)                   │               <span style=\"color: #00af00; text-decoration-color: #00af00\">0</span> │\n",
       "├──────────────────────────────────────┼─────────────────────────────┼─────────────────┤\n",
       "│ text_vectorization_1                 │ (<span style=\"color: #00d7ff; text-decoration-color: #00d7ff\">None</span>, <span style=\"color: #00af00; text-decoration-color: #00af00\">15</span>)                  │               <span style=\"color: #00af00; text-decoration-color: #00af00\">0</span> │\n",
       "│ (<span style=\"color: #0087ff; text-decoration-color: #0087ff\">TextVectorization</span>)                  │                             │                 │\n",
       "├──────────────────────────────────────┼─────────────────────────────┼─────────────────┤\n",
       "│ embedding (<span style=\"color: #0087ff; text-decoration-color: #0087ff\">Embedding</span>)                │ (<span style=\"color: #00d7ff; text-decoration-color: #00d7ff\">None</span>, <span style=\"color: #00af00; text-decoration-color: #00af00\">15</span>, <span style=\"color: #00af00; text-decoration-color: #00af00\">128</span>)             │       <span style=\"color: #00af00; text-decoration-color: #00af00\">1,280,000</span> │\n",
       "├──────────────────────────────────────┼─────────────────────────────┼─────────────────┤\n",
       "│ lstm (<span style=\"color: #0087ff; text-decoration-color: #0087ff\">LSTM</span>)                          │ (<span style=\"color: #00d7ff; text-decoration-color: #00d7ff\">None</span>, <span style=\"color: #00af00; text-decoration-color: #00af00\">15</span>, <span style=\"color: #00af00; text-decoration-color: #00af00\">64</span>)              │          <span style=\"color: #00af00; text-decoration-color: #00af00\">49,408</span> │\n",
       "├──────────────────────────────────────┼─────────────────────────────┼─────────────────┤\n",
       "│ lstm_1 (<span style=\"color: #0087ff; text-decoration-color: #0087ff\">LSTM</span>)                        │ (<span style=\"color: #00d7ff; text-decoration-color: #00d7ff\">None</span>, <span style=\"color: #00af00; text-decoration-color: #00af00\">64</span>)                  │          <span style=\"color: #00af00; text-decoration-color: #00af00\">33,024</span> │\n",
       "├──────────────────────────────────────┼─────────────────────────────┼─────────────────┤\n",
       "│ dense_1 (<span style=\"color: #0087ff; text-decoration-color: #0087ff\">Dense</span>)                      │ (<span style=\"color: #00d7ff; text-decoration-color: #00d7ff\">None</span>, <span style=\"color: #00af00; text-decoration-color: #00af00\">1</span>)                   │              <span style=\"color: #00af00; text-decoration-color: #00af00\">65</span> │\n",
       "└──────────────────────────────────────┴─────────────────────────────┴─────────────────┘\n",
       "</pre>\n"
      ],
      "text/plain": [
       "┏━━━━━━━━━━━━━━━━━━━━━━━━━━━━━━━━━━━━━━┳━━━━━━━━━━━━━━━━━━━━━━━━━━━━━┳━━━━━━━━━━━━━━━━━┓\n",
       "┃\u001b[1m \u001b[0m\u001b[1mLayer (type)                        \u001b[0m\u001b[1m \u001b[0m┃\u001b[1m \u001b[0m\u001b[1mOutput Shape               \u001b[0m\u001b[1m \u001b[0m┃\u001b[1m \u001b[0m\u001b[1m        Param #\u001b[0m\u001b[1m \u001b[0m┃\n",
       "┡━━━━━━━━━━━━━━━━━━━━━━━━━━━━━━━━━━━━━━╇━━━━━━━━━━━━━━━━━━━━━━━━━━━━━╇━━━━━━━━━━━━━━━━━┩\n",
       "│ input_layer_1 (\u001b[38;5;33mInputLayer\u001b[0m)           │ (\u001b[38;5;45mNone\u001b[0m, \u001b[38;5;34m1\u001b[0m)                   │               \u001b[38;5;34m0\u001b[0m │\n",
       "├──────────────────────────────────────┼─────────────────────────────┼─────────────────┤\n",
       "│ text_vectorization_1                 │ (\u001b[38;5;45mNone\u001b[0m, \u001b[38;5;34m15\u001b[0m)                  │               \u001b[38;5;34m0\u001b[0m │\n",
       "│ (\u001b[38;5;33mTextVectorization\u001b[0m)                  │                             │                 │\n",
       "├──────────────────────────────────────┼─────────────────────────────┼─────────────────┤\n",
       "│ embedding (\u001b[38;5;33mEmbedding\u001b[0m)                │ (\u001b[38;5;45mNone\u001b[0m, \u001b[38;5;34m15\u001b[0m, \u001b[38;5;34m128\u001b[0m)             │       \u001b[38;5;34m1,280,000\u001b[0m │\n",
       "├──────────────────────────────────────┼─────────────────────────────┼─────────────────┤\n",
       "│ lstm (\u001b[38;5;33mLSTM\u001b[0m)                          │ (\u001b[38;5;45mNone\u001b[0m, \u001b[38;5;34m15\u001b[0m, \u001b[38;5;34m64\u001b[0m)              │          \u001b[38;5;34m49,408\u001b[0m │\n",
       "├──────────────────────────────────────┼─────────────────────────────┼─────────────────┤\n",
       "│ lstm_1 (\u001b[38;5;33mLSTM\u001b[0m)                        │ (\u001b[38;5;45mNone\u001b[0m, \u001b[38;5;34m64\u001b[0m)                  │          \u001b[38;5;34m33,024\u001b[0m │\n",
       "├──────────────────────────────────────┼─────────────────────────────┼─────────────────┤\n",
       "│ dense_1 (\u001b[38;5;33mDense\u001b[0m)                      │ (\u001b[38;5;45mNone\u001b[0m, \u001b[38;5;34m1\u001b[0m)                   │              \u001b[38;5;34m65\u001b[0m │\n",
       "└──────────────────────────────────────┴─────────────────────────────┴─────────────────┘\n"
      ]
     },
     "metadata": {},
     "output_type": "display_data"
    },
    {
     "data": {
      "text/html": [
       "<pre style=\"white-space:pre;overflow-x:auto;line-height:normal;font-family:Menlo,'DejaVu Sans Mono',consolas,'Courier New',monospace\"><span style=\"font-weight: bold\"> Total params: </span><span style=\"color: #00af00; text-decoration-color: #00af00\">1,362,497</span> (5.20 MB)\n",
       "</pre>\n"
      ],
      "text/plain": [
       "\u001b[1m Total params: \u001b[0m\u001b[38;5;34m1,362,497\u001b[0m (5.20 MB)\n"
      ]
     },
     "metadata": {},
     "output_type": "display_data"
    },
    {
     "data": {
      "text/html": [
       "<pre style=\"white-space:pre;overflow-x:auto;line-height:normal;font-family:Menlo,'DejaVu Sans Mono',consolas,'Courier New',monospace\"><span style=\"font-weight: bold\"> Trainable params: </span><span style=\"color: #00af00; text-decoration-color: #00af00\">1,362,497</span> (5.20 MB)\n",
       "</pre>\n"
      ],
      "text/plain": [
       "\u001b[1m Trainable params: \u001b[0m\u001b[38;5;34m1,362,497\u001b[0m (5.20 MB)\n"
      ]
     },
     "metadata": {},
     "output_type": "display_data"
    },
    {
     "data": {
      "text/html": [
       "<pre style=\"white-space:pre;overflow-x:auto;line-height:normal;font-family:Menlo,'DejaVu Sans Mono',consolas,'Courier New',monospace\"><span style=\"font-weight: bold\"> Non-trainable params: </span><span style=\"color: #00af00; text-decoration-color: #00af00\">0</span> (0.00 B)\n",
       "</pre>\n"
      ],
      "text/plain": [
       "\u001b[1m Non-trainable params: \u001b[0m\u001b[38;5;34m0\u001b[0m (0.00 B)\n"
      ]
     },
     "metadata": {},
     "output_type": "display_data"
    }
   ],
   "source": [
    "# Check the summary\n",
    "model_2.summary()"
   ]
  },
  {
   "cell_type": "code",
   "execution_count": 45,
   "id": "1157dab3",
   "metadata": {
    "execution": {
     "iopub.execute_input": "2025-02-12T15:08:16.809028Z",
     "iopub.status.busy": "2025-02-12T15:08:16.808688Z",
     "iopub.status.idle": "2025-02-12T15:08:16.816026Z",
     "shell.execute_reply": "2025-02-12T15:08:16.815415Z"
    },
    "papermill": {
     "duration": 0.030905,
     "end_time": "2025-02-12T15:08:16.817126",
     "exception": false,
     "start_time": "2025-02-12T15:08:16.786221",
     "status": "completed"
    },
    "tags": []
   },
   "outputs": [],
   "source": [
    "# Compile the model \n",
    "model_2.compile(loss='binary_crossentropy',\n",
    "               optimizer=tf.keras.optimizers.Adam(),\n",
    "               metrics=[\"accuracy\"])"
   ]
  },
  {
   "cell_type": "code",
   "execution_count": 46,
   "id": "fad5d578",
   "metadata": {
    "execution": {
     "iopub.execute_input": "2025-02-12T15:08:16.862018Z",
     "iopub.status.busy": "2025-02-12T15:08:16.861727Z",
     "iopub.status.idle": "2025-02-12T15:08:26.907535Z",
     "shell.execute_reply": "2025-02-12T15:08:26.906788Z"
    },
    "papermill": {
     "duration": 10.069936,
     "end_time": "2025-02-12T15:08:26.908961",
     "exception": false,
     "start_time": "2025-02-12T15:08:16.839025",
     "status": "completed"
    },
    "tags": []
   },
   "outputs": [
    {
     "name": "stdout",
     "output_type": "stream",
     "text": [
      "Saving TensorBoard log files to: model_logs/Model_2_LSTM/20250212-150816\n",
      "Epoch 1/5\n",
      "\u001b[1m215/215\u001b[0m \u001b[32m━━━━━━━━━━━━━━━━━━━━\u001b[0m\u001b[37m\u001b[0m \u001b[1m4s\u001b[0m 9ms/step - accuracy: 0.9272 - loss: 0.2237 - val_accuracy: 0.7690 - val_loss: 0.8155\n",
      "Epoch 2/5\n",
      "\u001b[1m215/215\u001b[0m \u001b[32m━━━━━━━━━━━━━━━━━━━━\u001b[0m\u001b[37m\u001b[0m \u001b[1m2s\u001b[0m 7ms/step - accuracy: 0.9694 - loss: 0.0905 - val_accuracy: 0.7690 - val_loss: 0.8756\n",
      "Epoch 3/5\n",
      "\u001b[1m215/215\u001b[0m \u001b[32m━━━━━━━━━━━━━━━━━━━━\u001b[0m\u001b[37m\u001b[0m \u001b[1m1s\u001b[0m 7ms/step - accuracy: 0.9724 - loss: 0.0748 - val_accuracy: 0.7638 - val_loss: 0.8763\n",
      "Epoch 4/5\n",
      "\u001b[1m215/215\u001b[0m \u001b[32m━━━━━━━━━━━━━━━━━━━━\u001b[0m\u001b[37m\u001b[0m \u001b[1m1s\u001b[0m 7ms/step - accuracy: 0.9747 - loss: 0.0618 - val_accuracy: 0.7690 - val_loss: 1.2471\n",
      "Epoch 5/5\n",
      "\u001b[1m215/215\u001b[0m \u001b[32m━━━━━━━━━━━━━━━━━━━━\u001b[0m\u001b[37m\u001b[0m \u001b[1m1s\u001b[0m 7ms/step - accuracy: 0.9769 - loss: 0.0617 - val_accuracy: 0.7677 - val_loss: 1.0105\n"
     ]
    }
   ],
   "source": [
    "# Fit the model \n",
    "model_2_history = model_2.fit(train_sentences,\n",
    "                             train_labels,\n",
    "                             epochs=5,\n",
    "                             validation_data=(val_sentences, val_labels),\n",
    "                             callbacks=[create_tensorboard_callback(SAVE_DIR, \n",
    "                                                                   \"Model_2_LSTM\")])\n"
   ]
  },
  {
   "cell_type": "code",
   "execution_count": 47,
   "id": "183490b4",
   "metadata": {
    "execution": {
     "iopub.execute_input": "2025-02-12T15:08:26.967811Z",
     "iopub.status.busy": "2025-02-12T15:08:26.967510Z",
     "iopub.status.idle": "2025-02-12T15:08:27.099824Z",
     "shell.execute_reply": "2025-02-12T15:08:27.099157Z"
    },
    "papermill": {
     "duration": 0.162916,
     "end_time": "2025-02-12T15:08:27.101098",
     "exception": false,
     "start_time": "2025-02-12T15:08:26.938182",
     "status": "completed"
    },
    "tags": []
   },
   "outputs": [
    {
     "name": "stdout",
     "output_type": "stream",
     "text": [
      "\u001b[1m24/24\u001b[0m \u001b[32m━━━━━━━━━━━━━━━━━━━━\u001b[0m\u001b[37m\u001b[0m \u001b[1m0s\u001b[0m 3ms/step - accuracy: 0.7407 - loss: 1.1140\n"
     ]
    }
   ],
   "source": [
    "# Evaluate the model \n",
    "evaluate = model_2.evaluate(val_sentences, val_labels)"
   ]
  },
  {
   "cell_type": "code",
   "execution_count": 48,
   "id": "5567a09d",
   "metadata": {
    "execution": {
     "iopub.execute_input": "2025-02-12T15:08:27.159711Z",
     "iopub.status.busy": "2025-02-12T15:08:27.159428Z",
     "iopub.status.idle": "2025-02-12T15:08:27.762286Z",
     "shell.execute_reply": "2025-02-12T15:08:27.761542Z"
    },
    "papermill": {
     "duration": 0.63348,
     "end_time": "2025-02-12T15:08:27.763476",
     "exception": false,
     "start_time": "2025-02-12T15:08:27.129996",
     "status": "completed"
    },
    "tags": []
   },
   "outputs": [
    {
     "name": "stdout",
     "output_type": "stream",
     "text": [
      "\u001b[1m24/24\u001b[0m \u001b[32m━━━━━━━━━━━━━━━━━━━━\u001b[0m\u001b[37m\u001b[0m \u001b[1m1s\u001b[0m 13ms/step\n"
     ]
    },
    {
     "data": {
      "text/plain": [
       "array([[1.3816449e-01],\n",
       "       [6.8725032e-01],\n",
       "       [9.9977320e-01],\n",
       "       [1.2499644e-01],\n",
       "       [1.0264195e-04],\n",
       "       [9.9851948e-01],\n",
       "       [6.2564886e-01],\n",
       "       [9.9991524e-01],\n",
       "       [9.9988115e-01],\n",
       "       [7.8863621e-01],\n",
       "       [1.5192419e-04],\n",
       "       [8.9962363e-01],\n",
       "       [1.1866468e-04],\n",
       "       [1.2428566e-01],\n",
       "       [6.8244837e-05],\n",
       "       [1.2579575e-02],\n",
       "       [6.0779200e-04],\n",
       "       [8.0889103e-04],\n",
       "       [8.0780961e-02],\n",
       "       [9.9899715e-01]], dtype=float32)"
      ]
     },
     "execution_count": 48,
     "metadata": {},
     "output_type": "execute_result"
    }
   ],
   "source": [
    "model_2_pred_probs = model_2.predict(val_sentences)\n",
    "model_2_pred_probs[:20]"
   ]
  },
  {
   "cell_type": "code",
   "execution_count": 49,
   "id": "7214b876",
   "metadata": {
    "execution": {
     "iopub.execute_input": "2025-02-12T15:08:27.823667Z",
     "iopub.status.busy": "2025-02-12T15:08:27.823382Z",
     "iopub.status.idle": "2025-02-12T15:08:27.829829Z",
     "shell.execute_reply": "2025-02-12T15:08:27.829167Z"
    },
    "papermill": {
     "duration": 0.038509,
     "end_time": "2025-02-12T15:08:27.830988",
     "exception": false,
     "start_time": "2025-02-12T15:08:27.792479",
     "status": "completed"
    },
    "tags": []
   },
   "outputs": [
    {
     "data": {
      "text/plain": [
       "<tf.Tensor: shape=(20,), dtype=float32, numpy=\n",
       "array([0., 1., 1., 0., 0., 1., 1., 1., 1., 1., 0., 1., 0., 0., 0., 0., 0.,\n",
       "       0., 0., 1.], dtype=float32)>"
      ]
     },
     "execution_count": 49,
     "metadata": {},
     "output_type": "execute_result"
    }
   ],
   "source": [
    "# Converts model prediction probabilities to label format \n",
    "model_2_preds = tf.squeeze(tf.round(model_2_pred_probs))\n",
    "model_2_preds[:20]"
   ]
  },
  {
   "cell_type": "code",
   "execution_count": 50,
   "id": "7fab5e18",
   "metadata": {
    "execution": {
     "iopub.execute_input": "2025-02-12T15:08:27.889582Z",
     "iopub.status.busy": "2025-02-12T15:08:27.889316Z",
     "iopub.status.idle": "2025-02-12T15:08:27.896829Z",
     "shell.execute_reply": "2025-02-12T15:08:27.896163Z"
    },
    "papermill": {
     "duration": 0.03872,
     "end_time": "2025-02-12T15:08:27.898032",
     "exception": false,
     "start_time": "2025-02-12T15:08:27.859312",
     "status": "completed"
    },
    "tags": []
   },
   "outputs": [
    {
     "data": {
      "text/plain": [
       "{'Accuracy Score ': 76.77,\n",
       " 'Precision Score': 0.768489862704666,\n",
       " 'Recall Score': 0.7677165354330708,\n",
       " 'F1 Score ': 0.7660466459325422}"
      ]
     },
     "execution_count": 50,
     "metadata": {},
     "output_type": "execute_result"
    }
   ],
   "source": [
    "# Calculating actual results \n",
    "model_2_results = calculate_results(y_true=val_labels,\n",
    "                                   y_pred=model_2_preds)\n",
    "model_2_results"
   ]
  },
  {
   "cell_type": "code",
   "execution_count": 51,
   "id": "3f76468c",
   "metadata": {
    "execution": {
     "iopub.execute_input": "2025-02-12T15:08:27.956690Z",
     "iopub.status.busy": "2025-02-12T15:08:27.956422Z",
     "iopub.status.idle": "2025-02-12T15:08:27.987015Z",
     "shell.execute_reply": "2025-02-12T15:08:27.986114Z"
    },
    "papermill": {
     "duration": 0.061765,
     "end_time": "2025-02-12T15:08:27.988414",
     "exception": false,
     "start_time": "2025-02-12T15:08:27.926649",
     "status": "completed"
    },
    "tags": []
   },
   "outputs": [],
   "source": [
    "# Model 3 GRU \n",
    "\n",
    "from tensorflow.keras import layers \n",
    "inputs = layers.Input(shape=(1,), dtype=\"string\")\n",
    "x = text_vectorizer(inputs)\n",
    "x = embedding(x)\n",
    "x = layers.GRU(64)(x)\n",
    "outputs = layers.Dense(1, activation=\"sigmoid\")(x)\n",
    "model_3 = tf.keras.Model(inputs,outputs, name=\"Model_3_GRU\")"
   ]
  },
  {
   "cell_type": "code",
   "execution_count": 52,
   "id": "dd931342",
   "metadata": {
    "execution": {
     "iopub.execute_input": "2025-02-12T15:08:28.047177Z",
     "iopub.status.busy": "2025-02-12T15:08:28.046829Z",
     "iopub.status.idle": "2025-02-12T15:08:28.054016Z",
     "shell.execute_reply": "2025-02-12T15:08:28.053367Z"
    },
    "papermill": {
     "duration": 0.037725,
     "end_time": "2025-02-12T15:08:28.055246",
     "exception": false,
     "start_time": "2025-02-12T15:08:28.017521",
     "status": "completed"
    },
    "tags": []
   },
   "outputs": [],
   "source": [
    "# Compile the model \n",
    "model_3.compile(loss='binary_crossentropy',\n",
    "               optimizer=tf.keras.optimizers.Adam(),\n",
    "               metrics=[\"accuracy\"])"
   ]
  },
  {
   "cell_type": "code",
   "execution_count": 53,
   "id": "26555a9a",
   "metadata": {
    "execution": {
     "iopub.execute_input": "2025-02-12T15:08:28.113680Z",
     "iopub.status.busy": "2025-02-12T15:08:28.113390Z",
     "iopub.status.idle": "2025-02-12T15:08:35.997165Z",
     "shell.execute_reply": "2025-02-12T15:08:35.996436Z"
    },
    "papermill": {
     "duration": 7.914652,
     "end_time": "2025-02-12T15:08:35.998443",
     "exception": false,
     "start_time": "2025-02-12T15:08:28.083791",
     "status": "completed"
    },
    "tags": []
   },
   "outputs": [
    {
     "name": "stdout",
     "output_type": "stream",
     "text": [
      "Saving TensorBoard log files to: model_logs/Model_3_GRU/20250212-150828\n",
      "Epoch 1/5\n",
      "\u001b[1m215/215\u001b[0m \u001b[32m━━━━━━━━━━━━━━━━━━━━\u001b[0m\u001b[37m\u001b[0m \u001b[1m3s\u001b[0m 7ms/step - accuracy: 0.8659 - loss: 0.2727 - val_accuracy: 0.7690 - val_loss: 0.8529\n",
      "Epoch 2/5\n",
      "\u001b[1m215/215\u001b[0m \u001b[32m━━━━━━━━━━━━━━━━━━━━\u001b[0m\u001b[37m\u001b[0m \u001b[1m1s\u001b[0m 5ms/step - accuracy: 0.9764 - loss: 0.0713 - val_accuracy: 0.7677 - val_loss: 0.9059\n",
      "Epoch 3/5\n",
      "\u001b[1m215/215\u001b[0m \u001b[32m━━━━━━━━━━━━━━━━━━━━\u001b[0m\u001b[37m\u001b[0m \u001b[1m1s\u001b[0m 5ms/step - accuracy: 0.9732 - loss: 0.0620 - val_accuracy: 0.7598 - val_loss: 0.8776\n",
      "Epoch 4/5\n",
      "\u001b[1m215/215\u001b[0m \u001b[32m━━━━━━━━━━━━━━━━━━━━\u001b[0m\u001b[37m\u001b[0m \u001b[1m1s\u001b[0m 6ms/step - accuracy: 0.9782 - loss: 0.0558 - val_accuracy: 0.7677 - val_loss: 0.9690\n",
      "Epoch 5/5\n",
      "\u001b[1m215/215\u001b[0m \u001b[32m━━━━━━━━━━━━━━━━━━━━\u001b[0m\u001b[37m\u001b[0m \u001b[1m1s\u001b[0m 5ms/step - accuracy: 0.9752 - loss: 0.0541 - val_accuracy: 0.7743 - val_loss: 1.0915\n"
     ]
    }
   ],
   "source": [
    "# Fit the model \n",
    "model_3_history = model_3.fit(train_sentences,\n",
    "                             train_labels,\n",
    "                             epochs=5,\n",
    "                             validation_data=(val_sentences, val_labels),\n",
    "                             callbacks=[create_tensorboard_callback(SAVE_DIR, \n",
    "                                                                   \"Model_3_GRU\")])\n"
   ]
  },
  {
   "cell_type": "code",
   "execution_count": 54,
   "id": "5d28772c",
   "metadata": {
    "execution": {
     "iopub.execute_input": "2025-02-12T15:08:36.068211Z",
     "iopub.status.busy": "2025-02-12T15:08:36.067926Z",
     "iopub.status.idle": "2025-02-12T15:08:36.512102Z",
     "shell.execute_reply": "2025-02-12T15:08:36.511178Z"
    },
    "papermill": {
     "duration": 0.480236,
     "end_time": "2025-02-12T15:08:36.513287",
     "exception": false,
     "start_time": "2025-02-12T15:08:36.033051",
     "status": "completed"
    },
    "tags": []
   },
   "outputs": [
    {
     "name": "stdout",
     "output_type": "stream",
     "text": [
      "\u001b[1m24/24\u001b[0m \u001b[32m━━━━━━━━━━━━━━━━━━━━\u001b[0m\u001b[37m\u001b[0m \u001b[1m0s\u001b[0m 9ms/step\n"
     ]
    },
    {
     "data": {
      "text/plain": [
       "array([[1.4994219e-01],\n",
       "       [5.6068337e-01],\n",
       "       [9.9921966e-01],\n",
       "       [7.7901028e-02],\n",
       "       [1.8379193e-04],\n",
       "       [9.9963641e-01],\n",
       "       [4.2571014e-01],\n",
       "       [9.9993348e-01],\n",
       "       [9.9986243e-01],\n",
       "       [9.2668599e-01],\n",
       "       [3.4342389e-04],\n",
       "       [7.9026687e-01],\n",
       "       [4.3252262e-04],\n",
       "       [1.4682512e-01],\n",
       "       [1.8020060e-04],\n",
       "       [3.8134251e-03],\n",
       "       [7.2293315e-04],\n",
       "       [3.7118065e-04],\n",
       "       [4.6429224e-02],\n",
       "       [9.9952590e-01]], dtype=float32)"
      ]
     },
     "execution_count": 54,
     "metadata": {},
     "output_type": "execute_result"
    }
   ],
   "source": [
    "model_3_pred_probs = model_3.predict(val_sentences)\n",
    "model_3_pred_probs[:20]"
   ]
  },
  {
   "cell_type": "code",
   "execution_count": 55,
   "id": "316ddd04",
   "metadata": {
    "execution": {
     "iopub.execute_input": "2025-02-12T15:08:36.582887Z",
     "iopub.status.busy": "2025-02-12T15:08:36.582545Z",
     "iopub.status.idle": "2025-02-12T15:08:36.589533Z",
     "shell.execute_reply": "2025-02-12T15:08:36.588890Z"
    },
    "papermill": {
     "duration": 0.04292,
     "end_time": "2025-02-12T15:08:36.590739",
     "exception": false,
     "start_time": "2025-02-12T15:08:36.547819",
     "status": "completed"
    },
    "tags": []
   },
   "outputs": [
    {
     "data": {
      "text/plain": [
       "<tf.Tensor: shape=(20,), dtype=float32, numpy=\n",
       "array([0., 1., 1., 0., 0., 1., 0., 1., 1., 1., 0., 1., 0., 0., 0., 0., 0.,\n",
       "       0., 0., 1.], dtype=float32)>"
      ]
     },
     "execution_count": 55,
     "metadata": {},
     "output_type": "execute_result"
    }
   ],
   "source": [
    "# Converts model prediction probabilities to label format \n",
    "model_3_preds = tf.squeeze(tf.round(model_3_pred_probs))\n",
    "model_3_preds[:20]"
   ]
  },
  {
   "cell_type": "code",
   "execution_count": 56,
   "id": "f4d92767",
   "metadata": {
    "execution": {
     "iopub.execute_input": "2025-02-12T15:08:36.659984Z",
     "iopub.status.busy": "2025-02-12T15:08:36.659667Z",
     "iopub.status.idle": "2025-02-12T15:08:36.667424Z",
     "shell.execute_reply": "2025-02-12T15:08:36.666686Z"
    },
    "papermill": {
     "duration": 0.043592,
     "end_time": "2025-02-12T15:08:36.668572",
     "exception": false,
     "start_time": "2025-02-12T15:08:36.624980",
     "status": "completed"
    },
    "tags": []
   },
   "outputs": [
    {
     "data": {
      "text/plain": [
       "{'Accuracy Score ': 77.43,\n",
       " 'Precision Score': 0.7757380419380466,\n",
       " 'Recall Score': 0.7742782152230971,\n",
       " 'F1 Score ': 0.7723566516531356}"
      ]
     },
     "execution_count": 56,
     "metadata": {},
     "output_type": "execute_result"
    }
   ],
   "source": [
    "model_3_results = calculate_results(y_true=val_labels,\n",
    "                                   y_pred=model_3_preds)\n",
    "model_3_results"
   ]
  },
  {
   "cell_type": "code",
   "execution_count": 57,
   "id": "b60c94e2",
   "metadata": {
    "execution": {
     "iopub.execute_input": "2025-02-12T15:08:36.738397Z",
     "iopub.status.busy": "2025-02-12T15:08:36.738077Z",
     "iopub.status.idle": "2025-02-12T15:08:36.814800Z",
     "shell.execute_reply": "2025-02-12T15:08:36.813844Z"
    },
    "papermill": {
     "duration": 0.113383,
     "end_time": "2025-02-12T15:08:36.816363",
     "exception": false,
     "start_time": "2025-02-12T15:08:36.702980",
     "status": "completed"
    },
    "tags": []
   },
   "outputs": [],
   "source": [
    "## Model 4 Bidirectional RNN\n",
    "from tensorflow.keras import layers\n",
    "inputs = layers.Input(shape=(1,), dtype=\"string\")\n",
    "x = text_vectorizer(inputs)\n",
    "x = embedding(x)\n",
    "x = layers.Bidirectional(layers.LSTM(64, return_sequences=True))(x)\n",
    "x = layers.Bidirectional(layers.GRU(64))(x)\n",
    "outputs = layers.Dense(1, activation=\"sigmoid\")(x)\n",
    "model_4 = tf.keras.Model(inputs, outputs, name='Model_4_Bidirectional')"
   ]
  },
  {
   "cell_type": "code",
   "execution_count": 58,
   "id": "541ea8d2",
   "metadata": {
    "execution": {
     "iopub.execute_input": "2025-02-12T15:08:36.888697Z",
     "iopub.status.busy": "2025-02-12T15:08:36.888300Z",
     "iopub.status.idle": "2025-02-12T15:08:36.903734Z",
     "shell.execute_reply": "2025-02-12T15:08:36.903060Z"
    },
    "papermill": {
     "duration": 0.05175,
     "end_time": "2025-02-12T15:08:36.904856",
     "exception": false,
     "start_time": "2025-02-12T15:08:36.853106",
     "status": "completed"
    },
    "tags": []
   },
   "outputs": [
    {
     "data": {
      "text/html": [
       "<pre style=\"white-space:pre;overflow-x:auto;line-height:normal;font-family:Menlo,'DejaVu Sans Mono',consolas,'Courier New',monospace\"><span style=\"font-weight: bold\">Model: \"Model_4_Bidirectional\"</span>\n",
       "</pre>\n"
      ],
      "text/plain": [
       "\u001b[1mModel: \"Model_4_Bidirectional\"\u001b[0m\n"
      ]
     },
     "metadata": {},
     "output_type": "display_data"
    },
    {
     "data": {
      "text/html": [
       "<pre style=\"white-space:pre;overflow-x:auto;line-height:normal;font-family:Menlo,'DejaVu Sans Mono',consolas,'Courier New',monospace\">┏━━━━━━━━━━━━━━━━━━━━━━━━━━━━━━━━━━━━━━┳━━━━━━━━━━━━━━━━━━━━━━━━━━━━━┳━━━━━━━━━━━━━━━━━┓\n",
       "┃<span style=\"font-weight: bold\"> Layer (type)                         </span>┃<span style=\"font-weight: bold\"> Output Shape                </span>┃<span style=\"font-weight: bold\">         Param # </span>┃\n",
       "┡━━━━━━━━━━━━━━━━━━━━━━━━━━━━━━━━━━━━━━╇━━━━━━━━━━━━━━━━━━━━━━━━━━━━━╇━━━━━━━━━━━━━━━━━┩\n",
       "│ input_layer_3 (<span style=\"color: #0087ff; text-decoration-color: #0087ff\">InputLayer</span>)           │ (<span style=\"color: #00d7ff; text-decoration-color: #00d7ff\">None</span>, <span style=\"color: #00af00; text-decoration-color: #00af00\">1</span>)                   │               <span style=\"color: #00af00; text-decoration-color: #00af00\">0</span> │\n",
       "├──────────────────────────────────────┼─────────────────────────────┼─────────────────┤\n",
       "│ text_vectorization_1                 │ (<span style=\"color: #00d7ff; text-decoration-color: #00d7ff\">None</span>, <span style=\"color: #00af00; text-decoration-color: #00af00\">15</span>)                  │               <span style=\"color: #00af00; text-decoration-color: #00af00\">0</span> │\n",
       "│ (<span style=\"color: #0087ff; text-decoration-color: #0087ff\">TextVectorization</span>)                  │                             │                 │\n",
       "├──────────────────────────────────────┼─────────────────────────────┼─────────────────┤\n",
       "│ embedding (<span style=\"color: #0087ff; text-decoration-color: #0087ff\">Embedding</span>)                │ (<span style=\"color: #00d7ff; text-decoration-color: #00d7ff\">None</span>, <span style=\"color: #00af00; text-decoration-color: #00af00\">15</span>, <span style=\"color: #00af00; text-decoration-color: #00af00\">128</span>)             │       <span style=\"color: #00af00; text-decoration-color: #00af00\">1,280,000</span> │\n",
       "├──────────────────────────────────────┼─────────────────────────────┼─────────────────┤\n",
       "│ bidirectional (<span style=\"color: #0087ff; text-decoration-color: #0087ff\">Bidirectional</span>)        │ (<span style=\"color: #00d7ff; text-decoration-color: #00d7ff\">None</span>, <span style=\"color: #00af00; text-decoration-color: #00af00\">15</span>, <span style=\"color: #00af00; text-decoration-color: #00af00\">128</span>)             │          <span style=\"color: #00af00; text-decoration-color: #00af00\">98,816</span> │\n",
       "├──────────────────────────────────────┼─────────────────────────────┼─────────────────┤\n",
       "│ bidirectional_1 (<span style=\"color: #0087ff; text-decoration-color: #0087ff\">Bidirectional</span>)      │ (<span style=\"color: #00d7ff; text-decoration-color: #00d7ff\">None</span>, <span style=\"color: #00af00; text-decoration-color: #00af00\">128</span>)                 │          <span style=\"color: #00af00; text-decoration-color: #00af00\">74,496</span> │\n",
       "├──────────────────────────────────────┼─────────────────────────────┼─────────────────┤\n",
       "│ dense_3 (<span style=\"color: #0087ff; text-decoration-color: #0087ff\">Dense</span>)                      │ (<span style=\"color: #00d7ff; text-decoration-color: #00d7ff\">None</span>, <span style=\"color: #00af00; text-decoration-color: #00af00\">1</span>)                   │             <span style=\"color: #00af00; text-decoration-color: #00af00\">129</span> │\n",
       "└──────────────────────────────────────┴─────────────────────────────┴─────────────────┘\n",
       "</pre>\n"
      ],
      "text/plain": [
       "┏━━━━━━━━━━━━━━━━━━━━━━━━━━━━━━━━━━━━━━┳━━━━━━━━━━━━━━━━━━━━━━━━━━━━━┳━━━━━━━━━━━━━━━━━┓\n",
       "┃\u001b[1m \u001b[0m\u001b[1mLayer (type)                        \u001b[0m\u001b[1m \u001b[0m┃\u001b[1m \u001b[0m\u001b[1mOutput Shape               \u001b[0m\u001b[1m \u001b[0m┃\u001b[1m \u001b[0m\u001b[1m        Param #\u001b[0m\u001b[1m \u001b[0m┃\n",
       "┡━━━━━━━━━━━━━━━━━━━━━━━━━━━━━━━━━━━━━━╇━━━━━━━━━━━━━━━━━━━━━━━━━━━━━╇━━━━━━━━━━━━━━━━━┩\n",
       "│ input_layer_3 (\u001b[38;5;33mInputLayer\u001b[0m)           │ (\u001b[38;5;45mNone\u001b[0m, \u001b[38;5;34m1\u001b[0m)                   │               \u001b[38;5;34m0\u001b[0m │\n",
       "├──────────────────────────────────────┼─────────────────────────────┼─────────────────┤\n",
       "│ text_vectorization_1                 │ (\u001b[38;5;45mNone\u001b[0m, \u001b[38;5;34m15\u001b[0m)                  │               \u001b[38;5;34m0\u001b[0m │\n",
       "│ (\u001b[38;5;33mTextVectorization\u001b[0m)                  │                             │                 │\n",
       "├──────────────────────────────────────┼─────────────────────────────┼─────────────────┤\n",
       "│ embedding (\u001b[38;5;33mEmbedding\u001b[0m)                │ (\u001b[38;5;45mNone\u001b[0m, \u001b[38;5;34m15\u001b[0m, \u001b[38;5;34m128\u001b[0m)             │       \u001b[38;5;34m1,280,000\u001b[0m │\n",
       "├──────────────────────────────────────┼─────────────────────────────┼─────────────────┤\n",
       "│ bidirectional (\u001b[38;5;33mBidirectional\u001b[0m)        │ (\u001b[38;5;45mNone\u001b[0m, \u001b[38;5;34m15\u001b[0m, \u001b[38;5;34m128\u001b[0m)             │          \u001b[38;5;34m98,816\u001b[0m │\n",
       "├──────────────────────────────────────┼─────────────────────────────┼─────────────────┤\n",
       "│ bidirectional_1 (\u001b[38;5;33mBidirectional\u001b[0m)      │ (\u001b[38;5;45mNone\u001b[0m, \u001b[38;5;34m128\u001b[0m)                 │          \u001b[38;5;34m74,496\u001b[0m │\n",
       "├──────────────────────────────────────┼─────────────────────────────┼─────────────────┤\n",
       "│ dense_3 (\u001b[38;5;33mDense\u001b[0m)                      │ (\u001b[38;5;45mNone\u001b[0m, \u001b[38;5;34m1\u001b[0m)                   │             \u001b[38;5;34m129\u001b[0m │\n",
       "└──────────────────────────────────────┴─────────────────────────────┴─────────────────┘\n"
      ]
     },
     "metadata": {},
     "output_type": "display_data"
    },
    {
     "data": {
      "text/html": [
       "<pre style=\"white-space:pre;overflow-x:auto;line-height:normal;font-family:Menlo,'DejaVu Sans Mono',consolas,'Courier New',monospace\"><span style=\"font-weight: bold\"> Total params: </span><span style=\"color: #00af00; text-decoration-color: #00af00\">1,453,441</span> (5.54 MB)\n",
       "</pre>\n"
      ],
      "text/plain": [
       "\u001b[1m Total params: \u001b[0m\u001b[38;5;34m1,453,441\u001b[0m (5.54 MB)\n"
      ]
     },
     "metadata": {},
     "output_type": "display_data"
    },
    {
     "data": {
      "text/html": [
       "<pre style=\"white-space:pre;overflow-x:auto;line-height:normal;font-family:Menlo,'DejaVu Sans Mono',consolas,'Courier New',monospace\"><span style=\"font-weight: bold\"> Trainable params: </span><span style=\"color: #00af00; text-decoration-color: #00af00\">1,453,441</span> (5.54 MB)\n",
       "</pre>\n"
      ],
      "text/plain": [
       "\u001b[1m Trainable params: \u001b[0m\u001b[38;5;34m1,453,441\u001b[0m (5.54 MB)\n"
      ]
     },
     "metadata": {},
     "output_type": "display_data"
    },
    {
     "data": {
      "text/html": [
       "<pre style=\"white-space:pre;overflow-x:auto;line-height:normal;font-family:Menlo,'DejaVu Sans Mono',consolas,'Courier New',monospace\"><span style=\"font-weight: bold\"> Non-trainable params: </span><span style=\"color: #00af00; text-decoration-color: #00af00\">0</span> (0.00 B)\n",
       "</pre>\n"
      ],
      "text/plain": [
       "\u001b[1m Non-trainable params: \u001b[0m\u001b[38;5;34m0\u001b[0m (0.00 B)\n"
      ]
     },
     "metadata": {},
     "output_type": "display_data"
    }
   ],
   "source": [
    "model_4.summary()"
   ]
  },
  {
   "cell_type": "code",
   "execution_count": 59,
   "id": "110be5ba",
   "metadata": {
    "execution": {
     "iopub.execute_input": "2025-02-12T15:08:36.975732Z",
     "iopub.status.busy": "2025-02-12T15:08:36.975457Z",
     "iopub.status.idle": "2025-02-12T15:08:36.982770Z",
     "shell.execute_reply": "2025-02-12T15:08:36.981938Z"
    },
    "papermill": {
     "duration": 0.044312,
     "end_time": "2025-02-12T15:08:36.984164",
     "exception": false,
     "start_time": "2025-02-12T15:08:36.939852",
     "status": "completed"
    },
    "tags": []
   },
   "outputs": [],
   "source": [
    "# Compile the model \n",
    "model_4.compile(loss='binary_crossentropy',\n",
    "               optimizer=tf.keras.optimizers.Adam(),\n",
    "               metrics=[\"accuracy\"])"
   ]
  },
  {
   "cell_type": "code",
   "execution_count": 60,
   "id": "f2d3333d",
   "metadata": {
    "execution": {
     "iopub.execute_input": "2025-02-12T15:08:37.055148Z",
     "iopub.status.busy": "2025-02-12T15:08:37.054813Z",
     "iopub.status.idle": "2025-02-12T15:08:51.100324Z",
     "shell.execute_reply": "2025-02-12T15:08:51.099443Z"
    },
    "papermill": {
     "duration": 14.082592,
     "end_time": "2025-02-12T15:08:51.101659",
     "exception": false,
     "start_time": "2025-02-12T15:08:37.019067",
     "status": "completed"
    },
    "tags": []
   },
   "outputs": [
    {
     "name": "stdout",
     "output_type": "stream",
     "text": [
      "Saving TensorBoard log files to: model_logs/Model_4_Bidirectional/20250212-150837\n",
      "Epoch 1/5\n",
      "\u001b[1m215/215\u001b[0m \u001b[32m━━━━━━━━━━━━━━━━━━━━\u001b[0m\u001b[37m\u001b[0m \u001b[1m6s\u001b[0m 12ms/step - accuracy: 0.9369 - loss: 0.1532 - val_accuracy: 0.7638 - val_loss: 0.9707\n",
      "Epoch 2/5\n",
      "\u001b[1m215/215\u001b[0m \u001b[32m━━━━━━━━━━━━━━━━━━━━\u001b[0m\u001b[37m\u001b[0m \u001b[1m2s\u001b[0m 10ms/step - accuracy: 0.9805 - loss: 0.0438 - val_accuracy: 0.7651 - val_loss: 1.4204\n",
      "Epoch 3/5\n",
      "\u001b[1m215/215\u001b[0m \u001b[32m━━━━━━━━━━━━━━━━━━━━\u001b[0m\u001b[37m\u001b[0m \u001b[1m2s\u001b[0m 10ms/step - accuracy: 0.9793 - loss: 0.0430 - val_accuracy: 0.7572 - val_loss: 1.2789\n",
      "Epoch 4/5\n",
      "\u001b[1m215/215\u001b[0m \u001b[32m━━━━━━━━━━━━━━━━━━━━\u001b[0m\u001b[37m\u001b[0m \u001b[1m2s\u001b[0m 10ms/step - accuracy: 0.9809 - loss: 0.0433 - val_accuracy: 0.7533 - val_loss: 1.6817\n",
      "Epoch 5/5\n",
      "\u001b[1m215/215\u001b[0m \u001b[32m━━━━━━━━━━━━━━━━━━━━\u001b[0m\u001b[37m\u001b[0m \u001b[1m2s\u001b[0m 10ms/step - accuracy: 0.9830 - loss: 0.0357 - val_accuracy: 0.7546 - val_loss: 1.5762\n"
     ]
    }
   ],
   "source": [
    "# Fit the model \n",
    "model_4_history = model_4.fit(train_sentences,\n",
    "                             train_labels,\n",
    "                             epochs=5,\n",
    "                             validation_data=(val_sentences, val_labels),\n",
    "                             callbacks=[create_tensorboard_callback(SAVE_DIR, \n",
    "                                                                   \"Model_4_Bidirectional\")])"
   ]
  },
  {
   "cell_type": "code",
   "execution_count": 61,
   "id": "d2f80c45",
   "metadata": {
    "execution": {
     "iopub.execute_input": "2025-02-12T15:08:51.191997Z",
     "iopub.status.busy": "2025-02-12T15:08:51.191618Z",
     "iopub.status.idle": "2025-02-12T15:08:52.087466Z",
     "shell.execute_reply": "2025-02-12T15:08:52.086728Z"
    },
    "papermill": {
     "duration": 0.941736,
     "end_time": "2025-02-12T15:08:52.088741",
     "exception": false,
     "start_time": "2025-02-12T15:08:51.147005",
     "status": "completed"
    },
    "tags": []
   },
   "outputs": [
    {
     "name": "stdout",
     "output_type": "stream",
     "text": [
      "\u001b[1m24/24\u001b[0m \u001b[32m━━━━━━━━━━━━━━━━━━━━\u001b[0m\u001b[37m\u001b[0m \u001b[1m1s\u001b[0m 21ms/step\n"
     ]
    },
    {
     "data": {
      "text/plain": [
       "array([[6.7375928e-01],\n",
       "       [7.9183918e-01],\n",
       "       [9.9998832e-01],\n",
       "       [2.3850890e-01],\n",
       "       [1.6491427e-05],\n",
       "       [9.9997151e-01],\n",
       "       [9.8763674e-01],\n",
       "       [9.9999547e-01],\n",
       "       [9.9999428e-01],\n",
       "       [9.9978346e-01],\n",
       "       [7.7528784e-05],\n",
       "       [9.9951661e-01],\n",
       "       [3.2708474e-05],\n",
       "       [2.7296606e-01],\n",
       "       [2.4077315e-05],\n",
       "       [1.1456395e-03],\n",
       "       [1.4525963e-04],\n",
       "       [1.3807281e-04],\n",
       "       [2.5033992e-02],\n",
       "       [9.9997294e-01]], dtype=float32)"
      ]
     },
     "execution_count": 61,
     "metadata": {},
     "output_type": "execute_result"
    }
   ],
   "source": [
    "model_4_pred_probs = model_4.predict(val_sentences)\n",
    "model_4_pred_probs[:20]"
   ]
  },
  {
   "cell_type": "code",
   "execution_count": 62,
   "id": "c8f76b14",
   "metadata": {
    "execution": {
     "iopub.execute_input": "2025-02-12T15:08:52.184602Z",
     "iopub.status.busy": "2025-02-12T15:08:52.184278Z",
     "iopub.status.idle": "2025-02-12T15:08:52.191560Z",
     "shell.execute_reply": "2025-02-12T15:08:52.190852Z"
    },
    "papermill": {
     "duration": 0.055067,
     "end_time": "2025-02-12T15:08:52.192760",
     "exception": false,
     "start_time": "2025-02-12T15:08:52.137693",
     "status": "completed"
    },
    "tags": []
   },
   "outputs": [
    {
     "data": {
      "text/plain": [
       "<tf.Tensor: shape=(20,), dtype=float32, numpy=\n",
       "array([1., 1., 1., 0., 0., 1., 1., 1., 1., 1., 0., 1., 0., 0., 0., 0., 0.,\n",
       "       0., 0., 1.], dtype=float32)>"
      ]
     },
     "execution_count": 62,
     "metadata": {},
     "output_type": "execute_result"
    }
   ],
   "source": [
    "# Converts model prediction probabilities to label format \n",
    "model_4_preds = tf.squeeze(tf.round(model_4_pred_probs))\n",
    "model_4_preds[:20]"
   ]
  },
  {
   "cell_type": "code",
   "execution_count": 63,
   "id": "76eae768",
   "metadata": {
    "execution": {
     "iopub.execute_input": "2025-02-12T15:08:52.280574Z",
     "iopub.status.busy": "2025-02-12T15:08:52.280264Z",
     "iopub.status.idle": "2025-02-12T15:08:52.288505Z",
     "shell.execute_reply": "2025-02-12T15:08:52.287718Z"
    },
    "papermill": {
     "duration": 0.05334,
     "end_time": "2025-02-12T15:08:52.289725",
     "exception": false,
     "start_time": "2025-02-12T15:08:52.236385",
     "status": "completed"
    },
    "tags": []
   },
   "outputs": [
    {
     "data": {
      "text/plain": [
       "{'Accuracy Score ': 75.46,\n",
       " 'Precision Score': 0.754186285276044,\n",
       " 'Recall Score': 0.7545931758530183,\n",
       " 'F1 Score ': 0.7542315016665913}"
      ]
     },
     "execution_count": 63,
     "metadata": {},
     "output_type": "execute_result"
    }
   ],
   "source": [
    "model_4_results = calculate_results(y_true=val_labels,\n",
    "                                   y_pred=model_4_preds)\n",
    "model_4_results"
   ]
  },
  {
   "cell_type": "code",
   "execution_count": 64,
   "id": "0959585f",
   "metadata": {
    "execution": {
     "iopub.execute_input": "2025-02-12T15:08:52.378106Z",
     "iopub.status.busy": "2025-02-12T15:08:52.377765Z",
     "iopub.status.idle": "2025-02-12T15:09:06.938674Z",
     "shell.execute_reply": "2025-02-12T15:09:06.937975Z"
    },
    "papermill": {
     "duration": 14.606522,
     "end_time": "2025-02-12T15:09:06.940172",
     "exception": false,
     "start_time": "2025-02-12T15:08:52.333650",
     "status": "completed"
    },
    "tags": []
   },
   "outputs": [],
   "source": [
    "import tensorflow_hub as hub\n",
    "import tensorflow as tf\n",
    "import tf_keras as keras\n",
    "\n",
    "\n",
    "sentence_encoder_layer = hub.KerasLayer(\"https://www.kaggle.com/models/google/universal-sentence-encoder/TensorFlow2/universal-sentence-encoder/2\",\n",
    "                                       input_shape=[],  # Accepts a single sentence as input\n",
    "                                       dtype=tf.string,  # Input type is string\n",
    "                                       trainable=False,\n",
    "                                       name=\"USE\")"
   ]
  },
  {
   "cell_type": "code",
   "execution_count": 65,
   "id": "53e30b9e",
   "metadata": {
    "execution": {
     "iopub.execute_input": "2025-02-12T15:09:07.033332Z",
     "iopub.status.busy": "2025-02-12T15:09:07.032500Z",
     "iopub.status.idle": "2025-02-12T15:09:07.523790Z",
     "shell.execute_reply": "2025-02-12T15:09:07.522943Z"
    },
    "papermill": {
     "duration": 0.538273,
     "end_time": "2025-02-12T15:09:07.525039",
     "exception": false,
     "start_time": "2025-02-12T15:09:06.986766",
     "status": "completed"
    },
    "tags": []
   },
   "outputs": [
    {
     "name": "stdout",
     "output_type": "stream",
     "text": [
      "Model: \"Model_6_USE\"\n",
      "_________________________________________________________________\n",
      " Layer (type)                Output Shape              Param #   \n",
      "=================================================================\n",
      " USE (KerasLayer)            (None, 512)               256797824 \n",
      "                                                                 \n",
      " dense (Dense)               (None, 64)                32832     \n",
      "                                                                 \n",
      " dense_1 (Dense)             (None, 1)                 65        \n",
      "                                                                 \n",
      "=================================================================\n",
      "Total params: 256830721 (979.73 MB)\n",
      "Trainable params: 32897 (128.50 KB)\n",
      "Non-trainable params: 256797824 (979.61 MB)\n",
      "_________________________________________________________________\n"
     ]
    }
   ],
   "source": [
    "# Create the model using tf sequential way \n",
    "\n",
    "model_6 = keras.Sequential([\n",
    "    sentence_encoder_layer,\n",
    "    keras.layers.Dense(64, activation=\"relu\"),\n",
    "    keras.layers.Dense(1, activation='sigmoid'),\n",
    "], name='Model_6_USE')\n",
    "\n",
    "# Compile the model \n",
    "model_6.compile(loss='binary_crossentropy',\n",
    "               optimizer=keras.optimizers.Adam(),\n",
    "               metrics=[\"accuracy\"])\n",
    "\n",
    "model_6.summary()"
   ]
  },
  {
   "cell_type": "code",
   "execution_count": 66,
   "id": "e907e51e",
   "metadata": {
    "execution": {
     "iopub.execute_input": "2025-02-12T15:09:07.615725Z",
     "iopub.status.busy": "2025-02-12T15:09:07.615402Z",
     "iopub.status.idle": "2025-02-12T15:09:21.890576Z",
     "shell.execute_reply": "2025-02-12T15:09:21.889965Z"
    },
    "papermill": {
     "duration": 14.321783,
     "end_time": "2025-02-12T15:09:21.891820",
     "exception": false,
     "start_time": "2025-02-12T15:09:07.570037",
     "status": "completed"
    },
    "tags": []
   },
   "outputs": [
    {
     "name": "stdout",
     "output_type": "stream",
     "text": [
      "Epoch 1/5\n",
      "215/215 [==============================] - 6s 12ms/step - loss: 0.5035 - accuracy: 0.7882 - val_loss: 0.4513 - val_accuracy: 0.7966\n",
      "Epoch 2/5\n",
      "215/215 [==============================] - 2s 10ms/step - loss: 0.4143 - accuracy: 0.8158 - val_loss: 0.4378 - val_accuracy: 0.8071\n",
      "Epoch 3/5\n",
      "215/215 [==============================] - 2s 9ms/step - loss: 0.4007 - accuracy: 0.8227 - val_loss: 0.4338 - val_accuracy: 0.8136\n",
      "Epoch 4/5\n",
      "215/215 [==============================] - 2s 9ms/step - loss: 0.3926 - accuracy: 0.8231 - val_loss: 0.4315 - val_accuracy: 0.8097\n",
      "Epoch 5/5\n",
      "215/215 [==============================] - 2s 9ms/step - loss: 0.3860 - accuracy: 0.8286 - val_loss: 0.4279 - val_accuracy: 0.8136\n"
     ]
    }
   ],
   "source": [
    "# Fit the model \n",
    "model_6_history = model_6.fit(train_sentences,\n",
    "                             train_labels,\n",
    "                             epochs=5,\n",
    "                             validation_data=(val_sentences, val_labels))\n",
    "                             #callbacks=[create_tensorboard_callback(SAVE_DIR, \n",
    "                                                                  # \"Model_6_Bidirectional\")])"
   ]
  },
  {
   "cell_type": "code",
   "execution_count": null,
   "id": "339e4cc1",
   "metadata": {
    "papermill": {
     "duration": 0.053873,
     "end_time": "2025-02-12T15:09:22.000761",
     "exception": false,
     "start_time": "2025-02-12T15:09:21.946888",
     "status": "completed"
    },
    "tags": []
   },
   "outputs": [],
   "source": []
  }
 ],
 "metadata": {
  "kaggle": {
   "accelerator": "nvidiaTeslaT4",
   "dataSources": [
    {
     "databundleVersionId": 4906306,
     "modelInstanceId": 1276,
     "sourceId": 1513,
     "sourceType": "modelInstanceVersion"
    },
    {
     "databundleVersionId": 4906278,
     "modelInstanceId": 1265,
     "sourceId": 1497,
     "sourceType": "modelInstanceVersion"
    }
   ],
   "dockerImageVersionId": 30887,
   "isGpuEnabled": true,
   "isInternetEnabled": true,
   "language": "python",
   "sourceType": "notebook"
  },
  "kernelspec": {
   "display_name": "Python 3",
   "language": "python",
   "name": "python3"
  },
  "language_info": {
   "codemirror_mode": {
    "name": "ipython",
    "version": 3
   },
   "file_extension": ".py",
   "mimetype": "text/x-python",
   "name": "python",
   "nbconvert_exporter": "python",
   "pygments_lexer": "ipython3",
   "version": "3.10.12"
  },
  "papermill": {
   "default_parameters": {},
   "duration": 105.882986,
   "end_time": "2025-02-12T15:09:25.299578",
   "environment_variables": {},
   "exception": null,
   "input_path": "__notebook__.ipynb",
   "output_path": "__notebook__.ipynb",
   "parameters": {},
   "start_time": "2025-02-12T15:07:39.416592",
   "version": "2.6.0"
  }
 },
 "nbformat": 4,
 "nbformat_minor": 5
}
