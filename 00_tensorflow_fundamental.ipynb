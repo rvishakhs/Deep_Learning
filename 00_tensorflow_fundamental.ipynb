{
  "nbformat": 4,
  "nbformat_minor": 0,
  "metadata": {
    "colab": {
      "provenance": [],
      "authorship_tag": "ABX9TyMubcZwsGk1YhhAarY/phAU",
      "include_colab_link": true
    },
    "kernelspec": {
      "name": "python3",
      "display_name": "Python 3"
    },
    "language_info": {
      "name": "python"
    }
  },
  "cells": [
    {
      "cell_type": "markdown",
      "metadata": {
        "id": "view-in-github",
        "colab_type": "text"
      },
      "source": [
        "<a href=\"https://colab.research.google.com/github/rvishakhs/Deep_Learning/blob/Fundamentals/00_tensorflow_fundamental.ipynb\" target=\"_parent\"><img src=\"https://colab.research.google.com/assets/colab-badge.svg\" alt=\"Open In Colab\"/></a>"
      ]
    },
    {
      "cell_type": "markdown",
      "source": [
        "# In this notebook, we're going to cover some of the most fundamental concepts of tensors using Tensorflow\n",
        "\n",
        "\n",
        "\n",
        "1. Introduction to tensors\n",
        "2. Getting information from tensors\n",
        "3. Manipulating tensors\n",
        "4. Tensors & Numpy\n",
        "5. Using @tf.function (a way to spped up your regular Python functions)\n",
        "6. Using GPUs with TensorFLow (or TPUs)\n",
        "7. Exercise to try for yourself\n",
        "\n",
        "\n",
        "\n"
      ],
      "metadata": {
        "id": "KbVdY_uuKSLL"
      }
    },
    {
      "cell_type": "code",
      "execution_count": 2,
      "metadata": {
        "colab": {
          "base_uri": "https://localhost:8080/"
        },
        "id": "6QTyWEnGJjT9",
        "outputId": "dbf61ced-c4e0-4da0-f973-a51bb5c8b7ee"
      },
      "outputs": [
        {
          "output_type": "stream",
          "name": "stdout",
          "text": [
            "2.17.1\n"
          ]
        }
      ],
      "source": [
        "# Impot Tensorflow\n",
        "import tensorflow as tf\n",
        "print(tf.__version__)\n"
      ]
    },
    {
      "cell_type": "code",
      "source": [
        "# Create tensors with tf.constant()\n",
        "\n",
        "scaler = tf.constant(7)\n",
        "scaler"
      ],
      "metadata": {
        "colab": {
          "base_uri": "https://localhost:8080/"
        },
        "id": "U7CNcJ85L3AP",
        "outputId": "d524c719-1599-498a-c3ec-7b83240e29d9"
      },
      "execution_count": 3,
      "outputs": [
        {
          "output_type": "execute_result",
          "data": {
            "text/plain": [
              "<tf.Tensor: shape=(), dtype=int32, numpy=7>"
            ]
          },
          "metadata": {},
          "execution_count": 3
        }
      ]
    },
    {
      "cell_type": "code",
      "source": [],
      "metadata": {
        "id": "QkwRmfcZMgKS"
      },
      "execution_count": null,
      "outputs": []
    }
  ]
}