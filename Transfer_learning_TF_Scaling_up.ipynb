{
  "nbformat": 4,
  "nbformat_minor": 0,
  "metadata": {
    "colab": {
      "provenance": [],
      "gpuType": "T4",
      "authorship_tag": "ABX9TyOKLPkWjnHF42bLdBVTvhXn",
      "include_colab_link": true
    },
    "kernelspec": {
      "name": "python3",
      "display_name": "Python 3"
    },
    "language_info": {
      "name": "python"
    },
    "accelerator": "GPU"
  },
  "cells": [
    {
      "cell_type": "markdown",
      "metadata": {
        "id": "view-in-github",
        "colab_type": "text"
      },
      "source": [
        "<a href=\"https://colab.research.google.com/github/rvishakhs/Deep_Learning/blob/Fundamentals/Transfer_learning_TF_Scaling_up.ipynb\" target=\"_parent\"><img src=\"https://colab.research.google.com/assets/colab-badge.svg\" alt=\"Open In Colab\"/></a>"
      ]
    },
    {
      "cell_type": "code",
      "execution_count": null,
      "metadata": {
        "colab": {
          "base_uri": "https://localhost:8080/"
        },
        "id": "GJU1S7FAHlKs",
        "outputId": "36a207d2-8bcd-46ca-f095-7dc9a15c0d53"
      },
      "outputs": [
        {
          "output_type": "stream",
          "name": "stdout",
          "text": [
            "--2025-01-31 15:06:31--  https://raw.githubusercontent.com/rvishakhs/Helper_functions/refs/heads/main/helper_functions.py\n",
            "Resolving raw.githubusercontent.com (raw.githubusercontent.com)... 185.199.108.133, 185.199.109.133, 185.199.110.133, ...\n",
            "Connecting to raw.githubusercontent.com (raw.githubusercontent.com)|185.199.108.133|:443... connected.\n",
            "HTTP request sent, awaiting response... 200 OK\n",
            "Length: 11794 (12K) [text/plain]\n",
            "Saving to: ‘helper_functions.py’\n",
            "\n",
            "helper_functions.py 100%[===================>]  11.52K  --.-KB/s    in 0s      \n",
            "\n",
            "2025-01-31 15:06:31 (89.4 MB/s) - ‘helper_functions.py’ saved [11794/11794]\n",
            "\n"
          ]
        }
      ],
      "source": [
        "!wget https://raw.githubusercontent.com/rvishakhs/Helper_functions/refs/heads/main/helper_functions.py"
      ]
    },
    {
      "cell_type": "code",
      "source": [
        "from helper_functions import create_tensorboard_callback, plot_loss_curves, compare_historys, unzip_data, walk_through_dir"
      ],
      "metadata": {
        "id": "wSYYJRsNHy27"
      },
      "execution_count": null,
      "outputs": []
    },
    {
      "cell_type": "code",
      "source": [
        "!wget https://storage.googleapis.com/ztm_tf_course/food_vision/101_food_classes_10_percent.zip"
      ],
      "metadata": {
        "colab": {
          "base_uri": "https://localhost:8080/"
        },
        "id": "-_C6-MfUJIFJ",
        "outputId": "d03d5393-1240-494e-ac2a-a67e084b6991"
      },
      "execution_count": null,
      "outputs": [
        {
          "output_type": "stream",
          "name": "stdout",
          "text": [
            "--2025-01-31 15:06:37--  https://storage.googleapis.com/ztm_tf_course/food_vision/101_food_classes_10_percent.zip\n",
            "Resolving storage.googleapis.com (storage.googleapis.com)... 74.125.68.207, 64.233.170.207, 142.251.175.207, ...\n",
            "Connecting to storage.googleapis.com (storage.googleapis.com)|74.125.68.207|:443... connected.\n",
            "HTTP request sent, awaiting response... 200 OK\n",
            "Length: 1625420029 (1.5G) [application/zip]\n",
            "Saving to: ‘101_food_classes_10_percent.zip’\n",
            "\n",
            "101_food_classes_10 100%[===================>]   1.51G  21.8MB/s    in 69s     \n",
            "\n",
            "2025-01-31 15:07:48 (22.3 MB/s) - ‘101_food_classes_10_percent.zip’ saved [1625420029/1625420029]\n",
            "\n"
          ]
        }
      ]
    },
    {
      "cell_type": "code",
      "source": [
        "unzip_data(\"101_food_classes_10_percent.zip\")"
      ],
      "metadata": {
        "id": "N6tagG6zH5Iw"
      },
      "execution_count": null,
      "outputs": []
    },
    {
      "cell_type": "code",
      "source": [
        "train_data = '/content/101_food_classes_10_percent/train'\n",
        "test_data = '/content/101_food_classes_10_percent/test'"
      ],
      "metadata": {
        "id": "cFvxLs6RKNUs"
      },
      "execution_count": null,
      "outputs": []
    },
    {
      "cell_type": "code",
      "source": [
        "walk_through_dir('/content/101_food_classes_10_percent')"
      ],
      "metadata": {
        "colab": {
          "base_uri": "https://localhost:8080/"
        },
        "collapsed": true,
        "id": "6tRNXW4iKf8a",
        "outputId": "dc132b94-7a76-46a3-d44d-2d216b88f0ba"
      },
      "execution_count": null,
      "outputs": [
        {
          "output_type": "stream",
          "name": "stdout",
          "text": [
            "There are 2 directories and 0 images in '/content/101_food_classes_10_percent'.\n",
            "There are 101 directories and 0 images in '/content/101_food_classes_10_percent/train'.\n",
            "There are 0 directories and 75 images in '/content/101_food_classes_10_percent/train/frozen_yogurt'.\n",
            "There are 0 directories and 75 images in '/content/101_food_classes_10_percent/train/pho'.\n",
            "There are 0 directories and 75 images in '/content/101_food_classes_10_percent/train/edamame'.\n",
            "There are 0 directories and 75 images in '/content/101_food_classes_10_percent/train/pork_chop'.\n",
            "There are 0 directories and 75 images in '/content/101_food_classes_10_percent/train/baklava'.\n",
            "There are 0 directories and 75 images in '/content/101_food_classes_10_percent/train/filet_mignon'.\n",
            "There are 0 directories and 75 images in '/content/101_food_classes_10_percent/train/spaghetti_carbonara'.\n",
            "There are 0 directories and 75 images in '/content/101_food_classes_10_percent/train/croque_madame'.\n",
            "There are 0 directories and 75 images in '/content/101_food_classes_10_percent/train/lobster_bisque'.\n",
            "There are 0 directories and 75 images in '/content/101_food_classes_10_percent/train/pulled_pork_sandwich'.\n",
            "There are 0 directories and 75 images in '/content/101_food_classes_10_percent/train/baby_back_ribs'.\n",
            "There are 0 directories and 75 images in '/content/101_food_classes_10_percent/train/takoyaki'.\n",
            "There are 0 directories and 75 images in '/content/101_food_classes_10_percent/train/deviled_eggs'.\n",
            "There are 0 directories and 75 images in '/content/101_food_classes_10_percent/train/pad_thai'.\n",
            "There are 0 directories and 75 images in '/content/101_food_classes_10_percent/train/poutine'.\n",
            "There are 0 directories and 75 images in '/content/101_food_classes_10_percent/train/caesar_salad'.\n",
            "There are 0 directories and 75 images in '/content/101_food_classes_10_percent/train/chocolate_cake'.\n",
            "There are 0 directories and 75 images in '/content/101_food_classes_10_percent/train/bibimbap'.\n",
            "There are 0 directories and 75 images in '/content/101_food_classes_10_percent/train/pizza'.\n",
            "There are 0 directories and 75 images in '/content/101_food_classes_10_percent/train/paella'.\n",
            "There are 0 directories and 75 images in '/content/101_food_classes_10_percent/train/hummus'.\n",
            "There are 0 directories and 75 images in '/content/101_food_classes_10_percent/train/chicken_curry'.\n",
            "There are 0 directories and 75 images in '/content/101_food_classes_10_percent/train/fried_rice'.\n",
            "There are 0 directories and 75 images in '/content/101_food_classes_10_percent/train/ice_cream'.\n",
            "There are 0 directories and 75 images in '/content/101_food_classes_10_percent/train/chocolate_mousse'.\n",
            "There are 0 directories and 75 images in '/content/101_food_classes_10_percent/train/tacos'.\n",
            "There are 0 directories and 75 images in '/content/101_food_classes_10_percent/train/lasagna'.\n",
            "There are 0 directories and 75 images in '/content/101_food_classes_10_percent/train/strawberry_shortcake'.\n",
            "There are 0 directories and 75 images in '/content/101_food_classes_10_percent/train/foie_gras'.\n",
            "There are 0 directories and 75 images in '/content/101_food_classes_10_percent/train/panna_cotta'.\n",
            "There are 0 directories and 75 images in '/content/101_food_classes_10_percent/train/french_onion_soup'.\n",
            "There are 0 directories and 75 images in '/content/101_food_classes_10_percent/train/fried_calamari'.\n",
            "There are 0 directories and 75 images in '/content/101_food_classes_10_percent/train/pancakes'.\n",
            "There are 0 directories and 75 images in '/content/101_food_classes_10_percent/train/grilled_salmon'.\n",
            "There are 0 directories and 75 images in '/content/101_food_classes_10_percent/train/greek_salad'.\n",
            "There are 0 directories and 75 images in '/content/101_food_classes_10_percent/train/macaroni_and_cheese'.\n",
            "There are 0 directories and 75 images in '/content/101_food_classes_10_percent/train/churros'.\n",
            "There are 0 directories and 75 images in '/content/101_food_classes_10_percent/train/cannoli'.\n",
            "There are 0 directories and 75 images in '/content/101_food_classes_10_percent/train/hot_and_sour_soup'.\n",
            "There are 0 directories and 75 images in '/content/101_food_classes_10_percent/train/hamburger'.\n",
            "There are 0 directories and 75 images in '/content/101_food_classes_10_percent/train/onion_rings'.\n",
            "There are 0 directories and 75 images in '/content/101_food_classes_10_percent/train/carrot_cake'.\n",
            "There are 0 directories and 75 images in '/content/101_food_classes_10_percent/train/steak'.\n",
            "There are 0 directories and 75 images in '/content/101_food_classes_10_percent/train/samosa'.\n",
            "There are 0 directories and 75 images in '/content/101_food_classes_10_percent/train/breakfast_burrito'.\n",
            "There are 0 directories and 75 images in '/content/101_food_classes_10_percent/train/bruschetta'.\n",
            "There are 0 directories and 75 images in '/content/101_food_classes_10_percent/train/tiramisu'.\n",
            "There are 0 directories and 75 images in '/content/101_food_classes_10_percent/train/shrimp_and_grits'.\n",
            "There are 0 directories and 75 images in '/content/101_food_classes_10_percent/train/caprese_salad'.\n",
            "There are 0 directories and 75 images in '/content/101_food_classes_10_percent/train/clam_chowder'.\n",
            "There are 0 directories and 75 images in '/content/101_food_classes_10_percent/train/creme_brulee'.\n",
            "There are 0 directories and 75 images in '/content/101_food_classes_10_percent/train/fish_and_chips'.\n",
            "There are 0 directories and 75 images in '/content/101_food_classes_10_percent/train/macarons'.\n",
            "There are 0 directories and 75 images in '/content/101_food_classes_10_percent/train/spaghetti_bolognese'.\n",
            "There are 0 directories and 75 images in '/content/101_food_classes_10_percent/train/grilled_cheese_sandwich'.\n",
            "There are 0 directories and 75 images in '/content/101_food_classes_10_percent/train/garlic_bread'.\n",
            "There are 0 directories and 75 images in '/content/101_food_classes_10_percent/train/chicken_wings'.\n",
            "There are 0 directories and 75 images in '/content/101_food_classes_10_percent/train/peking_duck'.\n",
            "There are 0 directories and 75 images in '/content/101_food_classes_10_percent/train/bread_pudding'.\n",
            "There are 0 directories and 75 images in '/content/101_food_classes_10_percent/train/omelette'.\n",
            "There are 0 directories and 75 images in '/content/101_food_classes_10_percent/train/guacamole'.\n",
            "There are 0 directories and 75 images in '/content/101_food_classes_10_percent/train/tuna_tartare'.\n",
            "There are 0 directories and 75 images in '/content/101_food_classes_10_percent/train/red_velvet_cake'.\n",
            "There are 0 directories and 75 images in '/content/101_food_classes_10_percent/train/ravioli'.\n",
            "There are 0 directories and 75 images in '/content/101_food_classes_10_percent/train/ramen'.\n",
            "There are 0 directories and 75 images in '/content/101_food_classes_10_percent/train/club_sandwich'.\n",
            "There are 0 directories and 75 images in '/content/101_food_classes_10_percent/train/mussels'.\n",
            "There are 0 directories and 75 images in '/content/101_food_classes_10_percent/train/risotto'.\n",
            "There are 0 directories and 75 images in '/content/101_food_classes_10_percent/train/crab_cakes'.\n",
            "There are 0 directories and 75 images in '/content/101_food_classes_10_percent/train/prime_rib'.\n",
            "There are 0 directories and 75 images in '/content/101_food_classes_10_percent/train/dumplings'.\n",
            "There are 0 directories and 75 images in '/content/101_food_classes_10_percent/train/scallops'.\n",
            "There are 0 directories and 75 images in '/content/101_food_classes_10_percent/train/beet_salad'.\n",
            "There are 0 directories and 75 images in '/content/101_food_classes_10_percent/train/sashimi'.\n",
            "There are 0 directories and 75 images in '/content/101_food_classes_10_percent/train/eggs_benedict'.\n",
            "There are 0 directories and 75 images in '/content/101_food_classes_10_percent/train/spring_rolls'.\n",
            "There are 0 directories and 75 images in '/content/101_food_classes_10_percent/train/seaweed_salad'.\n",
            "There are 0 directories and 75 images in '/content/101_food_classes_10_percent/train/gnocchi'.\n",
            "There are 0 directories and 75 images in '/content/101_food_classes_10_percent/train/nachos'.\n",
            "There are 0 directories and 75 images in '/content/101_food_classes_10_percent/train/chicken_quesadilla'.\n",
            "There are 0 directories and 75 images in '/content/101_food_classes_10_percent/train/waffles'.\n",
            "There are 0 directories and 75 images in '/content/101_food_classes_10_percent/train/ceviche'.\n",
            "There are 0 directories and 75 images in '/content/101_food_classes_10_percent/train/hot_dog'.\n",
            "There are 0 directories and 75 images in '/content/101_food_classes_10_percent/train/sushi'.\n",
            "There are 0 directories and 75 images in '/content/101_food_classes_10_percent/train/escargots'.\n",
            "There are 0 directories and 75 images in '/content/101_food_classes_10_percent/train/cheese_plate'.\n",
            "There are 0 directories and 75 images in '/content/101_food_classes_10_percent/train/apple_pie'.\n",
            "There are 0 directories and 75 images in '/content/101_food_classes_10_percent/train/lobster_roll_sandwich'.\n",
            "There are 0 directories and 75 images in '/content/101_food_classes_10_percent/train/oysters'.\n",
            "There are 0 directories and 75 images in '/content/101_food_classes_10_percent/train/cup_cakes'.\n",
            "There are 0 directories and 75 images in '/content/101_food_classes_10_percent/train/donuts'.\n",
            "There are 0 directories and 75 images in '/content/101_food_classes_10_percent/train/french_fries'.\n",
            "There are 0 directories and 75 images in '/content/101_food_classes_10_percent/train/beef_carpaccio'.\n",
            "There are 0 directories and 75 images in '/content/101_food_classes_10_percent/train/cheesecake'.\n",
            "There are 0 directories and 75 images in '/content/101_food_classes_10_percent/train/gyoza'.\n",
            "There are 0 directories and 75 images in '/content/101_food_classes_10_percent/train/beef_tartare'.\n",
            "There are 0 directories and 75 images in '/content/101_food_classes_10_percent/train/huevos_rancheros'.\n",
            "There are 0 directories and 75 images in '/content/101_food_classes_10_percent/train/miso_soup'.\n",
            "There are 0 directories and 75 images in '/content/101_food_classes_10_percent/train/french_toast'.\n",
            "There are 0 directories and 75 images in '/content/101_food_classes_10_percent/train/beignets'.\n",
            "There are 0 directories and 75 images in '/content/101_food_classes_10_percent/train/falafel'.\n",
            "There are 101 directories and 0 images in '/content/101_food_classes_10_percent/test'.\n",
            "There are 0 directories and 250 images in '/content/101_food_classes_10_percent/test/frozen_yogurt'.\n",
            "There are 0 directories and 250 images in '/content/101_food_classes_10_percent/test/pho'.\n",
            "There are 0 directories and 250 images in '/content/101_food_classes_10_percent/test/edamame'.\n",
            "There are 0 directories and 250 images in '/content/101_food_classes_10_percent/test/pork_chop'.\n",
            "There are 0 directories and 250 images in '/content/101_food_classes_10_percent/test/baklava'.\n",
            "There are 0 directories and 250 images in '/content/101_food_classes_10_percent/test/filet_mignon'.\n",
            "There are 0 directories and 250 images in '/content/101_food_classes_10_percent/test/spaghetti_carbonara'.\n",
            "There are 0 directories and 250 images in '/content/101_food_classes_10_percent/test/croque_madame'.\n",
            "There are 0 directories and 250 images in '/content/101_food_classes_10_percent/test/lobster_bisque'.\n",
            "There are 0 directories and 250 images in '/content/101_food_classes_10_percent/test/pulled_pork_sandwich'.\n",
            "There are 0 directories and 250 images in '/content/101_food_classes_10_percent/test/baby_back_ribs'.\n",
            "There are 0 directories and 250 images in '/content/101_food_classes_10_percent/test/takoyaki'.\n",
            "There are 0 directories and 250 images in '/content/101_food_classes_10_percent/test/deviled_eggs'.\n",
            "There are 0 directories and 250 images in '/content/101_food_classes_10_percent/test/pad_thai'.\n",
            "There are 0 directories and 250 images in '/content/101_food_classes_10_percent/test/poutine'.\n",
            "There are 0 directories and 250 images in '/content/101_food_classes_10_percent/test/caesar_salad'.\n",
            "There are 0 directories and 250 images in '/content/101_food_classes_10_percent/test/chocolate_cake'.\n",
            "There are 0 directories and 250 images in '/content/101_food_classes_10_percent/test/bibimbap'.\n",
            "There are 0 directories and 250 images in '/content/101_food_classes_10_percent/test/pizza'.\n",
            "There are 0 directories and 250 images in '/content/101_food_classes_10_percent/test/paella'.\n",
            "There are 0 directories and 250 images in '/content/101_food_classes_10_percent/test/hummus'.\n",
            "There are 0 directories and 250 images in '/content/101_food_classes_10_percent/test/chicken_curry'.\n",
            "There are 0 directories and 250 images in '/content/101_food_classes_10_percent/test/fried_rice'.\n",
            "There are 0 directories and 250 images in '/content/101_food_classes_10_percent/test/ice_cream'.\n",
            "There are 0 directories and 250 images in '/content/101_food_classes_10_percent/test/chocolate_mousse'.\n",
            "There are 0 directories and 250 images in '/content/101_food_classes_10_percent/test/tacos'.\n",
            "There are 0 directories and 250 images in '/content/101_food_classes_10_percent/test/lasagna'.\n",
            "There are 0 directories and 250 images in '/content/101_food_classes_10_percent/test/strawberry_shortcake'.\n",
            "There are 0 directories and 250 images in '/content/101_food_classes_10_percent/test/foie_gras'.\n",
            "There are 0 directories and 250 images in '/content/101_food_classes_10_percent/test/panna_cotta'.\n",
            "There are 0 directories and 250 images in '/content/101_food_classes_10_percent/test/french_onion_soup'.\n",
            "There are 0 directories and 250 images in '/content/101_food_classes_10_percent/test/fried_calamari'.\n",
            "There are 0 directories and 250 images in '/content/101_food_classes_10_percent/test/pancakes'.\n",
            "There are 0 directories and 250 images in '/content/101_food_classes_10_percent/test/grilled_salmon'.\n",
            "There are 0 directories and 250 images in '/content/101_food_classes_10_percent/test/greek_salad'.\n",
            "There are 0 directories and 250 images in '/content/101_food_classes_10_percent/test/macaroni_and_cheese'.\n",
            "There are 0 directories and 250 images in '/content/101_food_classes_10_percent/test/churros'.\n",
            "There are 0 directories and 250 images in '/content/101_food_classes_10_percent/test/cannoli'.\n",
            "There are 0 directories and 250 images in '/content/101_food_classes_10_percent/test/hot_and_sour_soup'.\n",
            "There are 0 directories and 250 images in '/content/101_food_classes_10_percent/test/hamburger'.\n",
            "There are 0 directories and 250 images in '/content/101_food_classes_10_percent/test/onion_rings'.\n",
            "There are 0 directories and 250 images in '/content/101_food_classes_10_percent/test/carrot_cake'.\n",
            "There are 0 directories and 250 images in '/content/101_food_classes_10_percent/test/steak'.\n",
            "There are 0 directories and 250 images in '/content/101_food_classes_10_percent/test/samosa'.\n",
            "There are 0 directories and 250 images in '/content/101_food_classes_10_percent/test/breakfast_burrito'.\n",
            "There are 0 directories and 250 images in '/content/101_food_classes_10_percent/test/bruschetta'.\n",
            "There are 0 directories and 250 images in '/content/101_food_classes_10_percent/test/tiramisu'.\n",
            "There are 0 directories and 250 images in '/content/101_food_classes_10_percent/test/shrimp_and_grits'.\n",
            "There are 0 directories and 250 images in '/content/101_food_classes_10_percent/test/caprese_salad'.\n",
            "There are 0 directories and 250 images in '/content/101_food_classes_10_percent/test/clam_chowder'.\n",
            "There are 0 directories and 250 images in '/content/101_food_classes_10_percent/test/creme_brulee'.\n",
            "There are 0 directories and 250 images in '/content/101_food_classes_10_percent/test/fish_and_chips'.\n",
            "There are 0 directories and 250 images in '/content/101_food_classes_10_percent/test/macarons'.\n",
            "There are 0 directories and 250 images in '/content/101_food_classes_10_percent/test/spaghetti_bolognese'.\n",
            "There are 0 directories and 250 images in '/content/101_food_classes_10_percent/test/grilled_cheese_sandwich'.\n",
            "There are 0 directories and 250 images in '/content/101_food_classes_10_percent/test/garlic_bread'.\n",
            "There are 0 directories and 250 images in '/content/101_food_classes_10_percent/test/chicken_wings'.\n",
            "There are 0 directories and 250 images in '/content/101_food_classes_10_percent/test/peking_duck'.\n",
            "There are 0 directories and 250 images in '/content/101_food_classes_10_percent/test/bread_pudding'.\n",
            "There are 0 directories and 250 images in '/content/101_food_classes_10_percent/test/omelette'.\n",
            "There are 0 directories and 250 images in '/content/101_food_classes_10_percent/test/guacamole'.\n",
            "There are 0 directories and 250 images in '/content/101_food_classes_10_percent/test/tuna_tartare'.\n",
            "There are 0 directories and 250 images in '/content/101_food_classes_10_percent/test/red_velvet_cake'.\n",
            "There are 0 directories and 250 images in '/content/101_food_classes_10_percent/test/ravioli'.\n",
            "There are 0 directories and 250 images in '/content/101_food_classes_10_percent/test/ramen'.\n",
            "There are 0 directories and 250 images in '/content/101_food_classes_10_percent/test/club_sandwich'.\n",
            "There are 0 directories and 250 images in '/content/101_food_classes_10_percent/test/mussels'.\n",
            "There are 0 directories and 250 images in '/content/101_food_classes_10_percent/test/risotto'.\n",
            "There are 0 directories and 250 images in '/content/101_food_classes_10_percent/test/crab_cakes'.\n",
            "There are 0 directories and 250 images in '/content/101_food_classes_10_percent/test/prime_rib'.\n",
            "There are 0 directories and 250 images in '/content/101_food_classes_10_percent/test/dumplings'.\n",
            "There are 0 directories and 250 images in '/content/101_food_classes_10_percent/test/scallops'.\n",
            "There are 0 directories and 250 images in '/content/101_food_classes_10_percent/test/beet_salad'.\n",
            "There are 0 directories and 250 images in '/content/101_food_classes_10_percent/test/sashimi'.\n",
            "There are 0 directories and 250 images in '/content/101_food_classes_10_percent/test/eggs_benedict'.\n",
            "There are 0 directories and 250 images in '/content/101_food_classes_10_percent/test/spring_rolls'.\n",
            "There are 0 directories and 250 images in '/content/101_food_classes_10_percent/test/seaweed_salad'.\n",
            "There are 0 directories and 250 images in '/content/101_food_classes_10_percent/test/gnocchi'.\n",
            "There are 0 directories and 250 images in '/content/101_food_classes_10_percent/test/nachos'.\n",
            "There are 0 directories and 250 images in '/content/101_food_classes_10_percent/test/chicken_quesadilla'.\n",
            "There are 0 directories and 250 images in '/content/101_food_classes_10_percent/test/waffles'.\n",
            "There are 0 directories and 250 images in '/content/101_food_classes_10_percent/test/ceviche'.\n",
            "There are 0 directories and 250 images in '/content/101_food_classes_10_percent/test/hot_dog'.\n",
            "There are 0 directories and 250 images in '/content/101_food_classes_10_percent/test/sushi'.\n",
            "There are 0 directories and 250 images in '/content/101_food_classes_10_percent/test/escargots'.\n",
            "There are 0 directories and 250 images in '/content/101_food_classes_10_percent/test/cheese_plate'.\n",
            "There are 0 directories and 250 images in '/content/101_food_classes_10_percent/test/apple_pie'.\n",
            "There are 0 directories and 250 images in '/content/101_food_classes_10_percent/test/lobster_roll_sandwich'.\n",
            "There are 0 directories and 250 images in '/content/101_food_classes_10_percent/test/oysters'.\n",
            "There are 0 directories and 250 images in '/content/101_food_classes_10_percent/test/cup_cakes'.\n",
            "There are 0 directories and 250 images in '/content/101_food_classes_10_percent/test/donuts'.\n",
            "There are 0 directories and 250 images in '/content/101_food_classes_10_percent/test/french_fries'.\n",
            "There are 0 directories and 250 images in '/content/101_food_classes_10_percent/test/beef_carpaccio'.\n",
            "There are 0 directories and 250 images in '/content/101_food_classes_10_percent/test/cheesecake'.\n",
            "There are 0 directories and 250 images in '/content/101_food_classes_10_percent/test/gyoza'.\n",
            "There are 0 directories and 250 images in '/content/101_food_classes_10_percent/test/beef_tartare'.\n",
            "There are 0 directories and 250 images in '/content/101_food_classes_10_percent/test/huevos_rancheros'.\n",
            "There are 0 directories and 250 images in '/content/101_food_classes_10_percent/test/miso_soup'.\n",
            "There are 0 directories and 250 images in '/content/101_food_classes_10_percent/test/french_toast'.\n",
            "There are 0 directories and 250 images in '/content/101_food_classes_10_percent/test/beignets'.\n",
            "There are 0 directories and 250 images in '/content/101_food_classes_10_percent/test/falafel'.\n"
          ]
        }
      ]
    },
    {
      "cell_type": "code",
      "source": [
        "# Setup data inputs\n",
        "import tensorflow as tf\n",
        "IMG_SIZE = (224, 224)\n",
        "train_data_10_percentage = tf.keras.preprocessing.image_dataset_from_directory(train_data,\n",
        "                                                                               label_mode='categorical',\n",
        "                                                                               image_size=IMG_SIZE,\n",
        "                                                                               )\n",
        "test_data_10_percentage = tf.keras.preprocessing.image_dataset_from_directory(test_data,\n",
        "                                                                               label_mode='categorical',\n",
        "                                                                               image_size=IMG_SIZE,\n",
        "                                                                               shuffle=False # don't shuffle\n",
        "                                                                               )"
      ],
      "metadata": {
        "colab": {
          "base_uri": "https://localhost:8080/"
        },
        "id": "4hGIsEqqKqw-",
        "outputId": "5ad8bedc-6721-4eab-bc4d-0b99fb0f37b1"
      },
      "execution_count": null,
      "outputs": [
        {
          "output_type": "stream",
          "name": "stdout",
          "text": [
            "Found 7575 files belonging to 101 classes.\n",
            "Found 25250 files belonging to 101 classes.\n"
          ]
        }
      ]
    },
    {
      "cell_type": "code",
      "source": [
        "# Create a model check_point call back\n",
        "check_point_path = '101_food_classes_10_percent_model_checkpoint/best_model_weights.weights.h5'\n",
        "check_point_callback = tf.keras.callbacks.ModelCheckpoint(check_point_path,\n",
        "                                                          monitor='val_accuracy',\n",
        "                                                          save_weights_only=True,\n",
        "                                                          save_best_only=True)"
      ],
      "metadata": {
        "id": "vtxQx1jIMSha"
      },
      "execution_count": null,
      "outputs": []
    },
    {
      "cell_type": "code",
      "source": [
        "from tensorflow.keras import layers\n",
        "#from tensorflow.keras.layers.experimental import preprocessing\n",
        "from tensorflow.keras.models import Sequential\n",
        "\n",
        "# Create a data Augmentation layer\n",
        "data_augmentation = Sequential([\n",
        "    layers.RandomFlip('horizontal'),\n",
        "    layers.RandomRotation(0.2),\n",
        "    layers.RandomZoom(0.2),\n",
        "    layers.RandomHeight(0.2),\n",
        "    layers.RandomWidth(0.2)\n",
        "], name='data_augmentation_layer')"
      ],
      "metadata": {
        "id": "LshuWjk9LSig"
      },
      "execution_count": null,
      "outputs": []
    },
    {
      "cell_type": "code",
      "source": [
        "# Setup the base model\n",
        "input_shape = (224, 224, 3)\n",
        "base_model = tf.keras.applications.EfficientNetB1(include_top=False)\n",
        "base_model.trainable = False\n",
        "\n",
        "# Setup model architecture with trainable top layers\n",
        "inputs = layers.Input(shape=input_shape, name='input_layer')\n",
        "x = data_augmentation(inputs)\n",
        "x = base_model(x, training=False)\n",
        "\n",
        "# Create a global Average pooling layer\n",
        "x = layers.GlobalAveragePooling2D(name='Global_avg_pool_layer')(x)\n",
        "\n",
        "# Create output layer\n",
        "outputs = layers.Dense(len(train_data_10_percentage.class_names), activation='softmax', name='output_layer')(x)\n",
        "\n",
        "# Build the model\n",
        "model = tf.keras.Model(inputs, outputs)"
      ],
      "metadata": {
        "colab": {
          "base_uri": "https://localhost:8080/"
        },
        "id": "1P5tGWhGOU1l",
        "outputId": "507f80cc-b1a4-4209-d720-cf599a26d789"
      },
      "execution_count": null,
      "outputs": [
        {
          "output_type": "stream",
          "name": "stdout",
          "text": [
            "Downloading data from https://storage.googleapis.com/keras-applications/efficientnetb1_notop.h5\n",
            "\u001b[1m27018416/27018416\u001b[0m \u001b[32m━━━━━━━━━━━━━━━━━━━━\u001b[0m\u001b[37m\u001b[0m \u001b[1m2s\u001b[0m 0us/step\n"
          ]
        }
      ]
    },
    {
      "cell_type": "code",
      "source": [
        "model.summary()"
      ],
      "metadata": {
        "colab": {
          "base_uri": "https://localhost:8080/",
          "height": 323
        },
        "id": "UesFwNfZPevE",
        "outputId": "6fa279ff-d732-44b4-96e8-8622ad9852e5"
      },
      "execution_count": null,
      "outputs": [
        {
          "output_type": "display_data",
          "data": {
            "text/plain": [
              "\u001b[1mModel: \"functional_1\"\u001b[0m\n"
            ],
            "text/html": [
              "<pre style=\"white-space:pre;overflow-x:auto;line-height:normal;font-family:Menlo,'DejaVu Sans Mono',consolas,'Courier New',monospace\"><span style=\"font-weight: bold\">Model: \"functional_1\"</span>\n",
              "</pre>\n"
            ]
          },
          "metadata": {}
        },
        {
          "output_type": "display_data",
          "data": {
            "text/plain": [
              "┏━━━━━━━━━━━━━━━━━━━━━━━━━━━━━━━━━━━━━━┳━━━━━━━━━━━━━━━━━━━━━━━━━━━━━┳━━━━━━━━━━━━━━━━━┓\n",
              "┃\u001b[1m \u001b[0m\u001b[1mLayer (type)                        \u001b[0m\u001b[1m \u001b[0m┃\u001b[1m \u001b[0m\u001b[1mOutput Shape               \u001b[0m\u001b[1m \u001b[0m┃\u001b[1m \u001b[0m\u001b[1m        Param #\u001b[0m\u001b[1m \u001b[0m┃\n",
              "┡━━━━━━━━━━━━━━━━━━━━━━━━━━━━━━━━━━━━━━╇━━━━━━━━━━━━━━━━━━━━━━━━━━━━━╇━━━━━━━━━━━━━━━━━┩\n",
              "│ input_layer (\u001b[38;5;33mInputLayer\u001b[0m)             │ (\u001b[38;5;45mNone\u001b[0m, \u001b[38;5;34m224\u001b[0m, \u001b[38;5;34m224\u001b[0m, \u001b[38;5;34m3\u001b[0m)         │               \u001b[38;5;34m0\u001b[0m │\n",
              "├──────────────────────────────────────┼─────────────────────────────┼─────────────────┤\n",
              "│ data_augmentation_layer (\u001b[38;5;33mSequential\u001b[0m) │ (\u001b[38;5;45mNone\u001b[0m, \u001b[38;5;45mNone\u001b[0m, \u001b[38;5;45mNone\u001b[0m, \u001b[38;5;34m3\u001b[0m)       │               \u001b[38;5;34m0\u001b[0m │\n",
              "├──────────────────────────────────────┼─────────────────────────────┼─────────────────┤\n",
              "│ efficientnetb1 (\u001b[38;5;33mFunctional\u001b[0m)          │ (\u001b[38;5;45mNone\u001b[0m, \u001b[38;5;45mNone\u001b[0m, \u001b[38;5;45mNone\u001b[0m, \u001b[38;5;34m1280\u001b[0m)    │       \u001b[38;5;34m6,575,239\u001b[0m │\n",
              "├──────────────────────────────────────┼─────────────────────────────┼─────────────────┤\n",
              "│ Global_avg_pool_layer                │ (\u001b[38;5;45mNone\u001b[0m, \u001b[38;5;34m1280\u001b[0m)                │               \u001b[38;5;34m0\u001b[0m │\n",
              "│ (\u001b[38;5;33mGlobalAveragePooling2D\u001b[0m)             │                             │                 │\n",
              "├──────────────────────────────────────┼─────────────────────────────┼─────────────────┤\n",
              "│ output_layer (\u001b[38;5;33mDense\u001b[0m)                 │ (\u001b[38;5;45mNone\u001b[0m, \u001b[38;5;34m101\u001b[0m)                 │         \u001b[38;5;34m129,381\u001b[0m │\n",
              "└──────────────────────────────────────┴─────────────────────────────┴─────────────────┘\n"
            ],
            "text/html": [
              "<pre style=\"white-space:pre;overflow-x:auto;line-height:normal;font-family:Menlo,'DejaVu Sans Mono',consolas,'Courier New',monospace\">┏━━━━━━━━━━━━━━━━━━━━━━━━━━━━━━━━━━━━━━┳━━━━━━━━━━━━━━━━━━━━━━━━━━━━━┳━━━━━━━━━━━━━━━━━┓\n",
              "┃<span style=\"font-weight: bold\"> Layer (type)                         </span>┃<span style=\"font-weight: bold\"> Output Shape                </span>┃<span style=\"font-weight: bold\">         Param # </span>┃\n",
              "┡━━━━━━━━━━━━━━━━━━━━━━━━━━━━━━━━━━━━━━╇━━━━━━━━━━━━━━━━━━━━━━━━━━━━━╇━━━━━━━━━━━━━━━━━┩\n",
              "│ input_layer (<span style=\"color: #0087ff; text-decoration-color: #0087ff\">InputLayer</span>)             │ (<span style=\"color: #00d7ff; text-decoration-color: #00d7ff\">None</span>, <span style=\"color: #00af00; text-decoration-color: #00af00\">224</span>, <span style=\"color: #00af00; text-decoration-color: #00af00\">224</span>, <span style=\"color: #00af00; text-decoration-color: #00af00\">3</span>)         │               <span style=\"color: #00af00; text-decoration-color: #00af00\">0</span> │\n",
              "├──────────────────────────────────────┼─────────────────────────────┼─────────────────┤\n",
              "│ data_augmentation_layer (<span style=\"color: #0087ff; text-decoration-color: #0087ff\">Sequential</span>) │ (<span style=\"color: #00d7ff; text-decoration-color: #00d7ff\">None</span>, <span style=\"color: #00d7ff; text-decoration-color: #00d7ff\">None</span>, <span style=\"color: #00d7ff; text-decoration-color: #00d7ff\">None</span>, <span style=\"color: #00af00; text-decoration-color: #00af00\">3</span>)       │               <span style=\"color: #00af00; text-decoration-color: #00af00\">0</span> │\n",
              "├──────────────────────────────────────┼─────────────────────────────┼─────────────────┤\n",
              "│ efficientnetb1 (<span style=\"color: #0087ff; text-decoration-color: #0087ff\">Functional</span>)          │ (<span style=\"color: #00d7ff; text-decoration-color: #00d7ff\">None</span>, <span style=\"color: #00d7ff; text-decoration-color: #00d7ff\">None</span>, <span style=\"color: #00d7ff; text-decoration-color: #00d7ff\">None</span>, <span style=\"color: #00af00; text-decoration-color: #00af00\">1280</span>)    │       <span style=\"color: #00af00; text-decoration-color: #00af00\">6,575,239</span> │\n",
              "├──────────────────────────────────────┼─────────────────────────────┼─────────────────┤\n",
              "│ Global_avg_pool_layer                │ (<span style=\"color: #00d7ff; text-decoration-color: #00d7ff\">None</span>, <span style=\"color: #00af00; text-decoration-color: #00af00\">1280</span>)                │               <span style=\"color: #00af00; text-decoration-color: #00af00\">0</span> │\n",
              "│ (<span style=\"color: #0087ff; text-decoration-color: #0087ff\">GlobalAveragePooling2D</span>)             │                             │                 │\n",
              "├──────────────────────────────────────┼─────────────────────────────┼─────────────────┤\n",
              "│ output_layer (<span style=\"color: #0087ff; text-decoration-color: #0087ff\">Dense</span>)                 │ (<span style=\"color: #00d7ff; text-decoration-color: #00d7ff\">None</span>, <span style=\"color: #00af00; text-decoration-color: #00af00\">101</span>)                 │         <span style=\"color: #00af00; text-decoration-color: #00af00\">129,381</span> │\n",
              "└──────────────────────────────────────┴─────────────────────────────┴─────────────────┘\n",
              "</pre>\n"
            ]
          },
          "metadata": {}
        },
        {
          "output_type": "display_data",
          "data": {
            "text/plain": [
              "\u001b[1m Total params: \u001b[0m\u001b[38;5;34m6,704,620\u001b[0m (25.58 MB)\n"
            ],
            "text/html": [
              "<pre style=\"white-space:pre;overflow-x:auto;line-height:normal;font-family:Menlo,'DejaVu Sans Mono',consolas,'Courier New',monospace\"><span style=\"font-weight: bold\"> Total params: </span><span style=\"color: #00af00; text-decoration-color: #00af00\">6,704,620</span> (25.58 MB)\n",
              "</pre>\n"
            ]
          },
          "metadata": {}
        },
        {
          "output_type": "display_data",
          "data": {
            "text/plain": [
              "\u001b[1m Trainable params: \u001b[0m\u001b[38;5;34m129,381\u001b[0m (505.39 KB)\n"
            ],
            "text/html": [
              "<pre style=\"white-space:pre;overflow-x:auto;line-height:normal;font-family:Menlo,'DejaVu Sans Mono',consolas,'Courier New',monospace\"><span style=\"font-weight: bold\"> Trainable params: </span><span style=\"color: #00af00; text-decoration-color: #00af00\">129,381</span> (505.39 KB)\n",
              "</pre>\n"
            ]
          },
          "metadata": {}
        },
        {
          "output_type": "display_data",
          "data": {
            "text/plain": [
              "\u001b[1m Non-trainable params: \u001b[0m\u001b[38;5;34m6,575,239\u001b[0m (25.08 MB)\n"
            ],
            "text/html": [
              "<pre style=\"white-space:pre;overflow-x:auto;line-height:normal;font-family:Menlo,'DejaVu Sans Mono',consolas,'Courier New',monospace\"><span style=\"font-weight: bold\"> Non-trainable params: </span><span style=\"color: #00af00; text-decoration-color: #00af00\">6,575,239</span> (25.08 MB)\n",
              "</pre>\n"
            ]
          },
          "metadata": {}
        }
      ]
    },
    {
      "cell_type": "code",
      "source": [
        "# Compile our model\n",
        "model.compile(loss='categorical_crossentropy',\n",
        "              optimizer=tf.keras.optimizers.Adam(),\n",
        "              metrics=['accuracy'])\n",
        "\n",
        "# Fit our Model\n",
        "history_1 = model.fit(train_data_10_percentage,\n",
        "                      epochs=5,\n",
        "                      validation_data=test_data_10_percentage,\n",
        "                      validation_steps=int(0.15 * len(test_data_10_percentage) // 32),\n",
        "                      callbacks=[check_point_callback])"
      ],
      "metadata": {
        "colab": {
          "base_uri": "https://localhost:8080/"
        },
        "id": "Bdo40U5NSQtM",
        "outputId": "d3cab460-2c66-4022-8405-df6984ccedd6"
      },
      "execution_count": null,
      "outputs": [
        {
          "output_type": "stream",
          "name": "stdout",
          "text": [
            "Epoch 1/5\n",
            "\u001b[1m237/237\u001b[0m \u001b[32m━━━━━━━━━━━━━━━━━━━━\u001b[0m\u001b[37m\u001b[0m \u001b[1m53s\u001b[0m 164ms/step - accuracy: 0.4349 - loss: 2.3991 - val_accuracy: 0.1354 - val_loss: 3.3013\n",
            "Epoch 2/5\n",
            "\u001b[1m237/237\u001b[0m \u001b[32m━━━━━━━━━━━━━━━━━━━━\u001b[0m\u001b[37m\u001b[0m \u001b[1m35s\u001b[0m 140ms/step - accuracy: 0.5300 - loss: 1.9250 - val_accuracy: 0.1354 - val_loss: 3.0995\n",
            "Epoch 3/5\n",
            "\u001b[1m237/237\u001b[0m \u001b[32m━━━━━━━━━━━━━━━━━━━━\u001b[0m\u001b[37m\u001b[0m \u001b[1m41s\u001b[0m 142ms/step - accuracy: 0.5788 - loss: 1.7025 - val_accuracy: 0.1458 - val_loss: 3.1878\n",
            "Epoch 4/5\n",
            "\u001b[1m237/237\u001b[0m \u001b[32m━━━━━━━━━━━━━━━━━━━━\u001b[0m\u001b[37m\u001b[0m \u001b[1m40s\u001b[0m 137ms/step - accuracy: 0.6115 - loss: 1.5505 - val_accuracy: 0.1458 - val_loss: 3.0314\n",
            "Epoch 5/5\n",
            "\u001b[1m237/237\u001b[0m \u001b[32m━━━━━━━━━━━━━━━━━━━━\u001b[0m\u001b[37m\u001b[0m \u001b[1m42s\u001b[0m 142ms/step - accuracy: 0.6397 - loss: 1.4426 - val_accuracy: 0.1667 - val_loss: 3.0868\n"
          ]
        }
      ]
    },
    {
      "cell_type": "code",
      "source": [
        "fine_tuning_results = model.evaluate(test_data_10_percentage)\n",
        "fine_tuning_results"
      ],
      "metadata": {
        "colab": {
          "base_uri": "https://localhost:8080/"
        },
        "id": "JuUjoPGb6CaF",
        "outputId": "76c4df14-882a-4e4c-cbb5-fe7d25448dd4"
      },
      "execution_count": null,
      "outputs": [
        {
          "output_type": "stream",
          "name": "stdout",
          "text": [
            "\u001b[1m790/790\u001b[0m \u001b[32m━━━━━━━━━━━━━━━━━━━━\u001b[0m\u001b[37m\u001b[0m \u001b[1m75s\u001b[0m 95ms/step - accuracy: 0.5673 - loss: 1.6494\n"
          ]
        },
        {
          "output_type": "execute_result",
          "data": {
            "text/plain": [
              "[1.551254153251648, 0.5876039862632751]"
            ]
          },
          "metadata": {},
          "execution_count": 16
        }
      ]
    },
    {
      "cell_type": "code",
      "source": [
        "plot_loss_curves(history_1)"
      ],
      "metadata": {
        "colab": {
          "base_uri": "https://localhost:8080/",
          "height": 927
        },
        "id": "Dqz3etZ9793Z",
        "outputId": "37b2df38-21ff-480f-f4fd-f3613545532f"
      },
      "execution_count": null,
      "outputs": [
        {
          "output_type": "display_data",
          "data": {
            "text/plain": [
              "<Figure size 640x480 with 1 Axes>"
            ],
            "image/png": "[encoded data removed]"
          },
          "metadata": {}
        },
        {
          "output_type": "display_data",
          "data": {
            "text/plain": [
              "<Figure size 640x480 with 1 Axes>"
            ],
            "image/png": "[encoded data removed]"
          },
          "metadata": {}
        }
      ]
    },
    {
      "cell_type": "code",
      "source": [
        "# Fine tuning\n",
        "# Unfreeze all of the layers\n",
        "base_model.trainable = True\n",
        "\n",
        "# Refreeze every layer except last 10 layers\n",
        "for layer in base_model.layers[:-10]:\n",
        "  layer.trainable = False"
      ],
      "metadata": {
        "id": "AHwjlP138e4-"
      },
      "execution_count": null,
      "outputs": []
    },
    {
      "cell_type": "code",
      "source": [
        "for layer_no, layer in enumerate(base_model.layers):\n",
        "  print(layer_no, layer.name, layer.trainable)"
      ],
      "metadata": {
        "colab": {
          "base_uri": "https://localhost:8080/"
        },
        "collapsed": true,
        "id": "FyrIV2U6-Ig0",
        "outputId": "f52b2542-f788-4622-cb4e-47683c326cd9"
      },
      "execution_count": null,
      "outputs": [
        {
          "output_type": "stream",
          "name": "stdout",
          "text": [
            "0 input_layer False\n",
            "1 rescaling False\n",
            "2 normalization False\n",
            "3 rescaling_1 False\n",
            "4 stem_conv_pad False\n",
            "5 stem_conv False\n",
            "6 stem_bn False\n",
            "7 stem_activation False\n",
            "8 block1a_dwconv False\n",
            "9 block1a_bn False\n",
            "10 block1a_activation False\n",
            "11 block1a_se_squeeze False\n",
            "12 block1a_se_reshape False\n",
            "13 block1a_se_reduce False\n",
            "14 block1a_se_expand False\n",
            "15 block1a_se_excite False\n",
            "16 block1a_project_conv False\n",
            "17 block1a_project_bn False\n",
            "18 block1b_dwconv False\n",
            "19 block1b_bn False\n",
            "20 block1b_activation False\n",
            "21 block1b_se_squeeze False\n",
            "22 block1b_se_reshape False\n",
            "23 block1b_se_reduce False\n",
            "24 block1b_se_expand False\n",
            "25 block1b_se_excite False\n",
            "26 block1b_project_conv False\n",
            "27 block1b_project_bn False\n",
            "28 block1b_drop False\n",
            "29 block1b_add False\n",
            "30 block2a_expand_conv False\n",
            "31 block2a_expand_bn False\n",
            "32 block2a_expand_activation False\n",
            "33 block2a_dwconv_pad False\n",
            "34 block2a_dwconv False\n",
            "35 block2a_bn False\n",
            "36 block2a_activation False\n",
            "37 block2a_se_squeeze False\n",
            "38 block2a_se_reshape False\n",
            "39 block2a_se_reduce False\n",
            "40 block2a_se_expand False\n",
            "41 block2a_se_excite False\n",
            "42 block2a_project_conv False\n",
            "43 block2a_project_bn False\n",
            "44 block2b_expand_conv False\n",
            "45 block2b_expand_bn False\n",
            "46 block2b_expand_activation False\n",
            "47 block2b_dwconv False\n",
            "48 block2b_bn False\n",
            "49 block2b_activation False\n",
            "50 block2b_se_squeeze False\n",
            "51 block2b_se_reshape False\n",
            "52 block2b_se_reduce False\n",
            "53 block2b_se_expand False\n",
            "54 block2b_se_excite False\n",
            "55 block2b_project_conv False\n",
            "56 block2b_project_bn False\n",
            "57 block2b_drop False\n",
            "58 block2b_add False\n",
            "59 block2c_expand_conv False\n",
            "60 block2c_expand_bn False\n",
            "61 block2c_expand_activation False\n",
            "62 block2c_dwconv False\n",
            "63 block2c_bn False\n",
            "64 block2c_activation False\n",
            "65 block2c_se_squeeze False\n",
            "66 block2c_se_reshape False\n",
            "67 block2c_se_reduce False\n",
            "68 block2c_se_expand False\n",
            "69 block2c_se_excite False\n",
            "70 block2c_project_conv False\n",
            "71 block2c_project_bn False\n",
            "72 block2c_drop False\n",
            "73 block2c_add False\n",
            "74 block3a_expand_conv False\n",
            "75 block3a_expand_bn False\n",
            "76 block3a_expand_activation False\n",
            "77 block3a_dwconv_pad False\n",
            "78 block3a_dwconv False\n",
            "79 block3a_bn False\n",
            "80 block3a_activation False\n",
            "81 block3a_se_squeeze False\n",
            "82 block3a_se_reshape False\n",
            "83 block3a_se_reduce False\n",
            "84 block3a_se_expand False\n",
            "85 block3a_se_excite False\n",
            "86 block3a_project_conv False\n",
            "87 block3a_project_bn False\n",
            "88 block3b_expand_conv False\n",
            "89 block3b_expand_bn False\n",
            "90 block3b_expand_activation False\n",
            "91 block3b_dwconv False\n",
            "92 block3b_bn False\n",
            "93 block3b_activation False\n",
            "94 block3b_se_squeeze False\n",
            "95 block3b_se_reshape False\n",
            "96 block3b_se_reduce False\n",
            "97 block3b_se_expand False\n",
            "98 block3b_se_excite False\n",
            "99 block3b_project_conv False\n",
            "100 block3b_project_bn False\n",
            "101 block3b_drop False\n",
            "102 block3b_add False\n",
            "103 block3c_expand_conv False\n",
            "104 block3c_expand_bn False\n",
            "105 block3c_expand_activation False\n",
            "106 block3c_dwconv False\n",
            "107 block3c_bn False\n",
            "108 block3c_activation False\n",
            "109 block3c_se_squeeze False\n",
            "110 block3c_se_reshape False\n",
            "111 block3c_se_reduce False\n",
            "112 block3c_se_expand False\n",
            "113 block3c_se_excite False\n",
            "114 block3c_project_conv False\n",
            "115 block3c_project_bn False\n",
            "116 block3c_drop False\n",
            "117 block3c_add False\n",
            "118 block4a_expand_conv False\n",
            "119 block4a_expand_bn False\n",
            "120 block4a_expand_activation False\n",
            "121 block4a_dwconv_pad False\n",
            "122 block4a_dwconv False\n",
            "123 block4a_bn False\n",
            "124 block4a_activation False\n",
            "125 block4a_se_squeeze False\n",
            "126 block4a_se_reshape False\n",
            "127 block4a_se_reduce False\n",
            "128 block4a_se_expand False\n",
            "129 block4a_se_excite False\n",
            "130 block4a_project_conv False\n",
            "131 block4a_project_bn False\n",
            "132 block4b_expand_conv False\n",
            "133 block4b_expand_bn False\n",
            "134 block4b_expand_activation False\n",
            "135 block4b_dwconv False\n",
            "136 block4b_bn False\n",
            "137 block4b_activation False\n",
            "138 block4b_se_squeeze False\n",
            "139 block4b_se_reshape False\n",
            "140 block4b_se_reduce False\n",
            "141 block4b_se_expand False\n",
            "142 block4b_se_excite False\n",
            "143 block4b_project_conv False\n",
            "144 block4b_project_bn False\n",
            "145 block4b_drop False\n",
            "146 block4b_add False\n",
            "147 block4c_expand_conv False\n",
            "148 block4c_expand_bn False\n",
            "149 block4c_expand_activation False\n",
            "150 block4c_dwconv False\n",
            "151 block4c_bn False\n",
            "152 block4c_activation False\n",
            "153 block4c_se_squeeze False\n",
            "154 block4c_se_reshape False\n",
            "155 block4c_se_reduce False\n",
            "156 block4c_se_expand False\n",
            "157 block4c_se_excite False\n",
            "158 block4c_project_conv False\n",
            "159 block4c_project_bn False\n",
            "160 block4c_drop False\n",
            "161 block4c_add False\n",
            "162 block4d_expand_conv False\n",
            "163 block4d_expand_bn False\n",
            "164 block4d_expand_activation False\n",
            "165 block4d_dwconv False\n",
            "166 block4d_bn False\n",
            "167 block4d_activation False\n",
            "168 block4d_se_squeeze False\n",
            "169 block4d_se_reshape False\n",
            "170 block4d_se_reduce False\n",
            "171 block4d_se_expand False\n",
            "172 block4d_se_excite False\n",
            "173 block4d_project_conv False\n",
            "174 block4d_project_bn False\n",
            "175 block4d_drop False\n",
            "176 block4d_add False\n",
            "177 block5a_expand_conv False\n",
            "178 block5a_expand_bn False\n",
            "179 block5a_expand_activation False\n",
            "180 block5a_dwconv False\n",
            "181 block5a_bn False\n",
            "182 block5a_activation False\n",
            "183 block5a_se_squeeze False\n",
            "184 block5a_se_reshape False\n",
            "185 block5a_se_reduce False\n",
            "186 block5a_se_expand False\n",
            "187 block5a_se_excite False\n",
            "188 block5a_project_conv False\n",
            "189 block5a_project_bn False\n",
            "190 block5b_expand_conv False\n",
            "191 block5b_expand_bn False\n",
            "192 block5b_expand_activation False\n",
            "193 block5b_dwconv False\n",
            "194 block5b_bn False\n",
            "195 block5b_activation False\n",
            "196 block5b_se_squeeze False\n",
            "197 block5b_se_reshape False\n",
            "198 block5b_se_reduce False\n",
            "199 block5b_se_expand False\n",
            "200 block5b_se_excite False\n",
            "201 block5b_project_conv False\n",
            "202 block5b_project_bn False\n",
            "203 block5b_drop False\n",
            "204 block5b_add False\n",
            "205 block5c_expand_conv False\n",
            "206 block5c_expand_bn False\n",
            "207 block5c_expand_activation False\n",
            "208 block5c_dwconv False\n",
            "209 block5c_bn False\n",
            "210 block5c_activation False\n",
            "211 block5c_se_squeeze False\n",
            "212 block5c_se_reshape False\n",
            "213 block5c_se_reduce False\n",
            "214 block5c_se_expand False\n",
            "215 block5c_se_excite False\n",
            "216 block5c_project_conv False\n",
            "217 block5c_project_bn False\n",
            "218 block5c_drop False\n",
            "219 block5c_add False\n",
            "220 block5d_expand_conv False\n",
            "221 block5d_expand_bn False\n",
            "222 block5d_expand_activation False\n",
            "223 block5d_dwconv False\n",
            "224 block5d_bn False\n",
            "225 block5d_activation False\n",
            "226 block5d_se_squeeze False\n",
            "227 block5d_se_reshape False\n",
            "228 block5d_se_reduce False\n",
            "229 block5d_se_expand False\n",
            "230 block5d_se_excite False\n",
            "231 block5d_project_conv False\n",
            "232 block5d_project_bn False\n",
            "233 block5d_drop False\n",
            "234 block5d_add False\n",
            "235 block6a_expand_conv False\n",
            "236 block6a_expand_bn False\n",
            "237 block6a_expand_activation False\n",
            "238 block6a_dwconv_pad False\n",
            "239 block6a_dwconv False\n",
            "240 block6a_bn False\n",
            "241 block6a_activation False\n",
            "242 block6a_se_squeeze False\n",
            "243 block6a_se_reshape False\n",
            "244 block6a_se_reduce False\n",
            "245 block6a_se_expand False\n",
            "246 block6a_se_excite False\n",
            "247 block6a_project_conv False\n",
            "248 block6a_project_bn False\n",
            "249 block6b_expand_conv False\n",
            "250 block6b_expand_bn False\n",
            "251 block6b_expand_activation False\n",
            "252 block6b_dwconv False\n",
            "253 block6b_bn False\n",
            "254 block6b_activation False\n",
            "255 block6b_se_squeeze False\n",
            "256 block6b_se_reshape False\n",
            "257 block6b_se_reduce False\n",
            "258 block6b_se_expand False\n",
            "259 block6b_se_excite False\n",
            "260 block6b_project_conv False\n",
            "261 block6b_project_bn False\n",
            "262 block6b_drop False\n",
            "263 block6b_add False\n",
            "264 block6c_expand_conv False\n",
            "265 block6c_expand_bn False\n",
            "266 block6c_expand_activation False\n",
            "267 block6c_dwconv False\n",
            "268 block6c_bn False\n",
            "269 block6c_activation False\n",
            "270 block6c_se_squeeze False\n",
            "271 block6c_se_reshape False\n",
            "272 block6c_se_reduce False\n",
            "273 block6c_se_expand False\n",
            "274 block6c_se_excite False\n",
            "275 block6c_project_conv False\n",
            "276 block6c_project_bn False\n",
            "277 block6c_drop False\n",
            "278 block6c_add False\n",
            "279 block6d_expand_conv False\n",
            "280 block6d_expand_bn False\n",
            "281 block6d_expand_activation False\n",
            "282 block6d_dwconv False\n",
            "283 block6d_bn False\n",
            "284 block6d_activation False\n",
            "285 block6d_se_squeeze False\n",
            "286 block6d_se_reshape False\n",
            "287 block6d_se_reduce False\n",
            "288 block6d_se_expand False\n",
            "289 block6d_se_excite False\n",
            "290 block6d_project_conv False\n",
            "291 block6d_project_bn False\n",
            "292 block6d_drop False\n",
            "293 block6d_add False\n",
            "294 block6e_expand_conv False\n",
            "295 block6e_expand_bn False\n",
            "296 block6e_expand_activation False\n",
            "297 block6e_dwconv False\n",
            "298 block6e_bn False\n",
            "299 block6e_activation False\n",
            "300 block6e_se_squeeze False\n",
            "301 block6e_se_reshape False\n",
            "302 block6e_se_reduce False\n",
            "303 block6e_se_expand False\n",
            "304 block6e_se_excite False\n",
            "305 block6e_project_conv False\n",
            "306 block6e_project_bn False\n",
            "307 block6e_drop False\n",
            "308 block6e_add False\n",
            "309 block7a_expand_conv False\n",
            "310 block7a_expand_bn False\n",
            "311 block7a_expand_activation False\n",
            "312 block7a_dwconv False\n",
            "313 block7a_bn False\n",
            "314 block7a_activation False\n",
            "315 block7a_se_squeeze False\n",
            "316 block7a_se_reshape False\n",
            "317 block7a_se_reduce False\n",
            "318 block7a_se_expand False\n",
            "319 block7a_se_excite False\n",
            "320 block7a_project_conv False\n",
            "321 block7a_project_bn False\n",
            "322 block7b_expand_conv False\n",
            "323 block7b_expand_bn False\n",
            "324 block7b_expand_activation False\n",
            "325 block7b_dwconv False\n",
            "326 block7b_bn False\n",
            "327 block7b_activation False\n",
            "328 block7b_se_squeeze False\n",
            "329 block7b_se_reshape False\n",
            "330 block7b_se_reduce True\n",
            "331 block7b_se_expand True\n",
            "332 block7b_se_excite True\n",
            "333 block7b_project_conv True\n",
            "334 block7b_project_bn True\n",
            "335 block7b_drop True\n",
            "336 block7b_add True\n",
            "337 top_conv True\n",
            "338 top_bn True\n",
            "339 top_activation True\n"
          ]
        }
      ]
    },
    {
      "cell_type": "code",
      "source": [
        "# Compile the model again\n",
        "model.compile(loss='categorical_crossentropy',\n",
        "              optimizer=tf.keras.optimizers.Adam(0.0001),\n",
        "              metrics=['accuracy'])\n",
        "\n",
        "fine_tune_epochs = 10\n",
        "\n",
        "history_2 = model.fit(train_data_10_percentage,\n",
        "                      epochs = fine_tune_epochs,\n",
        "                      initial_epoch=history_1.epoch[-1],\n",
        "                       validation_data=test_data_10_percentage,\n",
        "                      validation_steps=int(0.15 * len(test_data_10_percentage) // 32),\n",
        "                      callbacks=[check_point_callback]\n",
        "                      )"
      ],
      "metadata": {
        "colab": {
          "base_uri": "https://localhost:8080/"
        },
        "id": "HHPr8Rx6-ZU5",
        "outputId": "d840c73d-4575-485f-f6a7-dc3599733afa"
      },
      "execution_count": null,
      "outputs": [
        {
          "output_type": "stream",
          "name": "stdout",
          "text": [
            "Epoch 5/10\n",
            "\u001b[1m237/237\u001b[0m \u001b[32m━━━━━━━━━━━━━━━━━━━━\u001b[0m\u001b[37m\u001b[0m \u001b[1m55s\u001b[0m 164ms/step - accuracy: 0.6273 - loss: 1.5366 - val_accuracy: 0.1979 - val_loss: 3.1422\n",
            "Epoch 6/10\n",
            "\u001b[1m237/237\u001b[0m \u001b[32m━━━━━━━━━━━━━━━━━━━━\u001b[0m\u001b[37m\u001b[0m \u001b[1m41s\u001b[0m 173ms/step - accuracy: 0.6803 - loss: 1.3130 - val_accuracy: 0.2188 - val_loss: 3.1137\n",
            "Epoch 7/10\n",
            "\u001b[1m237/237\u001b[0m \u001b[32m━━━━━━━━━━━━━━━━━━━━\u001b[0m\u001b[37m\u001b[0m \u001b[1m34s\u001b[0m 142ms/step - accuracy: 0.6974 - loss: 1.2113 - val_accuracy: 0.2500 - val_loss: 2.8993\n",
            "Epoch 8/10\n",
            "\u001b[1m237/237\u001b[0m \u001b[32m━━━━━━━━━━━━━━━━━━━━\u001b[0m\u001b[37m\u001b[0m \u001b[1m40s\u001b[0m 170ms/step - accuracy: 0.7062 - loss: 1.1538 - val_accuracy: 0.2188 - val_loss: 3.0451\n",
            "Epoch 9/10\n",
            "\u001b[1m237/237\u001b[0m \u001b[32m━━━━━━━━━━━━━━━━━━━━\u001b[0m\u001b[37m\u001b[0m \u001b[1m34s\u001b[0m 141ms/step - accuracy: 0.7318 - loss: 1.0902 - val_accuracy: 0.2500 - val_loss: 2.9435\n",
            "Epoch 10/10\n",
            "\u001b[1m237/237\u001b[0m \u001b[32m━━━━━━━━━━━━━━━━━━━━\u001b[0m\u001b[37m\u001b[0m \u001b[1m42s\u001b[0m 144ms/step - accuracy: 0.7395 - loss: 1.0327 - val_accuracy: 0.2604 - val_loss: 2.8566\n"
          ]
        }
      ]
    },
    {
      "cell_type": "code",
      "source": [
        "plot_loss_curves(history_2)"
      ],
      "metadata": {
        "colab": {
          "base_uri": "https://localhost:8080/",
          "height": 927
        },
        "id": "CBl2njabAter",
        "outputId": "9d6aef9b-1aee-4b25-a9df-9f1735e39ba7"
      },
      "execution_count": null,
      "outputs": [
        {
          "output_type": "display_data",
          "data": {
            "text/plain": [
              "<Figure size 640x480 with 1 Axes>"
            ],
            "image/png": "[encoded data removed]"
          },
          "metadata": {}
        },
        {
          "output_type": "display_data",
          "data": {
            "text/plain": [
              "<Figure size 640x480 with 1 Axes>"
            ],
            "image/png": "[encoded data removed]"
          },
          "metadata": {}
        }
      ]
    },
    {
      "cell_type": "code",
      "source": [
        "model.evaluate(test_data_10_percentage)"
      ],
      "metadata": {
        "colab": {
          "base_uri": "https://localhost:8080/"
        },
        "id": "WaAfmxmUA17k",
        "outputId": "1987a9d7-a6f6-4524-fccc-c64e8bb5e30b"
      },
      "execution_count": null,
      "outputs": [
        {
          "output_type": "stream",
          "name": "stdout",
          "text": [
            "\u001b[1m790/790\u001b[0m \u001b[32m━━━━━━━━━━━━━━━━━━━━\u001b[0m\u001b[37m\u001b[0m \u001b[1m75s\u001b[0m 95ms/step - accuracy: 0.6047 - loss: 1.5031\n"
          ]
        },
        {
          "output_type": "execute_result",
          "data": {
            "text/plain": [
              "[1.4059181213378906, 0.6236435770988464]"
            ]
          },
          "metadata": {},
          "execution_count": 23
        }
      ]
    },
    {
      "cell_type": "code",
      "source": [
        "compare_historys(history_1, history_2, initial_epochs=5)"
      ],
      "metadata": {
        "colab": {
          "base_uri": "https://localhost:8080/",
          "height": 709
        },
        "id": "Mxc_mlFxBc6B",
        "outputId": "9b5a8a94-d5d0-4942-ecd7-449bc0a719b8"
      },
      "execution_count": null,
      "outputs": [
        {
          "output_type": "display_data",
          "data": {
            "text/plain": [
              "<Figure size 800x800 with 1 Axes>"
            ],
            "image/png": "[encoded data removed]"
          },
          "metadata": {}
        },
        {
          "output_type": "display_data",
          "data": {
            "text/plain": [
              "<Figure size 800x800 with 1 Axes>"
            ],
            "image/png": "[encoded data removed]"
          },
          "metadata": {}
        }
      ]
    },
    {
      "cell_type": "markdown",
      "source": [],
      "metadata": {
        "id": "tYXMMoi9_laO"
      }
    }
  ]
}